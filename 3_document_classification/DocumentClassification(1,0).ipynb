{
 "cells": [
  {
   "cell_type": "markdown",
   "metadata": {},
   "source": [
    "# Data Mining Versuch Document Classification\n",
    "* Autor: Prof. Dr. Johannes Maucher\n",
    "* Datum: 06.11.2015\n",
    "\n",
    "[Übersicht Versuche im Data Mining Praktikum](http://maucher.pages.mi.hdm-stuttgart.de/ai/page/dm/)\n",
    "\n",
    "# Einführung\n",
    "## Lernziele:\n",
    "In diesem Versuch sollen Kenntnisse in folgenden Themen vermittelt werden:\n",
    "\n",
    "* Dokumentklassifikation: Klassifikation von Dokumenten, insbesondere Emails und RSS Feed\n",
    "* Naive Bayes Classifier: Weit verbreitete Klassifikationsmethode, welche unter bestimmten Randbedingungen sehr gut skaliert.\n",
    "\n",
    "\n",
    "## Theorie zur Vorbereitung\n",
    "### Parametrische Klassifikation und Naive Bayes Methode\n",
    "Klassifikatoren müssen zu einer gegebenen Eingabe $\\underline{x}$ die zugehörige Klasse $C_i$ bestimmen. Mithilfe der Wahrscheinlichkeitstheorie kann diese Aufgabe wie folgt beschrieben werden: Bestimme für alle möglichen Klassen $C_i$ die bedingte Wahrscheinlichkeit $P(C_i | \\underline{x})$, also die Wahrscheinlichkeit, dass die gegebene Eingabe $\\underline{x}$ in Klasse $C_i$ fällt. Wähle dann die Klasse aus, für welche diese Wahrscheinlichkeit maximal ist.\n",
    "\n",
    "Die Entscheidungsregeln von Klassifikatoren können mit Methoden des \"überwachten Lernens\" aus Trainingsdaten ermittelt werden. Im Fall des **parametrischen Lernens** kann aus den Trainingsdaten die sogenannte **Likelihood-Funktion** $p(\\underline{x} \\mid C_i)$ bestimmt werden. _Anmerkung:_ Allgemein werden mit $p(...)$ kontinuierliche Wahrscheinlichkeitsfunktionen und mit $P(...)$ diskrete Wahrscheinlichkeitswerte bezeichnet. \n",
    "\n",
    "Mithilfe der **Bayes-Formel**\n",
    "$$\n",
    "P(C_i \\mid \\underline{x}) = \\frac{p(\\underline{x} \\mid C_i) \\cdot P(C_i)}{p(\\underline{x})}\n",
    "$$\n",
    "\n",
    "kann aus der Likelihood die **a-posteriori-Wahrscheinlichkeit $P(C_i \\mid \\underline{x})$** berechnet werden. Darin wird $P(C_i)$ die **a-priori-Wahrscheinlichkeit** und $p(\\underline{x})$ die **Evidenz** genannt. Die a-priori-Wahrscheinlichkeit kann ebenfalls aus den Trainingsdaten ermittelt werden. Die Evidenz ist für die Klassifikationsentscheidung nicht relevant, da sie für alle Klassen $C_i$ gleich groß ist.\n",
    "\n",
    "Die Berechnung der Likelihood-Funktion $p(\\underline{x} \\mid C_i)$ ist dann sehr aufwendig, wenn $\\underline{x}=(x_1,x_2,\\ldots,x_Z)$ ein Vektor von voneinander abhängigen Variablen $x_i$ ist. Bei der **Naive Bayes Classification** wird jedoch von der vereinfachenden Annahme ausgegangen, dass die Eingabevariabeln $x_i$ voneinander unabhängig sind. Dann vereinfacht sich die bedingte Verbundwahrscheinlichkeits-Funktion $p(x_1,x_2,\\ldots,x_Z \\mid C_i)$ zu:\n",
    "\n",
    "$$\n",
    "p(x_1,x_2,\\ldots,x_Z \\mid C_i)=\\prod\\limits_{j=1}^Z p(x_j | C_i)\n",
    "$$\n",
    "\n",
    "### Anwendung der Naive Bayes Methode in der Dokumentklassifikation\n",
    "Auf der rechten Seite der vorigen Gleichung stehen nur noch von den jeweils anderen Variablen unabhängige bedingte Wahrscheinlichkeiten. Im Fall der Dokumentklassifikation sind die einzelnen Worte die Variablen, d.h. ein Ausdruck der Form $P(x_j | C_i)$ gibt an mit welcher Wahrscheinlichkeit ein Wort $x_j=w$ in einem Dokument der Klasse $C_i$ vorkommt. \n",
    "Die Menge aller Variablen $\\left\\{x_1,x_2,\\ldots,x_Z \\right\\}$ ist dann die Menge aller Wörter im Dokument. Damit gibt die linke Seite in der oben gegebenen Gleichung die *Wahrscheinlichkeit, dass die Wörter $\\left\\{x_1,x_2,\\ldots,x_Z \\right\\}$ in einem Dokument der Klasse $C_i$ vorkommen*, an.\n",
    "\n",
    "Für jedes Wort _w_ wird aus den Trainingsdaten die Wahrscheinlichkeit $P(w|G)$, mit der das Wort in Dokumenten der Kategorie _Good_ und die Wahrscheinlichkeit $P(w|B)$ mit der das Wort in Dokumenten der Kategorie _Bad_ auftaucht ermittelt. Trainingsdokumente werden in der Form\n",
    "\n",
    "$$\n",
    "tD=(String,Category)\n",
    "$$\n",
    "eingegeben. \n",
    "\n",
    "Wenn \n",
    "\n",
    "* mit der Variable $fc(w,cat)$ die Anzahl der Trainingsdokumente in Kategorie $cat$ in denen das Wort $w$ enthalten ist\n",
    "* mit der Variable $cc(cat)$ die Anzahl der Trainingsdokumente in Kategorie $cat$ \n",
    "\n",
    "gezählt wird, dann ist \n",
    "\n",
    "$$\n",
    "P(w|G)=\\frac{fc(w,G)}{cc(G)} \\quad \\quad P(w|B)=\\frac{fc(w,B)}{cc(B)}.\n",
    "$$\n",
    "\n",
    "Wird nun nach der Eingabe von $L$ Trainingsdokumenten ein neu zu klassifizierendes Dokument $D$ eingegeben und sei $W(D)$ die Menge aller Wörter in $D$, dann berechnen sich unter der Annahme, dass die Worte in $W(D)$ voneinander unabhängig sind (naive Bayes Annahme) die a-posteriori Wahrscheinlichkeiten zu:\n",
    "\n",
    "$$\n",
    "P(G|D)=\\frac{\\left( \\prod\\limits_{w \\in W(D)} P(w | G) \\right) \\cdot P(G)}{p(D)}\n",
    "$$\n",
    "und\n",
    "$$\n",
    "P(B|D)=\\frac{\\left( \\prod\\limits_{w \\in W(D)} P(w | B) \\right) \\cdot P(B)}{p(D)}.\n",
    "$$\n",
    "\n",
    "Die hierfür notwendigen a-priori-Wahrscheinlichkeiten berechnen sich zu \n",
    "\n",
    "$$\n",
    "P(G)=\\frac{cc(G)}{L}\n",
    "$$\n",
    "und\n",
    "$$\n",
    "P(B)=\\frac{cc(B)}{L}\n",
    "$$\n",
    "\n",
    "Die Evidenz $p(D)$ beeinflusst die Entscheidung nicht und kann deshalb ignoriert werden.\n",
    "\n",
    "\n",
    "## Vor dem Versuch zu klärende Fragen\n",
    "\n",
    "\n",
    "1. Wie wird ein Naive Bayes Classifier trainiert? Was muss beim Training für die spätere Klassifikation abgespeichert werden?\n",
    "2. Wie teilt ein Naiver Bayes Classifier ein neues Dokument ein?\n",
    "3. Welche naive Annahme liegt dem Bayes Classifier zugrunde? Ist diese Annahme im Fall der Dokumentklassifikation tatsächlich gegeben?\n",
    "4. Betrachten Sie die Formeln für die Berechnung von $P(G|D)$ und $P(B|D)$. Welches Problem stellt sich ein, wenn in der Menge $W(D)$ ein Wort vorkommt, das nicht in den Trainingsdaten der Kategorie $G$ vorkommt und ein anderes Wort aus $W(D)$ nicht in den Trainingsdaten der Kategorie $B$ enthalten ist? Wie könnte dieses Problem gelöst werden? \n",
    "\n"
   ]
  },
  {
   "cell_type": "markdown",
   "metadata": {},
   "source": [
    "#### Aufgabe 1\n",
    "Das Trainieren erfolgt beim Naive Bayes Classifier überwacht, das heißt es werden Eingabe und Ausgabemöglichkeiten gegeben. \n",
    "Beim Spam-Filter zum Beispiel sind die Eingabe Mails. Die Ausgabe, auch Labels genannt, Spam oder nicht Spam.   \n",
    "Gespeichert werden deshalb, die Likelihood-Funktion ´P(w|G) ´, ein Wort das zu der Kategorie ,,Gut'' gehört, sowie die Anzahl der Trainingsdokumente und wie oft kam das Trainingsdokument für die jeweilige Kategorie vor. Die Evidenz ist hierbei\n",
    "egal, da sie bei beiden mit einberechnet wird, sie würde den Brechnungsprozess nur erschweren.    \n",
    "Sie ist auch überflüssig, da\n",
    "sie sowohl bei 𝑃(𝐺|𝐷), als auch 𝑃(𝐵|𝐷) den gleichen Wert hat, da es sich immer um das gleiche Dokument bei den Berechnungen handelt.\n",
    "\n",
    "---\n",
    "**Kurz:**   \n",
    "Klassen sind korrekt bekannt, Wörter und Dokumente werden gezählt.<br>\n",
    "Anzahl Trainingsdokumente Gesamt und wieviele Dokumente in der jeweiligen Klasse sind, welche ein Wort x enthalten.\n",
    "\n"
   ]
  },
  {
   "cell_type": "markdown",
   "metadata": {},
   "source": [
    "#### Aufgabe 2\n",
    "Basierend auf den Testdaten wird die Wahrscheinlichkeit berechnet, ob ein Dokument der Klasse 1 oder 2 zugeordnet werden kann, indem man für alle Wörter schaut ob sie öfter in Klasse 1 oder 2 vorkommen. Das Produkt der Ergebnisse führt dann zu einer Wahrscheinlichkeit für die Klassen. Zugeordnet wird dann die Klasse mit der höheren Wahrscheinlichkeit.\n",
    "\n",
    "Bsp: $$Anzahl dieser Klasse * \\prod_{} Anteil Merkmale in Klasse $$ \n",
    "1: 0.67 * 0.2 * 0.1 = 0.0132 ---- 2: 0.33 * 0.1 * 0.1 = 0.0033\n",
    "==> Merkmale sagen eher, dass es Klasse 1 ist.   \n",
    "(Quelle: https://www.youtube.com/watch?v=O2L2Uv9pdDA)   \n",
    "Info: ohne Evidenz!\n"
   ]
  },
  {
   "cell_type": "markdown",
   "metadata": {},
   "source": [
    "#### Aufgabe 3\n",
    "\n",
    "Unabhängigkeit der Merkmale. Es wird \"naive\" lediglich die Anzahl an Vorkomnissen betrachtet und nicht die Sprache an sich analysiert. Es könnten 2 Wörter in einer Klasse unabhängig öfters vorkommen, sind sie jedoch auf bestimmte Weise kombiniert wären sie eigentlich ausschlaggebend für eine andere Klasse. Dies wird jedoch nicht berücksichtigt. Damit ist die Annahme nicht gegeben.   \n",
    "\n",
    "Bsp: Die Wahrscheinlichkeit ist höher, wenn das Wort Gefängnis gegeben ist, dass darauf das Wort Zelle oder Inasasse folgt."
   ]
  },
  {
   "cell_type": "markdown",
   "metadata": {},
   "source": [
    "#### Aufgabe 4\n",
    "Durch Multiplikation würde eine Merkmalwahrscheinlichkeit von 0 zu einem Gesamtergebnis von 0 führen ==> x nicht in Klasse 1 => Dokument kann niemals als Klasse 1 klassifiziert werden.   \n",
    "Wenn man nicht weiß wie das Wort zuzuordnen ist, sollte man es zufällig auf eine Kategorie verteilen.\n",
    "Alternativ kann man eine Konstante als initiale Wahrscheinlichkeit setzen.   \n",
    "Generell kommt es aber auf den Anwendungsfall an, wie man in so einem Fall handelt."
   ]
  },
  {
   "cell_type": "markdown",
   "metadata": {},
   "source": [
    "# Durchführung\n",
    "## Feature Extraction/ -Selection\n",
    "\n",
    "**Aufgabe:**\n",
    "Implementieren Sie eine Funktion *getwords(doc)*, der ein beliebiges Dokument in Form einer String-Variablen übergeben wird. In der Funktion soll der String in seine Wörter zerlegt und jedes Wort in _lowercase_ transformiert werden. Wörter, die weniger als eine untere Grenze von Zeichen (z.B. 3) oder mehr als eine obere Grenze von Zeichen (z.B. 20) enthalten, sollen ignoriert werden. Die Funktion soll ein dictionary zurückgeben, dessen _Keys_ die Wörter sind. Die _Values_ sollen für jedes Wort zunächst auf $1$ gesetzt werden.\n",
    "\n",
    "**Tipp:** Benutzen Sie für die Zerlegung des Strings und für die Darstellung aller Wörter mit ausschließlich kleinen Buchstaben die Funktionen *split(), strip('sep')* und *lower()* der Klasse *String*.  \n"
   ]
  },
  {
   "cell_type": "markdown",
   "metadata": {},
   "source": [
    "Durch den word regex (\\w) werden alle sonderzeichen ignoriert."
   ]
  },
  {
   "cell_type": "code",
   "execution_count": 1,
   "metadata": {
    "tags": []
   },
   "outputs": [
    {
     "data": {
      "text/plain": [
       "{'test': 1, 'asd': 1, 'asdae2asd': 1, 'asfas': 1, 'wortmitü': 1}"
      ]
     },
     "execution_count": 1,
     "metadata": {},
     "output_type": "execute_result"
    }
   ],
   "source": [
    "import re\n",
    "\n",
    "def getwords(doc):\n",
    "    counts = dict()\n",
    "    words_array = re.findall(r'\\w+', doc.lower())\n",
    "    for word in filter(lambda lower_word:  len(lower_word) >2 and len(lower_word) < 21, words_array):\n",
    "        counts[word]  = 1 # = counts.get(word, 0) + 1 # if counting up\n",
    "    return counts\n",
    "\n",
    "test_string = \"test. Test . asd .asdae2asd .asfas wortmitÜ!\"\n",
    "getwords(test_string)"
   ]
  },
  {
   "cell_type": "markdown",
   "metadata": {},
   "source": [
    "## Classifier\n",
    "\n",
    "**Aufgabe:**\n",
    "Implementieren Sie den Naive Bayes Classifier für die Dokumentklassifikation. Es bietet sich an die Funktionalität des Klassifikators und das vom Klassifikator gelernte Wissen in einer Instanz einer Klasse _Classifier_ zu kapseln. In diesem Fall kann wie folgt vorgegangen werden:\n",
    "\n",
    "* Im Konstruktor der Klasse wird je ein Dictionary für die Instanzvariablen _fc_ und _cc_ (siehe oben) initialisiert. Dabei ist _fc_ ein verschachteltes Dictionary. Seine Keys sind die bisher gelernten Worte, die Values sind wiederum Dictionaries, deren Keys die Kategorien _Good_ und _Bad_ sind und deren Values zählen wie häufig das Wort bisher in Dokumenten der jeweiligen Kategorie auftrat. Das Dictionary _cc_ hat als Keys die Kategorien _Good_ und _Bad_. Die Values zählen wie häufig Dokumente der jeweiligen Kategorien bisher auftraten.\n",
    "* Im Konstruktor wird ferner der Instanzvariablen _getfeatures_ die Funktion *getwords()* übergeben. Die Funktion _getwords()_ wurde bereits zuvor ausserhalb der Klasse definiert. Sinn dieses Vorgehens ist, dass andere Varianten um Merkmale aus Dokumenten zu extrahieren denkbar sind. Diese Varianten könnten dann ähnlich wie die *getwords()*-Funktion ausserhalb der Klasse definiert und beim Anlegen eines *Classifier*-Objekts der Instanzvariablen _getfeatures_ übergeben werden.  \n",
    "* Der Methode _incf(self,f,cat)_ wird ein Wort _f_ und die zugehörige Kategorie _cat_ des Dokuments in welchem es auftrat übergeben. In der Methode wird der *fc*-Zähler angepasst.\n",
    "* Der Methode _incc(self,cat)_ wird die Kategorie _cat_ des gerade eingelesenen Dokuments übergeben. In der Methode wird der *cc*-Zähler angepasst.\n",
    "* Die Methode _fcount(self,f,cat)_ gibt die Häufigkeit des Worts _f_ in den Dokumenten der Kategorie _cat_ zurück.\n",
    "* Die Methode _catcount(self,cat)_ gibt die Anzahl der Dokumente in der Kategorie _cat_ zurück.\n",
    "* Die Methode _totalcount(self)_ gibt die Anzahl aller Dokumente zurück.\n",
    "* Der Methode _train(self,item,cat)_ wird ein neues Trainingselement, bestehend aus der Betreffzeile (*item*) und der entsprechenden Kategorisierung (*cat*) übergeben. Der String _item_ wird mit der Instanzmethode _getfeatures_ (Diese referenziert *getwords()*) in Worte zerlegt. Für jedes einzelne Wort wird dann *incf(self,f,cat)* aufgerufen. Ausserdem wird für das neue Trainingsdokument die Methode _incc(self,cat)_ aufgerufen.\n",
    "* Die Methode _fprob(self,f,cat)_ berechnet die bedingte Wahrscheinlichkeit $P(f | cat)$ des Wortes _f_ in der Kategorie _cat_ entsprechend der oben angegebenen Formeln, indem sie den aktuellen Stand des Zählers _fc(f,cat)_ durch den aktuellen Stand des Zählers _cc(cat)_ teilt.   \n",
    "* Die Methode _fprob(self,f,cat)_ liefert evtl. ungewollt extreme Ergebnisse, wenn noch wenig Wörter im Klassifizierer verbucht sind. Kommt z.B. ein Wort erst einmal in den Trainingsdaten vor, so wird seine Auftrittswahrscheinlichkeit in der Kategorie in welcher es nicht vorkommt gleich 0 sein. Um extreme Wahrscheinlichkeitswerte im Fall noch selten vorkommender Werte zu vermeiden, soll zusätzlich zur Methode _fprob(self,f,cat)_ die Methode _weightedprob(self,f,cat)_ implementiert und angewandt werden. Der von ihr zurückgegebene Wahrscheinlichkeitswert könnte z.B. wie folgt berechnet werden:$$wprob=\\frac{initprob+count \\cdot fprob(self,f,cat)}{1+count},$$ wobei $initprob$ ein initialer Wahrscheinlichkeitswert (z.B. 0.5) ist, welcher zurückgegeben werden soll, wenn das Wort noch nicht in den Trainingsdaten aufgetaucht ist. Die Variable $count$ zählt wie oft das Wort $f$ bisher in den Trainingsdaten auftrat. Wie zu erkennen ist, nimmt der Einfluss der initialen Wahrscheinlichkeit ab, je häufiger das Wort in den Trainingsdaten auftrat.\n",
    "* Nach dem Training soll ein beliebiges neues Dokument (Text-String) eingegeben werden können. Für dieses soll mit der Methode _prob(self,item,cat)_ die a-posteriori-Wahrscheinlichkeit $P(cat|item)$ (Aufgrund der Vernachlässigung der Evidenz handelt es sich hierbei genaugenommen um das Produkt aus a-posteriori-Wahrscheinlichkeit und Evidenz), mit der das Dokument _item_ in die Kategorie _cat_ fällt berechnet werden. Innerhalb der Methode _prob(self,item,cat)_ soll zunächst die Methode _weightedprob(self,f,cat)_ für alle Wörter $f$ im Dokument _item_ aufgerufen werden. Die jeweiligen Rückgabewerte von _weightedprob(self,f,cat)_ werden multipliziert. Das Produkt der Rückgabewerte von _weightedprob(self,f,cat)_ über alle Wörter $f$ im Dokument muss schließlich noch mit der a-priori Wahrscheinlichkeit $P(G)$ bzw. $P(B)$ entsprechend der oben aufgeführten Formeln multipliziert werden. Das Resultat des Produkts wird an das aufrufende Programm zurück gegeben, die Evidenz wird also vernachlässigt (wie oben begründet).\n",
    "\n",
    "\n",
    "\n",
    "Ein Dokument _item_ wird schließlich der Kategorie _cat_ zugeteilt, für welche die Funktion _prob(self,item,cat)_ den höheren Wert zurück gibt. Da die Rückgabewerte in der Regel sehr klein sind, werden in der Regel folgende Werte angezeigt:\n",
    "* Wenn mit $g$ der Rückgabewert von _prob(self,item,cat=G)_ und mit $b$ der Rückgabewert von _prob(self,item,cat=B)_ bezeichnet wird dann ist die Wahrscheinlichkeit, dass $item$ in die Kategorie $G$ fällt, gleich:\n",
    "$$\n",
    "\\frac{g}{g+b}\n",
    "$$\n",
    "* und die Wahrscheinlichkeit, dass $item$ in die Kategorie $B$ fällt, gleich:\n",
    "$$\n",
    "\\frac{b}{g+b}\n",
    "$$"
   ]
  },
  {
   "cell_type": "markdown",
   "metadata": {},
   "source": [
    "<h2 style=\"color: DarkGoldenrod\"> Erklärung </h2>\n",
    "\n",
    "Zusätzlich zu den gelisteten Vorgaben haben wir die Klasse dynamisch gestaltet und um den Text unter dem untersten Punkt mit einzubringen, haben wir noch die Funktion *predictionResult(self,item)* mit eingebunden, diese berechnet alle Wahrscheinlichkeiten für ein item im Verhältnis zueinander sodass das Ergebnis anschaulicher ist und gibt die Vorhergesagte Kategorie aus.\n"
   ]
  },
  {
   "cell_type": "code",
   "execution_count": 2,
   "metadata": {
    "tags": []
   },
   "outputs": [],
   "source": [
    "class Classifier:\n",
    "    def __init__(self, function, categories):\n",
    "        self.getfeatures = function\n",
    "        self.fc = {} # {word: {Good: count, Bad: count},...}\n",
    "        self.cc = {category: 0 for category in categories} # {Good: count, Bad: count}\n",
    "  \n",
    "    def incf(self,f,cat):\n",
    "        cc_keys = [key for key in self.cc.keys()]\n",
    "        if f not in self.fc:\n",
    "            self.fc[f] = {category: 0 for category in cc_keys}\n",
    "        self.fc[f][cat] += 1\n",
    "\n",
    "    def incc(self, cat):\n",
    "        self.cc[cat] = self.cc.get(cat,0) + 1\n",
    "\n",
    "    def fcount(self, f, cat):\n",
    "        if f in self.fc and cat in self.fc[f]:\n",
    "            return self.fc[f][cat]\n",
    "        return 0\n",
    "\n",
    "    def catcount(self, cat):\n",
    "        if(cat in self.cc):\n",
    "            return self.cc[cat]\n",
    "        return 0\n",
    "  \n",
    "    def totalcount(self):\n",
    "        return sum(self.cc.values())\n",
    "  \n",
    "    def train(self, item, cat):\n",
    "        for f in self.getfeatures(item):\n",
    "            self.incf(f, cat)\n",
    "        self.incc(cat)\n",
    "  \n",
    "    def fprob(self, f, cat):\n",
    "        if not self.cc.get(cat) or self.cc.get(cat) == 0: return 0\n",
    "        return self.fcount(f, cat) / self.catcount(cat)\n",
    "\n",
    "    def weightedprob(self, f, cat):\n",
    "        initprob = 1 / len(self.cc)\n",
    "        basicprob = self.fprob(f, cat)\n",
    "        count = sum([self.fcount(f, c) for c in self.cc.keys()])\n",
    "        probability = (initprob + (count * basicprob)) / (1 + count)\n",
    "        #print(\"initprob: \", initprob, \"basicprob: \", basicprob, \"count: \", count, \"probability: \", probability)\n",
    "        return probability\n",
    "  \n",
    "    def prob(self, item, cat):\n",
    "        product = 1\n",
    "        for f in self.getfeatures(item):\n",
    "            product *= self.weightedprob(f, cat)\n",
    "        return product * self.catcount(cat) / self.totalcount()\n",
    "  \n",
    "    # ZUSATZ\n",
    "    def predictionResult(self, item):\n",
    "        class_predictions = {cat: self.prob(item, cat) for cat in self.cc.keys()}\n",
    "        total_sum = sum(class_predictions.values())\n",
    "        \n",
    "        better_predictions = {cat: (class_predictions[cat]/total_sum) for cat in class_predictions}\n",
    "        \n",
    "        final_prediction = {'prediction' : max(class_predictions, key=class_predictions.get)}\n",
    "        final_prediction.update(better_predictions)\n",
    "        return final_prediction"
   ]
  },
  {
   "cell_type": "code",
   "execution_count": 3,
   "metadata": {},
   "outputs": [
    {
     "name": "stdout",
     "output_type": "stream",
     "text": [
      "cc: True\n",
      "fc: True\n",
      "catcounts: True True\n",
      "cc: True\n",
      "fcounts: True True\n",
      "totacounts: True\n",
      "fprob: True True\n",
      "weightesprob: True True True\n"
     ]
    }
   ],
   "source": [
    "# ZUSATZ: Testing\n",
    "test = Classifier(getwords, [\"Good\", \"Bad\"])\n",
    "\n",
    "print('cc:',test.cc == {\"Good\": 0, \"Bad\": 0})\n",
    "test.incf(\"test\", \"Good\")\n",
    "test.incc(\"Good\")\n",
    "print('fc:',test.fc == {\"test\": {\"Good\": 1, \"Bad\": 0}})\n",
    "test.incc(\"randy\") # not in categories yet\n",
    "print('catcounts:',test.catcount(\"randy\") == 1, test.catcount(\"Good\") == 1)\n",
    "print('cc:',test.cc == {\"Good\": 1, \"Bad\": 0, \"randy\": 1})\n",
    "print('fcounts:', test.fcount(\"test\", \"Good\") == 1, test.fcount(\"asdasd\", \"Bad\") ==0)\n",
    "test.incf(\"test2\", \"Bad\")\n",
    "test.incc(\"Bad\")\n",
    "print('totacounts:',test.catcount(\"Good\") == 1 and test.catcount(\"Bad\") == 1 and test.catcount('randy') == 1 and test.totalcount() ==3)\n",
    "print('fprob:',test.fprob(\"asd\", \"Good\") == 0, test.fprob(\"test\", \"Good\") == 1)\n",
    "print('weightesprob:',test.weightedprob(\"test\", \"Good\") == 2/3, test.weightedprob(\"test\", \"Bad\") == 1/6, test.weightedprob(\"notinit\", \"Bad\") == 1/3)"
   ]
  },
  {
   "cell_type": "markdown",
   "metadata": {},
   "source": [
    "## Test\n",
    "\n",
    "**Aufgabe:**\n",
    "Instanzieren Sie ein Objekt der Klasse _Classifier_ und übergeben Sie der _train()_ Methode dieser Klasse mindestens 8 kategorisierte Dokumente (Betreffzeilen als Stringvariablen zusammen mit der Kategorie Good oder Bad). Definieren Sie dann ein beliebig neues Dokument und berechnen Sie für dieses die Kategorie, in welches es mit größter Wahrscheinlichkeit fällt. Benutzen Sie für den Test das in der\n",
    "[NLP Vorlesung Document Classification](https://gitlab.mi.hdm-stuttgart.de/maucher/nlp/-/blob/master/Slides/03TextClassification.pdf)\n",
    "ausführlich beschriebene Beispiel zu implementieren. Berechnen Sie die Klassifikatorausgabe des Satzes _the money jumps_."
   ]
  },
  {
   "cell_type": "markdown",
   "metadata": {},
   "source": [
    "<h2 style=\"color: DarkGoldenrod\"> Erklärung </h2>\n",
    "\n",
    "Wir haben die Testdaten aus der Vorlesung übernommen und in die train() Methode eingefügt. Anschließend haben wir unsere eigene *predictionResult* Funktion genutzt, um die Wahrscheinlichkeiten für die Kategorien zu berechnen und die vorhergesagte Kategorie auszugeben.   \n",
    "\n",
    "Durch das Umrechnen der Eigentlichen Wahrscheinlichkeiten 0.029 und 0.0125 zu 0.7 und 0.3 ist die Vorhersage leichter zu verstehen."
   ]
  },
  {
   "cell_type": "code",
   "execution_count": 4,
   "metadata": {
    "tags": []
   },
   "outputs": [
    {
     "name": "stdout",
     "output_type": "stream",
     "text": [
      "0.029166666666666664 0.012499999999999999\n",
      "{'prediction': 'good', 'good': 0.7, 'bad': 0.3}\n",
      "good: 0.06987951807228916 bad: 0.30120481927710846\n"
     ]
    }
   ],
   "source": [
    "c1 = Classifier(getwords, [\"good\", \"bad\"])\n",
    "\n",
    "c1.train('nobody owns the water', 'good')\n",
    "c1.train('the quick rabbit jumps fences', 'good')\n",
    "c1.train('buy pharmaceuticals now', 'bad')\n",
    "c1.train('make quick money at the online casino', 'bad')\n",
    "c1.train('the quick brown fox jumps', 'good')\n",
    "c1.train('next meeting is at night', 'good')\n",
    "c1.train('meeting with your superstar', 'bad')\n",
    "c1.train('money like water', 'bad')\n",
    "\n",
    "\n",
    "print(c1.prob('the money jumps', 'good'),c1.prob('the money jumps', 'bad')) # Result as in the lecturenotes\n",
    "print(c1.predictionResult('the money jumps'))\n",
    "\n",
    "#Testing\n",
    "print('good:',0.029 / (0.29 + 0.125), 'bad:', 0.125 / (0.29 + 0.125))\n",
    "\n",
    "# the super sexy version ;P\n",
    "# predefined = {\"nobody owns the water\": \"good\", \"the quick rabbit jumps fences\": \"good\", \"buy pharmaceuticals now\": \"bad\", \n",
    "#            \"make quick money at the online casino\": \"bad\", \"the quick brown fox jumps\": \"good\", \"next meeting is at night\": \"good\", \n",
    "#            \"meeting with your superstar\": \"bad\", \"money like water\": \"bad\" }\n",
    "\n",
    "# c1 = Classifier(getwords)\n",
    "\n",
    "# for predefinedDoc in predefined:\n",
    "#     classifier.train(predefinedDoc, predefined.get(predefinedDoc))\n"
   ]
  },
  {
   "cell_type": "markdown",
   "metadata": {},
   "source": [
    "## Klassifikation von RSS Newsfeeds\n",
    "Mit dem unten gegebenen Skript werden Nachrichten verschiedener Newsserver geladen und als String abgespeichert.\n",
    "\n",
    "**Aufgaben:**\n",
    "1. Trainieren Sie Ihren Naive Bayes Classifier mit allen Nachrichten der in den Listen _trainTech_ und _trainNonTech_ definierten Servern. Weisen Sie für das Training allen Nachrichten aus _trainTech_ die Kategorie _Tech_ und allen Nachrichten aus _trainNonTech_ die Kategorie _NonTech_ zu.\n",
    "2. Nach dem Training sollen alle Nachrichten aus der Liste _test_ vom Naive Bayes Classifier automatisch klassifiziert werden. Gehen Sie davon aus, dass alle Nachrichten von [http://rss.golem.de/rss.php?r=sw&feed=RSS0.91](http://rss.golem.de/rss.php?r=sw&feed=RSS0.91) tatsächlich von der Kategorie _Tech_ sind und alle Nachrichten von den beiden anderen Servern in der Liste _test_ von der Kategorie _NonTech_ sind. Bestimmen Sie die _Konfusionsmatrix_ und die _Accuracy_ sowie für beide Klassen _Precision, Recall_ und _F1-Score_. Diese Qualitätsmetriken sind z.B. in [NLP Vorlesung Document Classification](https://gitlab.mi.hdm-stuttgart.de/maucher/nlp/-/blob/master/Slides/03TextClassification.pdf) definiert.\n",
    "3. Diskutieren Sie das Ergebnis\n",
    "4. Wie könnte die Klassifikationsgüte durch Modifikation der *getwords()*-Methode verbessert werden? Implementieren Sie diesen Ansatz und vergleichen Sie das Ergebnis mit dem des ersten Ansatzes."
   ]
  },
  {
   "cell_type": "code",
   "execution_count": 5,
   "metadata": {
    "jupyter": {
     "source_hidden": true
    },
    "scrolled": true,
    "tags": []
   },
   "outputs": [
    {
     "name": "stdout",
     "output_type": "stream",
     "text": [
      "--------------------News from trainTech------------------------\n",
      "\n",
      "******************************\n",
      "http://rss.chip.de/c/573/f/7439/index.rss\n",
      "\n",
      "******************************\n",
      "http://rss1.t-online.de/c/11/53/06/84/11530684.xml\n",
      "\n",
      "******************************\n",
      "http://www.computerbild.de/rssfeed_2261.xml?node=13\n",
      "\n",
      "---------------------------\n",
      "Black Friday bei Surfshark: Jetzt 84 Prozent günstiger Den Streaming-Experten unter den VPN-Diensten sichern Sie sich im Black-Friday-Angebot deutlich günstiger. Surfshark streicht die Preise zusammen und offeriert starke Rabatte sowie Gratis-Monate auf sein VPN.\n",
      "\n",
      "---------------------------\n",
      "Black Friday bei CyberGhost: Fast 280 Euro sparen VPN-Anbieter CyberGhost entfesselt zum Black Friday 2022 die Preise. Im Deal ist eine Ersparnis von satten 83 Prozent auf den Normalpreis für den 2-Jahres-Plan drin.\n",
      "\n",
      "---------------------------\n",
      "Grafikkarten-Test: Top-Modelle fürs Zocken und Rendern Wer aktuelle Spiele zocken, aufwendige Fotos und Videos bearbeiten will, braucht einen potenten Bildmacher im PC. Im Grafikkarten-Test: aktuelle Modelle in allen Preisklassen.\n",
      "\n",
      "---------------------------\n",
      "ExpressVPN: Deal zum Black Friday mit 49 Prozent Rabatt Die Schnäppchenwelle rollt: Zum Black Friday 2022 kommt ExpressVPN mit einem guten Angebot um die Ecke. Greifen Sie das Jahresabo zum Vorzugspreis ab!\n",
      "\n",
      "---------------------------\n",
      "Private Internet Access: VPN-Sicherheit für nur 1,79 Euro pro Monat VPN-Anbieter Private Internet Access haut zum Black Friday ordentlich auf den Putz und reduziert die Preise für seinen VPN-Dienst um satte 85 Prozent.\n",
      "\n",
      "---------------------------\n",
      "Black Friday: Multifunktionsgeräte im Angebot kaufen Zum Black Friday 2022 warten Amazon, Media Markt &amp; Co. mit hohen Rabatten auf. COMPUTER BILD zeigt die besten Deals für \"Black Friday Drucker und Multifunktionsgeräte\".\n",
      "\n",
      "---------------------------\n",
      "Black Friday: Heute günstige LG OLEDs abräumen Wer nach einem neuem erstklassigen Fernseher sucht, sollte sich die OLED-TVs von LG näher anschauen. Zum Black Friday versorgen Sie Amazon und Media Markt mit Knallerdeals zu LGs schicken Flachbildschirmen.\n",
      "\n",
      "---------------------------\n",
      "Black Friday bei Amazon & Co.: Die besten Deals im Überblick! Ende November drehen die Online-Händler ordentlich an der Preisschraube! COMPUTER BILD liefert die beste Übersicht zum Black Friday 2022: Amazon, Media Markt, Saturn, Ebay, NBB &amp; Co. sind hier mit Top-Deals dabei. Die Black-Friday-Angebote werden mehrmals täglich aktualisiert.\n",
      "\n",
      "---------------------------\n",
      "Black Friday bei Saturn: Die Top-Deals im Überblick Wer Schnäppchen sucht, wird hier fündig: Die \"Black Friday Saturn\"-Angebote bieten hohes Sparpotenzial – schon heute! Der Technikriese hat im Rahmen der \"Black Week\" viele Deals zum kleinen Preis im Programm.\n",
      "\n",
      "---------------------------\n",
      "WM 2022 Katar: Alle Infos – Spiele, Prognosen, Ergebnisse, Quoten Die WM 2022 in Katar läuft, die große Enttäuschung ist da: Deutschland verliert 1:2 gegen Japan. Die nächsten Spiele, die treffendsten Prognosen, die coolsten Sportwetten, die höchsten Quoten – alle Infos!\n",
      "\n",
      "---------------------------\n",
      "Black Friday: Jetzt 10 Prozent Extra-Rabatt bei Amazon Warehouse! Mit den Warehouse-Angeboten bei Amazon schonen Sie Ihren Geldbeutel und geben generalüberholten Produkten eine zweite Chance. Am Black Friday Amazon Warehouse Deals entdecken und zusätzliche 10 Prozent sparen!\n",
      "\n",
      "---------------------------\n",
      "PayPal: Verbraucherzentrale warnt vor neuer Phishing-Masche Verbraucherzentrale.de warnt aktuell vor einer gefährlichen Phishing-Welle: Ein weiteres Mal versuchen Betrüger derzeit, PayPal-Nutzer und -Nutzerinnen um ihr Geld zu bringen.\n",
      "\n",
      "---------------------------\n",
      "Handyvertrag zum Black Friday: Jetzt Schnäppchen machen! Ende November findet der Black Friday 2022 statt, traditionell mit Angeboten en masse. Hier zeigt die Redaktion lohnenswerte Tarif- und Bundle-Angebote.\n",
      "\n",
      "---------------------------\n",
      "Black Friday: Die besten Handy-Deals im Überblick Sie suchen ein neues Handy für möglichst kleines Geld? Am Black Friday hagelt es bei Amazon, Media Markt &amp; Co. satte Rabatte. Hier finden Sie die besten Deals für \"Black Friday Handys\".\n",
      "\n",
      "---------------------------\n",
      "Sparhandy: Samsung Galaxy S22 Ultra 905 Euro günstiger Sparhandy hat die Cyber Week eingeläutet und verkauft unter anderem das Samsung Galaxy S22 Ultra mit 5G-Flatrate zum einem absoluten Traumpreis. Wer jetzt zugreift, spart 905 Euro! Und es warten noch weitere Mobilfunk-Deals.\n",
      "\n",
      "---------------------------\n",
      "Black Friday bei Media Markt: Die besten Angebote im Überblick Bei Media Markt räumen Sie in der Black Friday Week viele Top-Angebote ab! COMPUTER BILD hat für Sie die besten \"Black Friday Media Markt\"-Deals herausgesucht.\n",
      "\n",
      "---------------------------\n",
      "Black-Friday-Deal: Samsung Galaxy S20 FE 5G bei Media Markt Zum Black Friday purzeln an allen Fronten die Preise. Auch Media Markt setzt den Rotstift an – das Samsung Galaxy S20 FE 5G gibt es zum Knallerpreis.\n",
      "\n",
      "---------------------------\n",
      "Black Friday: Günstige PlayStation-Plus-Abos abräumen Der Black Friday lässt Zockerherzen höherschlagen, denn bei Amazon, Media Markt &amp; Co. wird stark reduziert. COMPUTER BILD präsentiert die besten Angebote für \"Black Friday PlayStation Plus\".\n",
      "\n",
      "---------------------------\n",
      "Black Friday Saugroboter: Top-Angebote mit starkem Rabatt Am Black Friday sichern Sie sich saubere Deals bei Amazon, Media Markt &amp; Co. – und sparen ordentlich. COMPUTER BILD präsentiert die besten \"Black Friday Saugroboter\"-Deals.\n",
      "\n",
      "---------------------------\n",
      "Black Friday: Heute günstig AirPods Pro kaufen Günstig sind Apples AirPods Pro nicht – allerdings haben die In-Ear-Kopfhörer technisch jede Menge zu bieten. Zum Black Friday bläst Ebay zur Rabattschlacht und verkauft die AirPods Pro zu einem Top-Preis.\n",
      "\n",
      "******************************\n",
      "http://www.heise.de/newsticker/heise-top-atom.xml\n",
      "\n",
      "---------------------------\n",
      "Esa: Fünf neue Astronauten und zahlreiche Reservisten beginnen Ausbildung Die Esa nimmt wieder Astronauten in einen Ausbildungsjahrgang auf. Sie kommen aus Frankreich, Spanien, Großbritannien, Belgien, der Schweiz – und Deutschland.\n",
      "\n",
      "---------------------------\n",
      "Pro und Contra​: Muss es der Master in Informatik sein?​ Während manchen ein Bachelor-Abschluss reicht, bezweifeln andere den Wert dieser akademischen Ausbildung. Zwei Meinungen zur Master-Frage.\n",
      "\n",
      "---------------------------\n",
      "Meta Quest: VR-Brillen sollen wieder in Deutschland verkauft werden Meta will seine Quest-VR-Brillen bald wieder in Deutschland verkaufen. Das Bundeskartellamt hatte zuvor ein Missbrauchsverfahren eingeleitet.\n",
      "\n",
      "---------------------------\n",
      "FTX: Immobilienkäufe auf den Bahamas und noch 1,24 Milliarden US-Dollar Cash Die Insolvenzverwalter haben doch mehr Barmittel bei der havarierten Kryptobörse FTX gefunden als zuerst gedacht. Dazu wurden Käufe von Luxusimmobilien bekannt.\n",
      "\n",
      "---------------------------\n",
      "Rezession: wachsende Unsicherheit bei IT-Freelancern Aufgrund der wirtschaftlichen Krise steigt die Existenzangst auch unter Freiberuflichen – denn Unternehmen suchen weitaus weniger Personal für ihre Projekte.\n",
      "\n",
      "---------------------------\n",
      "Gaspreisbremse soll schon für Januar und Februar greifen Die Bundesregierung hat am Gesetzentwurf für die Gaspreisbremse eine wichtige Änderung vorgenommen, die Kundinnen und Kunden mehr Entlastung bringen soll.\n",
      "\n",
      "---------------------------\n",
      "Nach Umfrage von Elon Musk: Trumps Twitter-Account ist wieder freigeschaltet Donald Trump will zurück ins Weiße Haus und darf wieder twittern. Musk gibt den einst so einflussreichen Twitter-Account zurück. Ob Trump zurückkehrt?\n",
      "\n",
      "---------------------------\n",
      "KI-Assistenten für die Softwareentwicklung: Schwachstellen vorprogrammiert Eine Untersuchung hat ergeben, dass Codex und Co dazu verleiten können, Code mit Schwachstellen zu schreiben.\n",
      "\n",
      "---------------------------\n",
      "Redseliges handelsregister.de: Bundesjustizministerium gegen Abschaltung Datenschutzbeauftragte und die Bundesregierung sehen das Problem, dass auf handelsregister.de zu viele Daten abrufbar sind. Nun arbeiten sie an einer Lösung.\n",
      "\n",
      "---------------------------\n",
      "ARM-Kern für Windows-Notebooks heißt Qualcomm Oryon 2023 sollen Snapdragon-SoCs mit den von der zugekauften Firma Nuvia entwickelten, angeblich besonders starken CPU-Kernen kommen, später auch für Smartphones.\n",
      "\n",
      "---------------------------\n",
      "Mondmission Artemis-1: Blicke zurück auf die Erde, Videos vom Bilderbuchstart Die unbemannte Raumkapsel Orion ist auf dem Weg zum Mond. Zur Erde geschickt hat sie Fotos der kleiner werdenden Erde. Neue Videos zeigen den Start.\n",
      "\n",
      "---------------------------\n",
      "Beschäftigtendatenschutz: Zwischen Totalüberwachung und Rechtsmissbrauch Die Ampelkoalition hat ein neues Gesetz in Aussicht gestellt, das den Umgang mit Daten von Angestellten neu regeln soll. Doch die Hürden sind hoch.\n",
      "\n",
      "---------------------------\n",
      "Organisierte Kriminalität: Faeser greift Verschlüsselung und Bargeld an Die Innenministerin will, dass Sicherheitsbehörden verdeckt in die IT-Systeme von Anbietern verschlüsselter Kommunikationsdienste eingreifen können.\n",
      "\n",
      "---------------------------\n",
      "NASA-Mission Artemis-1: Riesenrakete SLS gestartet, Orion auf dem Weg zum Mond Beim dritten Versuch hat es geklappt, die riesige Mondrakete SLS der NASA ist gestartet. Sie hat das unbemannte Raumschiff Orion Richtung Mond geschossen.\n",
      "\n",
      "---------------------------\n",
      "3. Versuch für NASA-Rakete SLS im Livestream: Countdown kurz vor Ende Aller guten Dinge sind drei: Nach zwei abgebrochenen Startversuchen soll die Riesenrakete SLS am Mittwochmorgen abheben und die Orion zum Mond schießen.\n",
      "\n",
      "---------------------------\n",
      "Wi-Fi 7: TP-Link prescht mit 16 Geräten vor Der offizielle Standard kommt wohl erst 2024. Doch TP-Link kündigt lange vorher Wi-Fi-7-Geräte mit irrwitzigen WLAN-Datenraten und 10-Gigabit-Ethernet an.\n",
      "\n",
      "---------------------------\n",
      "\"The Witcher 3\": Überarbeitete Fassung erscheint am 14. Dezember Nach mehreren Verschiebungen will CD Projekt die Next-Gen-Fassung von \"The Witcher\" nun im Dezember veröffentlichen. Das Gameplay soll bald zu sehen sein.\n",
      "\n",
      "---------------------------\n",
      "Microsoft-Patches sorgen für Probleme bei DirectAccess und Kerberos Updates aus Microsofts November-Patchday stören Anmeldungen via Kerberos und den Fernzugriff via DirectAccess. Der Known-Issue-Rollback-Ansatz soll helfen.\n",
      "\n",
      "---------------------------\n",
      "Klimaschutz-Index: Deutschland im Rennen gegen Klimawandel zurückgefallen Weiter ist kein Staat auf einem vorbildlichen Weg, die Klimaschutzziele zu schaffen. Skandinavische Staaten glänzen, Marokko, Chile und Indien sind gut dabei.\n",
      "\n",
      "---------------------------\n",
      "Twitter-Chaos: Erste technische Probleme, mehr wegbrechende Werbeeinnahmen Die Entlassung der halben Belegschaft von Twitter könnte erste Folgen zeigen. Darauf deuten technische Probleme hin. Derweil verliert Twitter mehr Werbekunden.\n",
      "\n",
      "---------------------------\n",
      "BSI-Affäre: Innenministerin will Schönbohm zur Bundesakademie abschieben Das Bundesinnenministerium will den kaltgestellten BSI-Präsidenten offenbar zu einer kleinen Behörde versetzen. Der neue Posten müsste erst aufgewertet werden.\n",
      "\n",
      "---------------------------\n",
      "Einigung: Elektronikmesse IFA bleibt in Berlin​ Die ehemals \"Berliner Funkausstellung\" genannte IFA bleibt in der Hauptstadt. Die Veranstalter Gfu und Clarion konnten sich mit der Messegesellschaft einigen.\n",
      "\n",
      "---------------------------\n",
      "Studie: Überversorgung mit LNG-Infrastruktur gefährdet Klimaziele Infolge des russischen Angriffskrieges erlebt Flüssigerdgas (LNG) eine Blütezeit. Das könnte sich massiv auf die Klimaziele auswirken.\n",
      "\n",
      "---------------------------\n",
      "Chaos bei Twitter: Banken wollen Kredite verhökern, drohender Konflikt mit FTC Nicht nur auf, sondern auch bei Twitter herrscht Chaos. Das macht auch vor Elon Musks Partnern nicht halt. Banken wollen Kredite mit hohen Abschlägen loswerden.\n",
      "\n",
      "---------------------------\n",
      "Atomkraft: Bundestag beschließt Laufzeitverlängerung für drei AKW Der Atomausstieg wird auf den 15. April 2023 verschoben. Das hat der Bundestag angesichts der Energiekrise beschlossen.\n",
      "\n",
      "---------------------------\n",
      "Cyberverteidigung: EU-Kommission fordert Hackbacks zum digitalen Gegenschlag Die EU muss sich \"mit allen verfügbaren Mitteln\" gegen Cyberangriffe zur Wehr setzen können, heißt es in Brüssel. Mittel der \"aktiven Verteidigung\" inklusive.\n",
      "\n",
      "---------------------------\n",
      "Photovoltaik: Mieter-Hürden für Balkonkraftwerke sollen niedriger werden Die Länder-Justizminister sprechen darüber, wie Mieter einfacher kleine Solaranlagen installieren können. In Mecklenburg-Vorpommern werden sie nun gefördert.\n",
      "\n",
      "---------------------------\n",
      "Windturer: Ein DIY-Windrad für Abenteurer Wenn man länger wandert, muss auch die mitgeführte Powerbank mal Energie tanken. Das mobile Windrad Windturer zeigt, wie das auch ohne Solarpanels funktioniert.\n",
      "\n",
      "---------------------------\n",
      "Ahrtal-Flutgebiet: Neues Warnnetz mit elektronischen Sirenen betriebsbereit Als Konsequenz aus den Problemen mit dem bestehenden Warnsystem bei der Flutkatastrophe im Ahrtal 2021 geht nun ein neues Warnnetz mit einem Test in Betrieb.\n",
      "\n",
      "---------------------------\n",
      "Facebook-Mutter Meta will 11.000 Leute entlassen Der Kahlschlag bei Facebook & Co. kommt: 13 Prozent der Belegschaft müssen den Social-Media-Riesen verlassen, teilte Chef Mark Zuckerberg mit.\n",
      "\n",
      "---------------------------\n",
      "Gedenken an die Reichspogromnacht: Stolpersteine-App für ganz Deutschland Das Gedenken an die Opfer der NS-Zeit soll lebendig gehalten werden. Eine App will nun auf Stolpersteine deutschlandweit hinweisen und Daten zugänglich machen.\n",
      "\n",
      "---------------------------\n",
      "Proteste im Iran: Aktivistin fordert Unterstützung und Werkzeuge von der IETF Irans Bevölkerung protestiert weiter, ihre technischen Möglichkeiten bleiben aber eingeschränkt. Die Protestierenden brauchen mehr Hilfe, meint eine Aktivistin.\n",
      "\n",
      "---------------------------\n",
      "Patchday Microsoft: Attacken auf sechs Lücken, Exchange-Patches endlich da Es gibt wichtige Sicherheitsupdates für Azure, Office, Windows & Co. Angreifer attackieren bereits Systeme.\n",
      "\n",
      "---------------------------\n",
      "EU: Notfall-Richtlinie für den schnelleren Ausbau der erneuerbaren Energien Die EU-Kommission will ein Papier für den beschleunigten Ausbau der erneuerbaren Energien vorlegen. Verfahren könnten drastisch verkürzt werden.\n",
      "\n",
      "---------------------------\n",
      "Musk verkauft Tesla-Aktien für vier Milliarden US-Dollar Tesla-Chef Elon Musk macht erneut Aktienpakete von Tesla zu Geld, sagt aber nicht wofür. Die teure Twitter-Übernahme dürfte wohl der Grund sein.\n",
      "\n",
      "---------------------------\n",
      "Kursbeben am Kryptowährungsmarkt: Binance will FTX übernehmen Erst sorgen Insolvenzgerüchte um die Börse FTX für heftige Kapriolen beim Kryptogeldhandel. Nun will die Börse Binance die trudelnde Konkurrenz schlucken.\n",
      "\n",
      "---------------------------\n",
      "EU-Finanzkommissarin: \"Digitaler Euro muss betrugs- und idiotensicher sein\" Datenschutz werde \"ganz zentral sein\" beim geplanten digitalen Euro, versicherte EU-Kommissarin McGuinness auf einer Konferenz. Anonym bleibt aber nur Bargeld.\n",
      "\n",
      "---------------------------\n",
      "Bevölkerungswarnung per Cell Broadcast: Grünes Licht für bundesweiten Test Mit der ersten Fassung einer Regelung von Dezember 2021 waren die Beteiligten nicht zufrieden. Die Bedenken gelten nun als ausgeräumt.\n",
      "\n",
      "---------------------------\n",
      "Kritik am Klima-Versprechen: \"Täuschung der internationalen Öffentlichkeit\" Olaf Scholz verspricht bei der COP27, Deutschland werde aus Gas, Kohle und Öl aussteigen und auch seine Klimaziele einhalten. Das wird aber stark angezweifelt.\n",
      "\n",
      "---------------------------\n",
      "Weiterer Dämpfer für das E-Rezept: Letzte Testregion steigt aus Testphase aus Wie erwartet, nimmt auch die letzte verbliebene Kassenärztliche Vereinigung Westfalen-Lippe nicht mehr aktiv an der Testphase teil.\n",
      "\n",
      "---------------------------\n",
      "Schrumpfkur für Social-Media-Riesen? Auch der Meta-Konzern legt die Axt an Dass er sparen muss und Kürzungen geboten sind, ist Mark Zuckerberg schon seit einigen Wochen klar. Nun sollen größere Entlassungsmaßnahmen bevorstehen.\n",
      "\n",
      "---------------------------\n",
      "Twitter will am Freitag Entlassene schon wieder zurückholen Als auf Betreiben Elon Musks die Hälfte der Twitter-Belegschaft gefeuert wurde, war das wohl nicht durchdacht. Erste Entlassene sollen zurückgeholt werden.\n",
      "\n",
      "---------------------------\n",
      "Smartphone-Daten sollen helfen, den Brücken-Zustand zu bewerten Bei Autofahrten über Brücken erfassen Smartphones Vibrationen. Diese wollen Forscher nutzen, um frühzeitige Hinweise auf den Brückenzustand zu liefern.\n",
      "\n",
      "---------------------------\n",
      "Twitter beginnt mit Entlassungen Wie erwartet hat Twitter mit ersten Entlassungen begonnen. Neu-Chef Elon Musk beklagt sich unterdessen über einen Exodus der Werbekunden.\n",
      "\n",
      "---------------------------\n",
      "Meta Quest Pro im Test: Die Zukunft des Zwinkerns Das High-End-VR-Headset Meta Quest Pro kostet happige 1800 Euro. Kommt man damit besser ins \"Metaverse\" als mit der Quest 2?\n",
      "\n",
      "---------------------------\n",
      "Matter: Universeller Smart-Home-Standard startet schleppend Geräte und Apps: Was Amazon, Eve, Aqara, Philips Hue, Nanoleaf und andere Hersteller zum Start des Smart-Home-Standards Matter bieten.​\n",
      "\n",
      "---------------------------\n",
      "Chinesische Raketenstufe zerbrochen und unkontrolliert in den Pazifik gestürzt Die große Hauptstufe der chinesischen Rakete, die Anfang der Woche gestartet ist, ist in den Ozean gestürzt. Zuvor war der spanische Luftraum gesperrt worden.\n",
      "\n",
      "---------------------------\n",
      "Chinesische Raketenstufe: Spanischer Luftraum wegen Absturz teilweise gesperrt Die Hauptstufe der chinesischen Rakete \"Langer Marsch 5B\" stürzt ab und treffen kann es auch noch Spanien. Dort wurde sicherheitshalber der Luftraum gesperrt.\n",
      "\n",
      "---------------------------\n",
      "Chinesische Raketenstufe: Unkontrollierter Absturz schon am Freitagvormittag Die chinesische Raketenstufe wird neuesten Berechnungen zufolge nun doch deutlich früher auf die Erde stürzen als gedacht. Der Ort lässt sich etwas eingrenzen.\n",
      "\n",
      "---------------------------\n",
      "Twitter schließt Büros am Freitag: Massenhafte Entlassungen erfolgen per E-Mail Eine Woche nach der Übernahme durch Elon Musk werden am Freitag wohl tausende Angestellte entlassen. Die Kündigungen erfolgen per E-Mail, die Büros sind zu.\n",
      "\n",
      "---------------------------\n",
      "Verfassungsschutz: Karlsruhe schränkt Weitergabe von Daten an die Polizei ein Karlsruhe hatte bereits Bayerns Verfassungsschutzgesetz kassiert. Jetzt rügt das Gericht erneut die Aufweichung der Trennung zwischen Polizei und Geheimdiensten\n",
      "\n",
      "---------------------------\n",
      "DSGVO-Urteil: Bürger dürfen Falschparker für Anzeigen fotografieren Fotos von Falschparkern zu schießen und an die Polizei zu schicken, ist rechtens. Das hat jetzt ein Gericht geurteilt.\n",
      "\n",
      "---------------------------\n",
      "Gegen Fake-News und \"toxische Propaganda\": \"Desinformation tötet täglich\" Der tschechische Minister Jan Lipavský fordert ein schärferes Vorgehen gegen \"toxische Propaganda\" aus Russland und China. Die EU-Kommission will proaktiv sein.\n",
      "\n",
      "---------------------------\n",
      "Kyoto-Besuch: Steinmeier erinnert an die Dringlichkeit des Klimaschutzes Vor 25 Jahren unterschrieb auch Deutschland das Kyoto-Protokoll. Bundespräsident Steinmeier mahnt, dass aktuelle Krisen den Klimaschutz nicht verdrängen dürfen.\n",
      "\n",
      "---------------------------\n",
      "Photovoltaikausbau: Das Potenzial der Supermärkte Deutsche Supermärkte haben das Potenzial ihrer Dachflächen entdeckt und belegen die Flachdächer mit Photovoltaik. Der meiste Strom wird vor Ort gebraucht.\n",
      "\n",
      "---------------------------\n",
      "Job im Start-up: Himmelfahrtskommando oder Karriere-Beschleuniger? Die Ideen von Start-up-Unternehmen sind innovativ, das Arbeitsumfeld kreativ. Aber das Risiko des Jobverlusts ist hoch. Wer in ein Start-up passt und wer nicht.\n",
      "\n",
      "---------------------------\n",
      "OpenSSL: Update zum Schließen der kritischen Sicherheitslücke verfügbar Das Update zum Schließen der kritischen Sicherheitslücke in OpenSSL, die das Projekt vergangene Woche angekündigt hat, steht jetzt bereit.\n",
      "\n",
      "---------------------------\n",
      "Carsharing: Volkswagen verkauft WeShare an Miles Mobility Volkswagen verkauft seinen Carsharing-Dienst für einen nicht genannten Preis an den unabhängigen Konkurrenten Miles Mobility.\n",
      "\n",
      "---------------------------\n",
      "Iran: Regime kann individuelle Handyverbindungen überwachen und manipulieren Ein Whistleblower hat Dokumente zur Mobilfunküberwachung im Iran weitergegeben. Die zeigen, wie Proteste unterdrückt werden sollen und wie weit das System geht.\n",
      "\n",
      "---------------------------\n",
      "Adobe: Pantone-Farbpaletten benötigen künftig ein Abo – sonst bleibt nur Schwarz Wer mit Adobes Creative Cloud-Anwendungen Farbpaletten von Pantone nutzen will, muss künftig ein zusätzliches Abo abschließen. Sonst sieht man nur noch Schwarz.\n",
      "----------------------------------------------------------------\n",
      "----------------------------------------------------------------\n",
      "----------------------------------------------------------------\n",
      "Number of used trainings samples in categorie tech 80\n",
      "Number of used trainings samples in categorie notech 102\n",
      "Number of used test samples 85\n",
      "------------------------------------------------------------\n"
     ]
    }
   ],
   "source": [
    "import feedparser\n",
    "# Added this Line\n",
    "feeds = {}\n",
    "\n",
    "def countFeed(feedList, title, should_print=False):\n",
    "    if should_print:\n",
    "        print(f\"--------------------News from {title}------------------------\")\n",
    "    count = 0\n",
    "    for feed in feedList:\n",
    "        if should_print:\n",
    "            print()\n",
    "            print(\"*\"*30)\n",
    "            print(feed)\n",
    "        f=feedparser.parse(feed)\n",
    "        for e in f.entries:\n",
    "            if hasattr(e, 'title') and hasattr(e, 'description'):\n",
    "                if should_print:\n",
    "                    print('\\n---------------------------')\n",
    "                fulltext=stripHTML(e.title+' '+e.description)\n",
    "                # Added these Line, to get the News as a string.\n",
    "                if title not in feeds:\n",
    "                    feeds[title] = []\n",
    "                feeds[title].append(fulltext)\n",
    "                if should_print:\n",
    "                    print(fulltext)\n",
    "                count += 1\n",
    "    if should_print:\n",
    "        print(\"----------------------------------------------------------------\")\n",
    "        print(\"----------------------------------------------------------------\")\n",
    "        print(\"----------------------------------------------------------------\")\n",
    "    return count\n",
    "\n",
    "def stripHTML(h):\n",
    "    p=''\n",
    "    s=0\n",
    "    for c in h:\n",
    "        if c=='<': \n",
    "            s=1\n",
    "        elif c=='>':\n",
    "            s=0\n",
    "            p+=' '\n",
    "        elif s==0:\n",
    "            p+=c\n",
    "    return p\n",
    "\n",
    "\n",
    "trainTech=['http://rss.chip.de/c/573/f/7439/index.rss',\n",
    "           #'http://feeds.feedburner.com/netzwelt',\n",
    "           'http://rss1.t-online.de/c/11/53/06/84/11530684.xml',\n",
    "           'http://www.computerbild.de/rssfeed_2261.xml?node=13',\n",
    "           'http://www.heise.de/newsticker/heise-top-atom.xml']\n",
    "\n",
    "trainNonTech=['http://newsfeed.zeit.de/index',\n",
    "              'http://newsfeed.zeit.de/wirtschaft/index',\n",
    "              'http://www.welt.de/politik/?service=Rss',\n",
    "              'http://www.spiegel.de/schlagzeilen/tops/index.rss',\n",
    "              'http://www.sueddeutsche.de/app/service/rss/alles/rss.xml',\n",
    "              'http://www.faz.net/rss/aktuell/']\n",
    "\n",
    "test=['http://rss.golem.de/rss.php?r=sw&feed=RSS0.91',\n",
    "      'http://newsfeed.zeit.de/politik/index',  \n",
    "      'http://www.welt.de/?service=Rss']\n",
    "\n",
    "countnews={}\n",
    "\n",
    "countnews['tech']=countFeed(trainTech, 'trainTech', should_print=True)\n",
    "countnews['nontech']=countFeed(trainNonTech, 'trainNonTech')\n",
    "countnews['testTech']=countFeed(test[:1], 'testTech')\n",
    "countnews['testNonTech']=countFeed(test[1:], 'testNonTech')\n",
    "\n",
    "print('Number of used trainings samples in categorie tech',countnews['tech'])\n",
    "print('Number of used trainings samples in categorie notech',countnews['nontech'])\n",
    "print('Number of used test samples',countnews['testTech'] + countnews['testNonTech'])\n",
    "print('--'*30)"
   ]
  },
  {
   "cell_type": "markdown",
   "metadata": {
    "tags": []
   },
   "source": [
    "<h2 style=\"color: DarkGoldenrod\"> Erklärung </h2>\n",
    "\n",
    "### 1. \n",
    "Da die feeds nicht als strings in der gegebenen Funktion gespeichert wurden, haben wir ein paar Zeilen die das tun hinzugefügt.\n",
    "\n",
    "### 2. \n",
    "**confusion matrix:**    \n",
    "Accuracy: Die Accuracy beschreibt die Genauigkeit bzw. Rate aller insgesamt richtigen Klassifikationen. In unserem Fall liegt sie bei 0.52 und ist damit sehr mittelmäßig.    \n",
    "**Precision:** Precision ist ein Maß für Genaugikeit und definiert, dass eine Klasse richtig ist, wenn sie vorhergesagt wird.\n",
    "**Recall:** Recall gibt den Anteil der korrekt als positiv klassifizierten Daten im Bezug auf die Gesamtheit der tatsächlich positiven Daten zurück.      \n",
    "**F1-Score:** Der F-Score setzt sich aus Precision und Recall (harmonisches Mittel) zusammen und beschreibt die Gesamtgenauigkeit der Vorhersagen. Ein guter F-Score ist perfekt wenn es den Wert 1 besitzt, während 0 sehr schlecht ist. \n",
    "\n",
    "\n",
    "### 3. \n",
    "Die Accuracy liegt bei uns im Mittelfeld, das liegt daran das die Testdatensätze etwa gleich groß sind und bei TestTech fast alles falsch Klassifiziert wurde und bei TestNonTech fast alles korrekt klassifiziert wurde.   \n",
    "\n",
    "Die Precision für Tech News ist sehr hoch weil wir kaum Tech Vorhersagen haben aber wenn wir dies Vorhersagen ist das Ergebnis korrekt.   \n",
    "Im gegensatzt dazu ist der Recall für Tech nun extrem gering weil in Tech sehr viel als NonTech erkannt wurde.   \n",
    "**Conclusion/F1-Score:**   \n",
    "Dies kann man am F1-Score sehen, dass unser Modell bescheiden ist um Tech News auch als solche zu klassifizieren. Hingegen ist die Klassifizierung von NonTech News ganz okay (Naiv betrachtet). Allerdings identifizieren wir so oder so fast alles als NonTech und damit ist fragwürdig ob der F1-Score dann eine gute Aussagekraft für NonTech hat.\n",
    "\n",
    "**Zeit für eine weitere Verschwörungstheorie!!!!**   \n",
    "Kann es sein das sich seit Montag die Texte extrem geändert habe? Es ist die Woche vor Black Friday und die Texte sind voll damit. Die Texte haben sich HEUTE (23.11.22)![](https://cdn.discordapp.com/attachments/938091917877608488/1045025506510245979/image.png) geändert. Dadurch haben wir im Vergleich zu Montag komplett andere Werte.\n",
    "Am Montag funktionierte das trainierte Modell noch ziemlich gut. ![](https://media.discordapp.net/attachments/938091917877608488/1045009524723028059/image.png)  \n",
    "\n",
    "Aufgrund der komischen Ergebnisse, sind wir manuell durch alle News gegangen um das Ergebnis zu verstehen.   \n",
    "Unser Eindruck:   \n",
    "\n",
    "testTech: sehr Technisch   \n",
    "trainTech: 50% Black Friday deals & rest mischung aus Tech Politik und NASA Mondlandung   \n",
    "\n",
    "testNonTech: sehr Politisch   \n",
    "trainNonTech: gar nicht Technisch   \n",
    "\n",
    "==> da die trainTech daten eher eine Kategorie \"Deals und Nasa\" abbilden, werden die testTech daten nicht als diese Kategorie erkannt.\n"
   ]
  },
  {
   "cell_type": "code",
   "execution_count": 6,
   "metadata": {
    "tags": []
   },
   "outputs": [
    {
     "name": "stdout",
     "output_type": "stream",
     "text": [
      "{'tech': 80, 'nontech': 102, 'testTech': 40, 'testNonTech': 45}\n",
      "{'trainTech': 80, 'trainNonTech': 102, 'testTech': 40, 'testNonTech': 45}\n"
     ]
    }
   ],
   "source": [
    "# Aufgabe 1\n",
    "print(countnews)\n",
    "print({cat: len(feeds[cat]) for cat in feeds.keys()})\n",
    "\n",
    "c1 = Classifier(getwords, [\"Tech\", \"NonTech\"])\n",
    "for news in feeds.get(\"trainTech\"):\n",
    "    c1.train(news, 'Tech')\n",
    "for news in feeds.get(\"trainNonTech\"):\n",
    "    c1.train(news, 'NonTech')"
   ]
  },
  {
   "cell_type": "code",
   "execution_count": 7,
   "metadata": {
    "tags": []
   },
   "outputs": [
    {
     "name": "stdout",
     "output_type": "stream",
     "text": [
      "resultsTech: correct: 2 incorrect: 38\n",
      "resultsNonTech: correct: 45 incorrect: 0\n",
      "\n",
      "Confusion Matrix: [[45  0]\n",
      " [38  2]]\n",
      "Accuracy: 0.5529411764705883\n",
      "\n",
      "Precision Tech: 1.0\n",
      "Precision NonTech: 0.5421686746987951\n",
      "\n",
      "Recall Tech: 0.05\n",
      "Recall NonTech: 1.0\n",
      "\n",
      "F1-Score Tech: 0.09523809523809523\n",
      "F1-Score NonTech: 0.7031249999999999\n",
      "\n",
      "              precision    recall  f1-score   support\n",
      "\n",
      "     NonTech       0.54      1.00      0.70        45\n",
      "        Tech       1.00      0.05      0.10        40\n",
      "\n",
      "    accuracy                           0.55        85\n",
      "   macro avg       0.77      0.53      0.40        85\n",
      "weighted avg       0.76      0.55      0.42        85\n",
      "\n"
     ]
    },
    {
     "data": {
      "image/png": "[encoded data removed]",
      "text/plain": [
       "<Figure size 800x800 with 1 Axes>"
      ]
     },
     "metadata": {},
     "output_type": "display_data"
    }
   ],
   "source": [
    "# Aufgabe 2\n",
    "from sklearn.metrics import confusion_matrix, accuracy_score, f1_score, recall_score, precision_score\n",
    "from sklearn import metrics\n",
    "import numpy as np\n",
    "import pandas as pd\n",
    "from pretty_confusion_matrix import pp_matrix\n",
    "import matplotlib.pyplot as plt\n",
    "\n",
    "tags = [\"Tech\" for i in range(countnews['testTech'])] + [\"NonTech\" for i in range(countnews['testNonTech'])] # c\n",
    "resultsTech = [c1.predictionResult(news).get(\"prediction\") for news in feeds.get(\"testTech\")]\n",
    "resultsNonTech = [c1.predictionResult(news).get('prediction') for news in feeds.get(\"testNonTech\")]\n",
    "results = resultsTech + resultsNonTech\n",
    "\n",
    "\n",
    "print(\"resultsTech:\", \"correct:\", resultsTech.count(\"Tech\"), \"incorrect:\" , resultsTech.count(\"NonTech\"))\n",
    "print(\"resultsNonTech:\", \"correct:\",resultsNonTech.count(\"NonTech\"), \"incorrect:\", resultsNonTech.count(\"Tech\"))\n",
    "print(\"\")\n",
    "print(\"Confusion Matrix:\",confusion_matrix(tags, results))\n",
    "print(\"Accuracy:\", accuracy_score(tags, results))\n",
    "print(\"\")\n",
    "print(\"Precision Tech:\", precision_score(tags, results, pos_label=\"Tech\"))\n",
    "print(\"Precision NonTech:\", precision_score(tags, results, pos_label=\"NonTech\"))\n",
    "print(\"\")\n",
    "print(\"Recall Tech:\", recall_score(tags, results, pos_label=\"Tech\"))\n",
    "print(\"Recall NonTech:\", recall_score(tags, results, pos_label=\"NonTech\"))\n",
    "print(\"\")\n",
    "print(\"F1-Score Tech:\", f1_score(tags, results, pos_label=\"Tech\"))\n",
    "print(\"F1-Score NonTech:\", f1_score(tags, results, pos_label=\"NonTech\"))\n",
    "print(\"\")\n",
    "print(metrics.classification_report(tags, results))\n",
    "\n",
    "# For some reason we had to flip around the order of the tags maybe coz there are more NonTech than Tech\n",
    "df= pd.DataFrame(confusion_matrix(tags, results), index=[ 'NonTech','Tech'], columns=[ 'NonTech','Tech'])\n",
    "#cmap = 'GnBu'\n",
    "cmp=plt.cm.summer\n",
    "pp_matrix(df, cmap=cmp)\n"
   ]
  },
  {
   "cell_type": "code",
   "execution_count": 8,
   "metadata": {
    "tags": []
   },
   "outputs": [
    {
     "name": "stdout",
     "output_type": "stream",
     "text": [
      "F1T: 0.8089887640449438\n",
      "F1NT: 0.7901234567901234\n"
     ]
    }
   ],
   "source": [
    "# TESTING if we are right haha\n",
    "PrecisionTech = 0.7346938775510204\n",
    "PrecisionNonTech = 0.8888888888888888\n",
    "\n",
    "RecallTech= 0.9\n",
    "RecallNonTech= 0.7111111111111111\n",
    "\n",
    "F1ScoreTech =  0.8089887640449438\n",
    "F1ScoreNonTech = 0.7901234567901234\n",
    "\n",
    "F1T = 2* (PrecisionTech * RecallTech) / (PrecisionTech + RecallTech)\n",
    "F1NT = 2* (PrecisionNonTech * RecallNonTech) / (PrecisionNonTech + RecallNonTech)\n",
    "print(\"F1T:\", F1T)\n",
    "print(\"F1NT:\", F1NT)"
   ]
  },
  {
   "cell_type": "markdown",
   "metadata": {},
   "source": [
    "# 4.\n",
    "Um die Klassifikation zu verbessern kann man zu Beginn alle Füllwörter entfernen. Diese haben keine Aussgakraft über die Art des Textes.   \n",
    "Bsp. \"er, sie, du, wir, und, weil\" --> anhan dieser Wörter kann man nicht erkennen worum es im Text geht. \"Computer, CPU, verkabeln\" --> anhand dieser Wörter kann viel besser erkannt werden worum er sich vermutlich hadelt.   \n",
    "Außerdem kann man versuchen Rechtscheibfehler zu korrigieren um sicher zu stellen das jedes Wort im Text zur Klassifizierung beitragen kann.   \n",
    "## Stemming\n",
    "Des weiteren können wir Algorithmen wie Stemming oder Lemmatiazation anwenden. Mit ihnen lassen sich Texte normalisieren.   \n",
    "Stemming ist ein Algorithmus, der immer die Suffixe entfernt und nur den Wortstamm beibehält. \n",
    "Im unteren Beispiel wird aus den verschiedenen Zeitformen \"wait\", \"waiting\", \"waited\", \"waits\" der Wortstamm ,\"wait\" beibehalten.   \n",
    "## Overstemming bzw. Understemming\n",
    "Dennoch kann es hier durch Over-/Understemming zu Fehlern kommen. In dem darunterführenden Beispiel ist das Overstemming sichtbar, da die Wörter \"university\", \"universal\", \"universe\" alle eine unterschiedliche Bedeutung haben, dennoch durch das Stemming alle zu ,,univers\" werden.\n",
    "## Lemming\n",
    "Lemming ist ein Algorhitmus, der die Fehler vom Over- und Underfitting reduzieren soll, indem er auch überprüft ob das Wort ein Adjekvtiv, Substantiv oder Verb ist.\n",
    "Zu nächst wird das Wort mit einem Wörterbuch, der jeweligen Sprache abgeglichen, wenn so kein Treffer erfolgt wird das Wort auseinander genommen und geschaut ob somit Treffer entstehen. Beispiel \"getroffen\" wird somit geanu wie \"treffen\" zu dem Wort \"treff\" oder das Wort \"better\" wird somit zu \"good\".\n",
    "Dieser Algorihtmus ist allerdings sehr Zeitaufwändig, da entweder alle Wörter im Wörtbuch verglichen oder das Wort aufgetrennt und danach wieder verglichen werden müssen. "
   ]
  },
  {
   "cell_type": "code",
   "execution_count": 10,
   "metadata": {},
   "outputs": [
    {
     "data": {
      "text/plain": [
       "TextBlob(\"sentence is not true\")"
      ]
     },
     "execution_count": 10,
     "metadata": {},
     "output_type": "execute_result"
    }
   ],
   "source": [
    "# Quelle https://griesshaber.pages.mi.hdm-stuttgart.de/nlp/02normalisation/03StemLemma.html\n",
    "from textblob import TextBlob\n",
    "w=TextBlob(\"sentense is not tru\")\n",
    "wcorr=w.correct()\n",
    "wcorr"
   ]
  },
  {
   "cell_type": "code",
   "execution_count": 11,
   "metadata": {},
   "outputs": [
    {
     "name": "stdout",
     "output_type": "stream",
     "text": [
      "Alte Liste:  ['wait', 'waiting', 'waited', 'waits']\n",
      "normalisierte Liste:  ['wait', 'wait', 'wait', 'wait']\n"
     ]
    }
   ],
   "source": [
    "from nltk.stem import PorterStemmer\n",
    "\n",
    "# Liste mit verschiedenen Zeitformen von dem verb ,,wait''\n",
    "words= [\"wait\", \"waiting\", \"waited\", \"waits\"]\n",
    "newWords=[]\n",
    "print(\"Alte Liste: \", words)\n",
    "\n",
    "ps =PorterStemmer()\n",
    "\n",
    "for w in words:\n",
    "    rootWord=ps.stem(w)\n",
    "    newWords.append(rootWord)\n",
    "    \n",
    "print(\"normalisierte Liste: \" , newWords)"
   ]
  },
  {
   "cell_type": "code",
   "execution_count": 12,
   "metadata": {},
   "outputs": [
    {
     "name": "stdout",
     "output_type": "stream",
     "text": [
      "Bsp. Overstemming\n",
      "Alte Liste  ['university', 'universal', 'universe']\n",
      "Neue Liste  ['univers', 'univers', 'univers']\n"
     ]
    }
   ],
   "source": [
    "# Liste mit verschiedenen Zeitformen von dem verb ,,universe''\n",
    "o_words= [\"university\", \"universal\", \"universe\"]\n",
    "newWords_o=[]\n",
    "print(\"Bsp. Overstemming\")\n",
    "print(\"Alte Liste \", o_words)\n",
    "\n",
    "ps =PorterStemmer()\n",
    "\n",
    "for w in o_words:\n",
    "    rootWords=ps.stem(w)\n",
    "    newWords_o.append(rootWords)\n",
    "    \n",
    "print(\"Neue Liste \" , newWords_o)"
   ]
  },
  {
   "cell_type": "code",
   "execution_count": 13,
   "metadata": {},
   "outputs": [
    {
     "name": "stdout",
     "output_type": "stream",
     "text": [
      "wir\n",
      "werden\n",
      "Datamining\n",
      "mit\n",
      "ein\n",
      "sehr\n",
      "guten\n",
      "Note\n",
      "bestehen\n",
      "haben\n"
     ]
    }
   ],
   "source": [
    "from textblob import TextBlob\n",
    "import nltk\n",
    "import textblob_de\n",
    "\n",
    "myBlob5=textblob_de.TextBlobDE(\"Wir werden Datamining mit einer sehr guten Note bestanden haben.\")\n",
    "for word in myBlob5.words.lemmatize():\n",
    "    print(word)"
   ]
  },
  {
   "cell_type": "code",
   "execution_count": 14,
   "metadata": {},
   "outputs": [
    {
     "name": "stdout",
     "output_type": "stream",
     "text": [
      "{'Test': 1, 'Asd': 1, 'Asdae2asd': 1, 'Asfa': 1, 'Wortmitü': 1}\n"
     ]
    },
    {
     "data": {
      "text/plain": [
       "{'test': 1, 'asd': 1, 'asdae2asd': 1, 'asfas': 1, 'wortmitü': 1}"
      ]
     },
     "execution_count": 14,
     "metadata": {},
     "output_type": "execute_result"
    }
   ],
   "source": [
    "from HanTa import HanoverTagger as ht\n",
    "import nltk\n",
    "\n",
    "def getWords_improved(doc):\n",
    "    tagger = ht.HanoverTagger('morphmodel_ger.pgz')\n",
    "    wordsImproved = dict()\n",
    "    result = re.findall(r'\\w+', doc.lower())\n",
    "    for word in result:\n",
    "        lemmaWord = tagger.analyze(word, taglevel = 1)[0]\n",
    "        wordsImproved[lemmaWord] = 1\n",
    "    return wordsImproved\n",
    "\n",
    "#Test\n",
    "words = getWords_improved(\"test. Test . asd .asdae2asd .asfas wortmitÜ!\")\n",
    "print(words)\n",
    "\n",
    "test_string = \"test. Test . asd .asdae2asd .asfas wortmitÜ!\"\n",
    "getwords(test_string)"
   ]
  },
  {
   "cell_type": "code",
   "execution_count": 15,
   "metadata": {},
   "outputs": [
    {
     "name": "stdout",
     "output_type": "stream",
     "text": [
      "{'tech': 80, 'nontech': 102, 'testTech': 40, 'testNonTech': 45}\n",
      "{'trainTech': 80, 'trainNonTech': 102, 'testTech': 40, 'testNonTech': 45}\n"
     ]
    }
   ],
   "source": [
    "print(countnews)\n",
    "print({cat: len(feeds[cat]) for cat in feeds.keys()})\n",
    "\n",
    "c1 = Classifier(getWords_improved, [\"Tech\", \"NonTech\"])\n",
    "for news in feeds.get(\"trainTech\"):\n",
    "    c1.train(news, 'Tech')\n",
    "for news in feeds.get(\"trainNonTech\"):\n",
    "    c1.train(news, 'NonTech')"
   ]
  },
  {
   "cell_type": "code",
   "execution_count": 16,
   "metadata": {},
   "outputs": [
    {
     "name": "stdout",
     "output_type": "stream",
     "text": [
      "resultsTech: correct: 2 incorrect: 38\n",
      "resultsNonTech: correct: 45 incorrect: 0\n",
      "\n",
      "Confusion Matrix: [[45  0]\n",
      " [38  2]]\n",
      "Accuracy: 0.5529411764705883\n",
      "\n",
      "Precision Tech: 1.0\n",
      "Precision NonTech: 0.5421686746987951\n",
      "\n",
      "Recall Tech: 0.05\n",
      "Recall NonTech: 1.0\n",
      "\n",
      "F1-Score Tech: 0.09523809523809523\n",
      "F1-Score NonTech: 0.7031249999999999\n",
      "\n",
      "              precision    recall  f1-score   support\n",
      "\n",
      "     NonTech       0.54      1.00      0.70        45\n",
      "        Tech       1.00      0.05      0.10        40\n",
      "\n",
      "    accuracy                           0.55        85\n",
      "   macro avg       0.77      0.53      0.40        85\n",
      "weighted avg       0.76      0.55      0.42        85\n",
      "\n"
     ]
    },
    {
     "data": {
      "image/png": "[encoded data removed]",
      "text/plain": [
       "<Figure size 800x800 with 1 Axes>"
      ]
     },
     "metadata": {},
     "output_type": "display_data"
    }
   ],
   "source": [
    "tags = [\"Tech\" for i in range(countnews['testTech'])] + [\"NonTech\" for i in range(countnews['testNonTech'])] # c\n",
    "resultsTech = [c1.predictionResult(news).get(\"prediction\") for news in feeds.get(\"testTech\")]\n",
    "resultsNonTech = [c1.predictionResult(news).get('prediction') for news in feeds.get(\"testNonTech\")]\n",
    "results = resultsTech + resultsNonTech\n",
    "\n",
    "\n",
    "print(\"resultsTech:\", \"correct:\", resultsTech.count(\"Tech\"), \"incorrect:\" , resultsTech.count(\"NonTech\"))\n",
    "print(\"resultsNonTech:\", \"correct:\",resultsNonTech.count(\"NonTech\"), \"incorrect:\", resultsNonTech.count(\"Tech\"))\n",
    "print(\"\")\n",
    "print(\"Confusion Matrix:\",confusion_matrix(tags, results))\n",
    "print(\"Accuracy:\", accuracy_score(tags, results))\n",
    "print(\"\")\n",
    "print(\"Precision Tech:\", precision_score(tags, results, pos_label=\"Tech\"))\n",
    "print(\"Precision NonTech:\", precision_score(tags, results, pos_label=\"NonTech\"))\n",
    "print(\"\")\n",
    "print(\"Recall Tech:\", recall_score(tags, results, pos_label=\"Tech\"))\n",
    "print(\"Recall NonTech:\", recall_score(tags, results, pos_label=\"NonTech\"))\n",
    "print(\"\")\n",
    "print(\"F1-Score Tech:\", f1_score(tags, results, pos_label=\"Tech\"))\n",
    "print(\"F1-Score NonTech:\", f1_score(tags, results, pos_label=\"NonTech\"))\n",
    "print(\"\")\n",
    "print(metrics.classification_report(tags, results))\n",
    "\n",
    "# For some reason we had to flip around the order of the tags maybe coz there are more NonTech than Tech\n",
    "df= pd.DataFrame(confusion_matrix(tags, results), index=[ 'NonTech','Tech'], columns=[ 'NonTech','Tech'])\n",
    "#cmap = 'GnBu'\n",
    "cmp=plt.cm.summer\n",
    "pp_matrix(df, cmap=cmp)"
   ]
  },
  {
   "cell_type": "markdown",
   "metadata": {},
   "source": [
    "Zu erwarten wäre eine kleine Verbesserung. Leider können wir den Untrerschied nicht wirklich erkennen da wie oben genannt der Datensatz durch Black Friday verfälscht wurde und eine kleine Änderung bei wesentlich mehr Daten sichtbarer wäre. \n",
    "Ein Größerer Datensatz über einen längeren Zeitraum wäre an dieser Stelle sehr hilfreich gewesen.\n",
    "Aber immerhin, wenn wir Tech vorhersagen ist es auch Tech."
   ]
  },
  {
   "cell_type": "code",
   "execution_count": 17,
   "metadata": {},
   "outputs": [
    {
     "name": "stdout",
     "output_type": "stream",
     "text": [
      "Erotik, Pornos und NSFW: Unstable Diffusion trainiert KI für pornografische Bilder Mithilfe der KI Stable Diffusion trainiert sich eine Community ihre eigene Software. Damit sollen pornografische Bilder generiert werden. ( Deep Learning ,  KI )  \n"
     ]
    }
   ],
   "source": [
    "# Spannend was man so findent ...\n",
    "\n",
    "for news in feeds.get(\"testTech\"):\n",
    "    if news.count(\"Erotik\") > 0:\n",
    "        print(news)"
   ]
  }
 ],
 "metadata": {
  "kernelspec": {
   "display_name": "Python 3 (ipykernel)",
   "language": "python",
   "name": "python3"
  },
  "language_info": {
   "codemirror_mode": {
    "name": "ipython",
    "version": 3
   },
   "file_extension": ".py",
   "mimetype": "text/x-python",
   "name": "python",
   "nbconvert_exporter": "python",
   "pygments_lexer": "ipython3",
   "version": "3.10.6"
  },
  "nav_menu": {},
  "toc": {
   "base_numbering": 1,
   "nav_menu": {},
   "number_sections": true,
   "sideBar": true,
   "skip_h1_title": false,
   "title_cell": "Table of Contents",
   "title_sidebar": "Contents",
   "toc_cell": false,
   "toc_position": {},
   "toc_section_display": "block",
   "toc_window_display": false
  },
  "vscode": {
   "interpreter": {
    "hash": "0191aa6197a52f78b480b9b627ae8da99d9b21f3644c493703e41348b215b163"
   }
  }
 },
 "nbformat": 4,
 "nbformat_minor": 4
}

{
 "cells": [
  {
   "cell_type": "markdown",
   "metadata": {},
   "source": [
    "# Data Mining Versuch Fahrzeugdaten\n",
    "\n",
    "* Autor: Prof. Dr. Johannes Maucher\n",
    "* Datum: 11.03.2021\n",
    "\n",
    "**Abzugeben ist das Jupyter Notebook mit dem verlangten Implementierungen, den entsprechenden Ausgaben, Antworten und Diskussionen/Beschreibungen. Das Notebook ist als .ipynb und als .html abzugeben.**\n",
    "\n",
    "* [Übersicht Jupyter Notebooks im Data Mining Praktikum](http://maucher.pages.mi.hdm-stuttgart.de/ai/page/dm/)\n",
    "\n",
    "\n",
    "# Einführung\n",
    "## Lernziele:\n",
    "In diesem Versuch sollen Kenntnisse in folgenden Themen vermittelt werden:\n",
    "\n",
    "* Datenimport und Datenexport von und zu \n",
    "    * Pandas Dataframes\n",
    "    * PostgreSQL Datenbanken\n",
    "* Explorative Datenanalysen (EDA)\n",
    "* Datenvisualisierung mit Matplotlib und plotly\n",
    "* Überwachtes Lernen eines Klassifikationsmodells\n",
    "* Überwachtes Lernen eines Regressionsmodells\n",
    "* Evaluation von Klassifikationsmodellen\n",
    "* Evaluation von Regressionsmodellen\n",
    "* Kreuzvalidierung\n",
    "* Hyperparameteroptimierung\n",
    "\n",
    "## Vorbereitung\n",
    "\n",
    "### Datenbankzugriff\n",
    "1. Installieren Sie PostgreSQL. Mit PostgreSQL sollte auch pgAdmin installiert werden. PgAdmin ist eine open-source Software für die Entwicklung und die Administration von PostgreSQL Datenbanken.\n",
    "2. Legen Sie über pgAdmin eine Datenbank für das Datamining-Praktikum an. In diese Datenbank werden alle in diesem Versuch relevanten Tabellen geschrieben.\n",
    "3. Für den Datenbankzugriff aus Python heraus wird in diesem Versuch [SQLAlchemy](http://docs.sqlalchemy.org/en/latest/intro.html) eingesetzt. Machen Sie sich mit den Basics von SQLAlchemy vertraut, z.B. mithilfe von [https://gitlab.mi.hdm-stuttgart.de/maucher/DataScienceProgramming/blob/master/Python/Lecture/07DataBasePandas.ipynb](https://gitlab.mi.hdm-stuttgart.de/maucher/DataScienceProgramming/blob/master/Python/Lecture/07DataBasePandas.ipynb), Abschnitt *Using SQLAlchemy and Pandas*.\n",
    "\n",
    "### Pandas Dataframe\n",
    "Machen Sie sich mit den Grundlagen von Pandas vertraut.\n",
    "\n",
    "\n",
    "### Machine Learning\n",
    "Machen Sie sich mit Entscheidungsbäumen, Random Forest, Single Layer Perzeptron und Multi Layer Perzeptron vertraut. "
   ]
  },
  {
   "cell_type": "markdown",
   "metadata": {},
   "source": [
    "# Learning\n",
    "\n",
    "### Was ist SQL Alchemy\n",
    "Ein Tool um in Python mit relationalen Datenbanken arbeiten zu können. Damit kann man SQL Abfragen erstellen und ORM (object relational mapping) umsetzen.\n",
    "\n",
    "Quelle: (https://www.plone-entwicklerhandbuch.de/relationale-datenbanken/sqlalchemy.html)"
   ]
  },
  {
   "cell_type": "markdown",
   "metadata": {},
   "source": [
    "#### Was ist Pandas\n",
    "* Erweitert numpy, ein Packet in Python um das Arbeiten mit Arrays (besonders Mehrdimensionalen) zu vereinfachen.\n",
    "* Pandas macht das Arbeiten mit Arrays zum Managen von Daten (zum Beispiel der Umgang mit lückenhaften Daten) noch einfacher, vorallem mithilfe von der Verbesserung von Indizes.\n",
    "\n",
    "(Quelle: https://maucher.pages.mi.hdm-stuttgart.de/python4datascience/PD01Pandas.html)"
   ]
  },
  {
   "cell_type": "code",
   "execution_count": 1,
   "metadata": {},
   "outputs": [
    {
     "name": "stdout",
     "output_type": "stream",
     "text": [
      "1.4.4\n"
     ]
    }
   ],
   "source": [
    "#!%conda install pandas\n",
    "import pandas as pd\n",
    "print(pd.__version__)"
   ]
  },
  {
   "cell_type": "markdown",
   "metadata": {},
   "source": [
    "##### Series\n",
    "Sind vergleichbar mit eindimensionalen Arrays mit einem konfigurierbaren Index. \n",
    "* Sie können aus Python Dictonaries erstellt werden.\n",
    "* Mit den klassisch nummerischen Indizes (0,1,..) serie[1] Elemente auswählen.\n",
    "* Mit eigen definierten string Indizes (\"pizza\",..) ```serie.loc[\"Pizza\"]``` oder mit eigen definierten integer Indizes ```serie.iloc[:3]```verwenden"
   ]
  },
  {
   "cell_type": "code",
   "execution_count": 2,
   "metadata": {},
   "outputs": [
    {
     "name": "stdout",
     "output_type": "stream",
     "text": [
      "0     Joy\n",
      "1    Maxi\n",
      "2     Lea\n",
      "dtype: object\n"
     ]
    }
   ],
   "source": [
    "names = pd.Series(data=[\"Joy\", \"Maxi\", \"Lea\"])\n",
    "print(names)"
   ]
  },
  {
   "cell_type": "code",
   "execution_count": 3,
   "metadata": {},
   "outputs": [
    {
     "name": "stdout",
     "output_type": "stream",
     "text": [
      "{'pizza': 10, 'pasta': 8, 'brokoli': 1}\n",
      "pizza      10\n",
      "pasta       8\n",
      "brokoli     1\n",
      "dtype: int64\n"
     ]
    }
   ],
   "source": [
    "food_evaluation = { \"pizza\": 10, \"pasta\": 8, \"brokoli\": 1}\n",
    "food_evaluation_serie =pd.Series(food_evaluation)\n",
    "\n",
    "print(food_evaluation)\n",
    "print(food_evaluation_serie)"
   ]
  },
  {
   "cell_type": "markdown",
   "metadata": {},
   "source": [
    "##### Dataframes\n",
    "Sind vergleichbar mit zweidimensionalen Arrays mit einem konfigurierbaren Index. \n",
    "* Können eigene Spalten definieren und eigene Indexe.\n",
    "* Sie können aus einer Python List aus Python Dictonaries erstellt werden.\n",
    "* Eine Spalte kann ausgewählt werden mit ```serie[\"column\"]``` oder  ```serie.column```\n",
    "* Eine Reihe kann **nicht** ausgewählt werden mit ```serie[\"row\"]```\n",
    "* Eine Reihe kann ausgewählt werden mit ```serie[\"row\":\"row\"]``` oder ```serie[0:1]``` aber **besser** mit ```serie.loc[\"row\"]``` oder ```serie.iloc[0]```\n",
    "\n",
    "(Quelle: https://maucher.pages.mi.hdm-stuttgart.de/python4datascience/PD01Pandas.html)"
   ]
  },
  {
   "cell_type": "code",
   "execution_count": 4,
   "metadata": {},
   "outputs": [
    {
     "name": "stdout",
     "output_type": "stream",
     "text": [
      "   0  1  2\n",
      "0  1  2  3\n",
      "1  4  5  6\n",
      "[[1 2 3]\n",
      " [4 5 6]]\n"
     ]
    }
   ],
   "source": [
    "numbers = pd.DataFrame(data=[[1, 2, 3], [4, 5, 6]])\n",
    "print(numbers)\n",
    "print(numbers.values)"
   ]
  },
  {
   "cell_type": "code",
   "execution_count": 5,
   "metadata": {},
   "outputs": [
    {
     "name": "stdout",
     "output_type": "stream",
     "text": [
      "      gender  age\n",
      "Maxi    male   21\n",
      "Lea   female   21\n",
      "Joy   female   21\n",
      "Spalten auswählen:\n",
      "Maxi      male\n",
      "Lea     female\n",
      "Joy     female\n",
      "Name: gender, dtype: object\n",
      "Zeile auswählen\n",
      "     gender  age\n",
      "Maxi   male   21\n",
      "     gender  age\n",
      "Maxi   male   21\n"
     ]
    }
   ],
   "source": [
    "people = pd.DataFrame(index=[\"Maxi\", \"Lea\", \"Joy\"], data=[[\"male\", 21], [\"female\", 21], [\"female\", 21]], columns=[\"gender\", \"age\"])\n",
    "print(people)\n",
    "\n",
    "print(\"Spalten auswählen:\")\n",
    "print(people[\"gender\"]) # people.gender\n",
    "\n",
    "print(\"Zeile auswählen\")\n",
    "print(people[\"Maxi\":\"Maxi\"])\n",
    "print(people[0:1])"
   ]
  },
  {
   "cell_type": "markdown",
   "metadata": {},
   "source": [
    "#### Machine Learning\n",
    "\n",
    "##### Entscheidungsbäume\n",
    "* Ein hierarchisches Modell für überwachtes Lernen (Es gibt \"Lehrer\" der \"erklärt\" was bestimmte Eingaben bedeuten)\n",
    "* aus Trainingsdaten wird Entscheidungsbaum gelernt\n",
    "* für Klassifikation  (Kategoriesieren des gelernten) und Regression (Vorhersage kontinuierlicher Ergebnisse (z.B liegt weiterer Wert an linearer Linie))\n",
    "* hat eine Baumstruktur \n",
    "    * mit einer Eingabe (steht ganz oben) \n",
    "    * verschiedenen Verzweigungen\n",
    "    * Knotenpunkten die entweder ein Ergebnis liefern oder nochmal verzweigt sind\n",
    "    * mehreren möglichen Ausgaben jeweils am Ende eines ganzen Zweigs\n",
    "* kann binärerer (onehot encoded mit 0 und 1, nur 0-false und 1-true als zweig) oder nicht binärer baum (kann mehrere zweige haben) sein \n",
    "* je mehr eingangswerte man in einen Baum hat desto eher kann man auf die Ausgangswerte schließen (Informationsgewinn)\n",
    "* Entropie ist das Maß für die Unvorhersehbarkeit  \n",
    "\n",
    "##### Random Forest\n",
    "* Wie bagging (paralleles Verfahren zum Lernen von Entscheidungsbäume), man lernt mehrere Modelle parallel und nimmt entweder die am Häufigsten vorkommende Klasse oder den Mittelwert\n",
    "* Unterschied ist das beim Random Forest nicht bei jedem Baum alle Merkmale beachtet werden sondern nur bestimmte oder zufällige (80%). Dadurch entstehen am ende leicht unterschiedliche Entscheidungsbäume die im Zusammenhang eine höheren Informationsgewinn und eine bessere Vorhersage bieten.\n",
    "\n",
    "#### Neuronale Netze \n",
    "* Eingabeneuronen --> Gewichte --> Aktivierungsfunktion\n",
    "* Man hat Eingabeneuronen, Gewichte für jedes Neuron am Anfang Zufall, wird in Lernalgorithmus (Aktivierungsfunktion) Eingesetzt und bekommt die Ist-Ausgabe heraus. Die wird mit einer Fehlerfunktion überprüft und dann je nachdem werden die Parameter angepasst. \n",
    "\n",
    "#### Aktivierungsfunktionen \n",
    "* Schwellwert - Klassifizierung mit harter Entscheidung K1 oder K2, \n",
    "* Identity - keine Aktivierung\n",
    "* Sigmoid k=2 mit weicher Entscheidung\n",
    "* Softmax k>2 mit weicher Entscheidung\n",
    "\n",
    "##### Single Layer Perzeptron\n",
    "* nur Ausgabeschicht ohne hidden layer (also nur eingabe, ausgabe und dazwischen die gewichte)\n",
    "* vollständige Vernetzung zwischen den Neuronen\n",
    "* bei K=2 (boolischer Klassifier) ein Ausgabeneuron\n",
    "* bei K>=2 K ist Anzahl der Ausgabeneuronen\n",
    "* Regression mit skalarem Funktionswer ein Ausgabeneuron\n",
    "\n",
    "##### Multi Layer Perzeptron\n",
    "* mit verborgenen Schichten wo die Ausgänge jeder Schicht mit den Eingängen aller Neuronen der nächsten Schicht verbunden ist (Hidden Layers zwischen Ein- und Ausgabeschicht, 3-Schichtig wäre z.B Eingabe, Mittlere Schicht (mit Eingabe mit Gewichten verbunden), Ausgabeschicht (mit Gewichten mit der Mittleren Schicht verbunden))\n",
    "* für Regression mit stetigen Funktionen (1 hidden layer), Regression mit nicht stetigen Funktionen (mind. 2 hidden layer) und Klassifikation mit nicht linearen Diskriminanten\n",
    "\n",
    "(Quelle: Vorlesung Lernblätter KI)"
   ]
  },
  {
   "cell_type": "markdown",
   "metadata": {},
   "source": [
    "# Durchführung\n",
    "\n",
    "## Einlesen der Daten aus .csv und Ablage in PostgreSQL\n",
    "In diesem ersten Teil des Versuchs sollen die relevanten Daten aus dem .csv-File eingelesen und in einer PostgreSQL-Tabelle abgelegt werden. Das benötigte File `Fahrzeuginformationen.csv` liegt im aktuellen Verzeichnis."
   ]
  },
  {
   "cell_type": "markdown",
   "metadata": {},
   "source": [
    "1. Laden Sie die .csv-Datei in einen Pandas Dataframe. \n",
    "\n",
    "2. Zeigen Sie für den angelegten Dataframe \n",
    "    * die ersten 10 Zeilen\n",
    "    * die Größe (Anzahl Zeilen und Anzahl Spalten)\n",
    "    * die Anzahl der NaNs pro Spalte\n",
    "    an. \n",
    "3. Zeigen Sie mit der Pandas-Dataframe Methode `info()`, den Datentyp aller Spalten an. Der Typ der Spalte `CO2-Emissionen` ist tatsächlich kein numerischer Typ. Finden Sie heraus warum das so ist. Beheben Sie den *Fehler* und sorgen Sie dafür, dass auch diese Spalte einen numerischen Typ hat.\n",
    "\n",
    "4. Schreiben Sie den im vorigen Schritt angepassten Dataframe mit der Pandas Methode `to_sql()` in eine Datenbanktabelle mit dem Namen `vehicledata`."
   ]
  },
  {
   "cell_type": "code",
   "execution_count": 6,
   "metadata": {},
   "outputs": [],
   "source": [
    "#%conda install -y psycopg2\n",
    "#%conda install -y sqlalchemy\n",
    "\n",
    "import pandas as pd"
   ]
  },
  {
   "cell_type": "code",
   "execution_count": 7,
   "metadata": {},
   "outputs": [],
   "source": [
    "# Aufgabe 1\n",
    "\n",
    "# Load csv \n",
    "from numbers import Number\n",
    "cars_csv=pd.read_csv(\"fahrzeuginformationen.csv\",sep=\",\",header=0,index_col=False)\n",
    "\n",
    "# Convert to dataframe\n",
    "cars = pd.DataFrame(cars_csv)"
   ]
  },
  {
   "cell_type": "code",
   "execution_count": 8,
   "metadata": {},
   "outputs": [
    {
     "name": "stdout",
     "output_type": "stream",
     "text": [
      "  HST Benennung            HT Benennung             UT Benennung  Karosserie  \\\n",
      "0    Volkswagen  T6 Bus (SG)(05.2015->)       Multivan Trendline  Bs           \n",
      "1    Volkswagen  T6 Bus (SG)(05.2015->)     Multivan Comfortline  Bs           \n",
      "2    Volkswagen  T6 Bus (SG)(05.2015->)  Multivan Generation Six  Bs           \n",
      "3    Volkswagen  T6 Bus (SG)(05.2015->)  Multivan 70 Jahre Bulli  Bs           \n",
      "4    Volkswagen  T6 Bus (SG)(05.2015->)            Multivan Join  Bs           \n",
      "5    Volkswagen  T6 Bus (SG)(05.2015->)    Multivan PanAmericana  Bs           \n",
      "6    Volkswagen  T6 Bus (SG)(05.2015->)         Multivan Edition  Bs           \n",
      "7    Volkswagen  T6 Bus (SG)(05.2015->)       Multivan Join lang  Bs           \n",
      "8    Volkswagen  T6 Bus (SG)(05.2015->)        Multivan Highline  Bs           \n",
      "9    Volkswagen  T6 Bus (SG)(05.2015->)        Multivan Business  Bs           \n",
      "\n",
      "   Neupreis Brutto  Produktgruppe Kraftstoffart Schadstoffklasse   CCM   KW  \\\n",
      "0            37962  T5-Klasse Pkw            BS               E6  1896  112   \n",
      "1            45294  T5-Klasse Pkw            BS               E6  1990  110   \n",
      "2            48675  T5-Klasse Pkw            BS               E6  1943  110   \n",
      "3            47201  T5-Klasse Pkw            BS               E6  2013  110   \n",
      "4            49453  T5-Klasse Pkw            BS               E6  1945  112   \n",
      "5            50795  T5-Klasse Pkw            BS               E6  1938  109   \n",
      "6            51605  T5-Klasse Pkw            BS               E6  1956  111   \n",
      "7            54560  T5-Klasse Pkw            BS               E6  1946  110   \n",
      "8            57729  T5-Klasse Pkw            BS               E6  1966  106   \n",
      "9            97850  T5-Klasse Pkw            BS               E6  2029  106   \n",
      "\n",
      "   ...  Zuladung Zulässiges GG Länge  Breite  Höhe  CO2-Emissionen  \\\n",
      "0  ...       905   2967.615635  4852    1849  2019             218   \n",
      "1  ...       753   3061.848723  4859    1827  1938             218   \n",
      "2  ...       768   3018.887414  4788    1823  1990             218   \n",
      "3  ...      1007   3096.198902  4927    1952  1935             210   \n",
      "4  ...       972   3068.590854  4916    1872  2026             210   \n",
      "5  ...       823   3046.890761  4886    1895  1933             210   \n",
      "6  ...       724   2957.083511  4658    1946  1954             210   \n",
      "7  ...       960   3099.520813  5162    1883  2000             212   \n",
      "8  ...       707   3033.083391  4994    1871  1980             218   \n",
      "9  ...       605   3006.976797  4948    1900  1931             218   \n",
      "\n",
      "   Min Energieeffizienzklasse     Antrieb    KSTA Motor  \\\n",
      "0                           D  FA          STANDARD ->B   \n",
      "1                           D  FA          STANDARD ->B   \n",
      "2                           D  FA          STANDARD ->B   \n",
      "3                           D  FA          STANDARD ->B   \n",
      "4                           D  FA          STANDARD ->B   \n",
      "5                           D  FA          STANDARD ->B   \n",
      "6                           D  FA          STANDARD ->B   \n",
      "7                           D  FA          STANDARD ->B   \n",
      "8                           D  FA          STANDARD ->B   \n",
      "9                           D  FA          STANDARD ->B   \n",
      "\n",
      "                    HST-HT Benennung  \n",
      "0  Volkswagen-T6 Bus (SG)(05.2015->)  \n",
      "1  Volkswagen-T6 Bus (SG)(05.2015->)  \n",
      "2  Volkswagen-T6 Bus (SG)(05.2015->)  \n",
      "3  Volkswagen-T6 Bus (SG)(05.2015->)  \n",
      "4  Volkswagen-T6 Bus (SG)(05.2015->)  \n",
      "5  Volkswagen-T6 Bus (SG)(05.2015->)  \n",
      "6  Volkswagen-T6 Bus (SG)(05.2015->)  \n",
      "7  Volkswagen-T6 Bus (SG)(05.2015->)  \n",
      "8  Volkswagen-T6 Bus (SG)(05.2015->)  \n",
      "9  Volkswagen-T6 Bus (SG)(05.2015->)  \n",
      "\n",
      "[10 rows x 25 columns]\n",
      "Reihen 24194\n",
      "Spalten 25\n",
      "HST Benennung                 0\n",
      "HT Benennung                  0\n",
      "UT Benennung                  0\n",
      "Karosserie                    0\n",
      "Neupreis Brutto               0\n",
      "Produktgruppe                 0\n",
      "Kraftstoffart                 0\n",
      "Schadstoffklasse              0\n",
      "CCM                           0\n",
      "KW                            0\n",
      "HST PS                        0\n",
      "Getriebeart                   0\n",
      "Getriebe Benennung            0\n",
      "Anzahl der Türen              0\n",
      "Leergewicht                   0\n",
      "Zuladung                      0\n",
      "Zulässiges GG                 0\n",
      "Länge                         0\n",
      "Breite                        0\n",
      "Höhe                          0\n",
      "CO2-Emissionen                0\n",
      "Min Energieeffizienzklasse    0\n",
      "Antrieb                       0\n",
      "KSTA Motor                    0\n",
      "HST-HT Benennung              0\n",
      "dtype: int64\n"
     ]
    }
   ],
   "source": [
    "# Aufgabe 2\n",
    "\n",
    "# Erste 10 Reihen\n",
    "print(cars.head(10))\n",
    "\n",
    "# Die Größe\n",
    "print(\"Reihen\", len(cars.axes[0])) \n",
    "print(\"Spalten\", len(cars.axes[1]))\n",
    "\n",
    "# Anzahl NaNs pro Spalte\n",
    "print(cars.isna().sum(axis=0))"
   ]
  },
  {
   "cell_type": "markdown",
   "metadata": {},
   "source": [
    "### Aufgabe 3 Problembeschreibung\n",
    "````cars[\"CO2-Emissionen\"] = pd.to_numeric(cars[\"CO2-Emissionen\"])```` ist die Funktion um die Spalte umzuwandeln. Das Problem ist wenn man das ausführt, dass dort ein Fehler 'Unable to parse string \"9,2\"' geworfen wird. Das heißt in der Spalte sind Werte enthalten die wir nicht automatisch konvertieren können, da der Python interpreter die Float Werte nur erkennt wenn sie wie im Englischen mit einem '.' beschrieben werden (9,2 --> 9.2). \n",
    "\n",
    "### Aufgabe 3 Lösung\n",
    "Wir schauen uns erst einmal an wie viele Werte betroffen sind, um zu schauen ob es noch anderen Komma trenner (z.B bei Tausend) gibt. Glücklicherweise erkennen wir dort nur 6 Werte die alle mit dem Format x,x geschrieben werden. Um das Problem zu beheben ersetzen wir die komplette CO2-Emissionen Spalte dort wo \",\" verwendet werden mit einem \".\" und konvertieren diese gleich mit ``àstype(float)``` in einen Float64. "
   ]
  },
  {
   "cell_type": "code",
   "execution_count": 9,
   "metadata": {},
   "outputs": [
    {
     "name": "stdout",
     "output_type": "stream",
     "text": [
      "<class 'pandas.core.frame.DataFrame'>\n",
      "RangeIndex: 24194 entries, 0 to 24193\n",
      "Data columns (total 25 columns):\n",
      " #   Column                      Non-Null Count  Dtype  \n",
      "---  ------                      --------------  -----  \n",
      " 0   HST Benennung               24194 non-null  object \n",
      " 1   HT Benennung                24194 non-null  object \n",
      " 2   UT Benennung                24194 non-null  object \n",
      " 3   Karosserie                  24194 non-null  object \n",
      " 4   Neupreis Brutto             24194 non-null  int64  \n",
      " 5   Produktgruppe               24194 non-null  object \n",
      " 6   Kraftstoffart               24194 non-null  object \n",
      " 7   Schadstoffklasse            24194 non-null  object \n",
      " 8   CCM                         24194 non-null  int64  \n",
      " 9   KW                          24194 non-null  int64  \n",
      " 10  HST PS                      24194 non-null  int64  \n",
      " 11  Getriebeart                 24194 non-null  object \n",
      " 12  Getriebe Benennung          24194 non-null  object \n",
      " 13  Anzahl der Türen            24194 non-null  int64  \n",
      " 14  Leergewicht                 24194 non-null  int64  \n",
      " 15  Zuladung                    24194 non-null  int64  \n",
      " 16  Zulässiges GG               24194 non-null  float64\n",
      " 17  Länge                       24194 non-null  int64  \n",
      " 18  Breite                      24194 non-null  int64  \n",
      " 19  Höhe                        24194 non-null  int64  \n",
      " 20  CO2-Emissionen              24194 non-null  object \n",
      " 21  Min Energieeffizienzklasse  24194 non-null  object \n",
      " 22  Antrieb                     24194 non-null  object \n",
      " 23  KSTA Motor                  24194 non-null  object \n",
      " 24  HST-HT Benennung            24194 non-null  object \n",
      "dtypes: float64(1), int64(10), object(14)\n",
      "memory usage: 4.6+ MB\n",
      "None\n"
     ]
    },
    {
     "data": {
      "text/html": [
       "<div>\n",
       "<style scoped>\n",
       "    .dataframe tbody tr th:only-of-type {\n",
       "        vertical-align: middle;\n",
       "    }\n",
       "\n",
       "    .dataframe tbody tr th {\n",
       "        vertical-align: top;\n",
       "    }\n",
       "\n",
       "    .dataframe thead th {\n",
       "        text-align: right;\n",
       "    }\n",
       "</style>\n",
       "<table border=\"1\" class=\"dataframe\">\n",
       "  <thead>\n",
       "    <tr style=\"text-align: right;\">\n",
       "      <th></th>\n",
       "      <th>HST Benennung</th>\n",
       "      <th>HT Benennung</th>\n",
       "      <th>UT Benennung</th>\n",
       "      <th>Karosserie</th>\n",
       "      <th>Neupreis Brutto</th>\n",
       "      <th>Produktgruppe</th>\n",
       "      <th>Kraftstoffart</th>\n",
       "      <th>Schadstoffklasse</th>\n",
       "      <th>CCM</th>\n",
       "      <th>KW</th>\n",
       "      <th>...</th>\n",
       "      <th>Zuladung</th>\n",
       "      <th>Zulässiges GG</th>\n",
       "      <th>Länge</th>\n",
       "      <th>Breite</th>\n",
       "      <th>Höhe</th>\n",
       "      <th>CO2-Emissionen</th>\n",
       "      <th>Min Energieeffizienzklasse</th>\n",
       "      <th>Antrieb</th>\n",
       "      <th>KSTA Motor</th>\n",
       "      <th>HST-HT Benennung</th>\n",
       "    </tr>\n",
       "  </thead>\n",
       "  <tbody>\n",
       "    <tr>\n",
       "      <th>16886</th>\n",
       "      <td>Toyota</td>\n",
       "      <td>C-HR (X10)</td>\n",
       "      <td>Hybrid Business Edition</td>\n",
       "      <td>SUV</td>\n",
       "      <td>32097</td>\n",
       "      <td>Kompakt-SUV / Geländewagen</td>\n",
       "      <td>08</td>\n",
       "      <td>6T</td>\n",
       "      <td>1973</td>\n",
       "      <td>131</td>\n",
       "      <td>...</td>\n",
       "      <td>449</td>\n",
       "      <td>1904.835675</td>\n",
       "      <td>4408</td>\n",
       "      <td>1808</td>\n",
       "      <td>1541</td>\n",
       "      <td>9,2</td>\n",
       "      <td>A+</td>\n",
       "      <td>FA</td>\n",
       "      <td>HYBRID -&gt;B</td>\n",
       "      <td>Toyota-C-HR (X10)</td>\n",
       "    </tr>\n",
       "    <tr>\n",
       "      <th>16888</th>\n",
       "      <td>Toyota</td>\n",
       "      <td>C-HR (X10)</td>\n",
       "      <td>Hybrid Team D</td>\n",
       "      <td>SUV</td>\n",
       "      <td>33769</td>\n",
       "      <td>Kompakt-SUV / Geländewagen</td>\n",
       "      <td>08</td>\n",
       "      <td>6T</td>\n",
       "      <td>1948</td>\n",
       "      <td>134</td>\n",
       "      <td>...</td>\n",
       "      <td>444</td>\n",
       "      <td>1912.584563</td>\n",
       "      <td>4453</td>\n",
       "      <td>1836</td>\n",
       "      <td>1558</td>\n",
       "      <td>9,2</td>\n",
       "      <td>A+</td>\n",
       "      <td>FA</td>\n",
       "      <td>HYBRID -&gt;B</td>\n",
       "      <td>Toyota-C-HR (X10)</td>\n",
       "    </tr>\n",
       "    <tr>\n",
       "      <th>16893</th>\n",
       "      <td>Toyota</td>\n",
       "      <td>C-HR (X10)</td>\n",
       "      <td>Hybrid Lounge</td>\n",
       "      <td>SUV</td>\n",
       "      <td>37758</td>\n",
       "      <td>Kompakt-SUV / Geländewagen</td>\n",
       "      <td>08</td>\n",
       "      <td>6T</td>\n",
       "      <td>1961</td>\n",
       "      <td>136</td>\n",
       "      <td>...</td>\n",
       "      <td>467</td>\n",
       "      <td>1921.574295</td>\n",
       "      <td>4440</td>\n",
       "      <td>1775</td>\n",
       "      <td>1545</td>\n",
       "      <td>9,2</td>\n",
       "      <td>A+</td>\n",
       "      <td>FA</td>\n",
       "      <td>HYBRID -&gt;B</td>\n",
       "      <td>Toyota-C-HR (X10)</td>\n",
       "    </tr>\n",
       "    <tr>\n",
       "      <th>16895</th>\n",
       "      <td>Toyota</td>\n",
       "      <td>C-HR (X10)</td>\n",
       "      <td>Hybrid Style Selection</td>\n",
       "      <td>SUV</td>\n",
       "      <td>37180</td>\n",
       "      <td>Kompakt-SUV / Geländewagen</td>\n",
       "      <td>08</td>\n",
       "      <td>6T</td>\n",
       "      <td>1926</td>\n",
       "      <td>139</td>\n",
       "      <td>...</td>\n",
       "      <td>449</td>\n",
       "      <td>1961.793375</td>\n",
       "      <td>4459</td>\n",
       "      <td>1817</td>\n",
       "      <td>1513</td>\n",
       "      <td>9,2</td>\n",
       "      <td>A+</td>\n",
       "      <td>FA</td>\n",
       "      <td>HYBRID -&gt;B</td>\n",
       "      <td>Toyota-C-HR (X10)</td>\n",
       "    </tr>\n",
       "    <tr>\n",
       "      <th>16897</th>\n",
       "      <td>Toyota</td>\n",
       "      <td>C-HR (X10)</td>\n",
       "      <td>Hybrid Orange Edition</td>\n",
       "      <td>SUV</td>\n",
       "      <td>40538</td>\n",
       "      <td>Kompakt-SUV / Geländewagen</td>\n",
       "      <td>08</td>\n",
       "      <td>6T</td>\n",
       "      <td>1908</td>\n",
       "      <td>128</td>\n",
       "      <td>...</td>\n",
       "      <td>427</td>\n",
       "      <td>1974.373493</td>\n",
       "      <td>4399</td>\n",
       "      <td>1799</td>\n",
       "      <td>1544</td>\n",
       "      <td>9,2</td>\n",
       "      <td>A+</td>\n",
       "      <td>FA</td>\n",
       "      <td>HYBRID -&gt;B</td>\n",
       "      <td>Toyota-C-HR (X10)</td>\n",
       "    </tr>\n",
       "    <tr>\n",
       "      <th>18186</th>\n",
       "      <td>Seat</td>\n",
       "      <td>Ateca (KH7)(03.2016-&gt;)</td>\n",
       "      <td>Style</td>\n",
       "      <td>SUV</td>\n",
       "      <td>25885</td>\n",
       "      <td>Kompakt-SUV / Geländewagen</td>\n",
       "      <td>BS</td>\n",
       "      <td>E6</td>\n",
       "      <td>1396</td>\n",
       "      <td>106</td>\n",
       "      <td>...</td>\n",
       "      <td>638</td>\n",
       "      <td>1902.668348</td>\n",
       "      <td>4254</td>\n",
       "      <td>1816</td>\n",
       "      <td>1597</td>\n",
       "      <td>8,5</td>\n",
       "      <td>B</td>\n",
       "      <td>FA</td>\n",
       "      <td>STANDARD -&gt;B</td>\n",
       "      <td>Seat-Ateca (KH7)(03.2016-&gt;)</td>\n",
       "    </tr>\n",
       "  </tbody>\n",
       "</table>\n",
       "<p>6 rows × 25 columns</p>\n",
       "</div>"
      ],
      "text/plain": [
       "      HST Benennung            HT Benennung             UT Benennung  \\\n",
       "16886        Toyota              C-HR (X10)  Hybrid Business Edition   \n",
       "16888        Toyota              C-HR (X10)            Hybrid Team D   \n",
       "16893        Toyota              C-HR (X10)            Hybrid Lounge   \n",
       "16895        Toyota              C-HR (X10)   Hybrid Style Selection   \n",
       "16897        Toyota              C-HR (X10)    Hybrid Orange Edition   \n",
       "18186          Seat  Ateca (KH7)(03.2016->)                    Style   \n",
       "\n",
       "       Karosserie  Neupreis Brutto               Produktgruppe Kraftstoffart  \\\n",
       "16886  SUV                   32097  Kompakt-SUV / Geländewagen            08   \n",
       "16888  SUV                   33769  Kompakt-SUV / Geländewagen            08   \n",
       "16893  SUV                   37758  Kompakt-SUV / Geländewagen            08   \n",
       "16895  SUV                   37180  Kompakt-SUV / Geländewagen            08   \n",
       "16897  SUV                   40538  Kompakt-SUV / Geländewagen            08   \n",
       "18186  SUV                   25885  Kompakt-SUV / Geländewagen            BS   \n",
       "\n",
       "      Schadstoffklasse   CCM   KW  ...  Zuladung Zulässiges GG Länge  Breite  \\\n",
       "16886               6T  1973  131  ...       449   1904.835675  4408    1808   \n",
       "16888               6T  1948  134  ...       444   1912.584563  4453    1836   \n",
       "16893               6T  1961  136  ...       467   1921.574295  4440    1775   \n",
       "16895               6T  1926  139  ...       449   1961.793375  4459    1817   \n",
       "16897               6T  1908  128  ...       427   1974.373493  4399    1799   \n",
       "18186               E6  1396  106  ...       638   1902.668348  4254    1816   \n",
       "\n",
       "       Höhe  CO2-Emissionen  Min Energieeffizienzklasse     Antrieb  \\\n",
       "16886  1541             9,2                          A+  FA           \n",
       "16888  1558             9,2                          A+  FA           \n",
       "16893  1545             9,2                          A+  FA           \n",
       "16895  1513             9,2                          A+  FA           \n",
       "16897  1544             9,2                          A+  FA           \n",
       "18186  1597             8,5                           B  FA           \n",
       "\n",
       "         KSTA Motor             HST-HT Benennung  \n",
       "16886    HYBRID ->B            Toyota-C-HR (X10)  \n",
       "16888    HYBRID ->B            Toyota-C-HR (X10)  \n",
       "16893    HYBRID ->B            Toyota-C-HR (X10)  \n",
       "16895    HYBRID ->B            Toyota-C-HR (X10)  \n",
       "16897    HYBRID ->B            Toyota-C-HR (X10)  \n",
       "18186  STANDARD ->B  Seat-Ateca (KH7)(03.2016->)  \n",
       "\n",
       "[6 rows x 25 columns]"
      ]
     },
     "metadata": {},
     "output_type": "display_data"
    },
    {
     "name": "stdout",
     "output_type": "stream",
     "text": [
      "Type of CO2-Emissionen float64\n"
     ]
    }
   ],
   "source": [
    "import re\n",
    "\n",
    "# Aufgabe 3\n",
    "\n",
    "print(cars.info())\n",
    "\n",
    "# Handle conversion of column CO2 Emissionen\n",
    "if cars[\"CO2-Emissionen\"].dtype == object:\n",
    "    # Print all non numeric values, see issues are 6 rows with values like 9,2\n",
    "    non_numeric = re.compile(r'[^\\d.]+')\n",
    "    display(cars.loc[cars[\"CO2-Emissionen\"].str.contains(non_numeric)]) # https://stackoverflow.com/a/40790077\n",
    "\n",
    "    # Replace all , to convert 9,2 --> 9.2 \n",
    "    cars[\"CO2-Emissionen\"] = cars[\"CO2-Emissionen\"].str.replace(',', '.').astype(float)\n",
    "\n",
    "print(\"Type of CO2-Emissionen\", cars[\"CO2-Emissionen\"].dtype)"
   ]
  },
  {
   "cell_type": "markdown",
   "metadata": {},
   "source": [
    "## Exemplarische Datenbankabfragen\n",
    "\n",
    "1. Verwenden Sie Pandas Dataframe Methode `read_sql_query()` um 3 für Sie interessante Datenbankabfragen zu implementieren. Die Resultate der Abfragen werden in einen Pandas Dataframe geschrieben. Zeigen Sie diese an. "
   ]
  },
  {
   "cell_type": "code",
   "execution_count": 10,
   "metadata": {},
   "outputs": [],
   "source": [
    "# import psycopg2 #provides drivers for PostgreSQL\n",
    "# import numpy as np\n",
    "# import json #required to access json file\n",
    "# import pandas as pd\n",
    "# import sqlalchemy as sa\n",
    "\n",
    "# # Get json config\n",
    "# with open('./../config.json') as f:\n",
    "#     config = json.load(f)\n",
    "\n",
    "# # Connection string variables\n",
    "# db_host = config[\"host\"]\n",
    "# db_database = config[\"database\"]\n",
    "# db_user = config[\"user\"]\n",
    "# db_password = config[\"password\"]\n",
    "\n",
    "# # Connect to database\n",
    "# connection_string ='postgresql://%s:%s@localhost:5432/%s'%(config[\"user\"], config[\"password\"],config[\"database\"])\n",
    "# print(f\"Connecting to database {db_database}\")\n",
    "\n",
    "# engine = sa.create_engine(connection_string)\n",
    "# inspector = sa.inspect(engine)\n",
    "\n",
    "# print(engine)\n",
    "\n",
    "# # Create table cars\n",
    "# if not inspector.has_table(\"cars\"):\n",
    "#     cars.to_sql(name='cars',index=True, index_label='index',con=engine)\n",
    "# else:\n",
    "#     print(\"table already exists\")\n",
    "\n",
    "# # Read and print cars\n",
    "# with engine.connect() as connection, connection.begin():\n",
    "#     cars_table = pd.read_sql_table('cars',connection)"
   ]
  },
  {
   "cell_type": "code",
   "execution_count": 11,
   "metadata": {},
   "outputs": [],
   "source": [
    "\n",
    "# pd.read_sql_query(\"SELECT * FROM cars WHERE \\\"HST Benennung\\\" LIKE '%%Volkswagen%%'\", engine)\n",
    "\n",
    "# pd.read_sql_query(\"\"\"SELECT * FROM cars WHERE \"HST Benennung\"='Volkswagen'\"\"\", engine)"
   ]
  },
  {
   "cell_type": "markdown",
   "metadata": {
    "application/vnd.databricks.v1+cell": {
     "inputWidgets": {},
     "nuid": "f85ce87e-60b5-47a0-9c0e-dec064834222",
     "showTitle": false,
     "title": ""
    }
   },
   "source": [
    "## Data Exploration\n",
    "1. Zeigen Sie für alle Spalten die Anzahl der unterschiedlichen Werte in dieser Spalte an.\n",
    "2. Benutzen Sie die Pandas Dataframe Methode `describe()` um sämtliche deskriptiven Statistiken anzuzeigen.\n",
    "3. Legen Sie eine Liste `numeric_features` an, welche nur die Spaltennamen der numerischen Spalten enthält.\n",
    "4. Schreiben Sie die Namen aller nicht-numerischen Spalten in eine Liste `categoric_features`.\n",
    "5. Visualisieren Sie für die Spalten `HST_Benennung`, `Neupreis Brutto`, `CO2-Emissionen` und `Produktgruppe` die Verteilung der Werte in einem Barplot bzw. Histogramm."
   ]
  },
  {
   "cell_type": "code",
   "execution_count": 12,
   "metadata": {},
   "outputs": [
    {
     "name": "stdout",
     "output_type": "stream",
     "text": [
      "HST Benennung: 42\n",
      "HT Benennung: 617\n",
      "UT Benennung: 3782\n",
      "Karosserie: 22\n",
      "Neupreis Brutto: 19739\n",
      "Produktgruppe: 28\n",
      "Kraftstoffart: 14\n",
      "Schadstoffklasse: 4\n",
      "CCM: 2197\n",
      "KW: 428\n",
      "HST PS: 560\n",
      "Getriebeart: 2\n",
      "Getriebe Benennung: 103\n",
      "Anzahl der Türen: 4\n",
      "Leergewicht: 1833\n",
      "Zuladung: 1208\n",
      "Zulässiges GG: 23919\n",
      "Länge: 2342\n",
      "Breite: 651\n",
      "Höhe: 1203\n",
      "CO2-Emissionen: 279\n",
      "Min Energieeffizienzklasse: 8\n",
      "Antrieb: 3\n",
      "KSTA Motor: 6\n",
      "HST-HT Benennung: 617\n"
     ]
    }
   ],
   "source": [
    "# 1.\n",
    "for column in cars:\n",
    "  print(f\"{column}: {cars[column].nunique()}\")"
   ]
  },
  {
   "cell_type": "code",
   "execution_count": 13,
   "metadata": {},
   "outputs": [
    {
     "name": "stdout",
     "output_type": "stream",
     "text": [
      "       Neupreis Brutto           CCM            KW        HST PS  \\\n",
      "count     24194.000000  24194.000000  24194.000000  24194.000000   \n",
      "mean      40301.051790   1851.156361    126.653798    172.273126   \n",
      "std       22037.781929    616.193218     60.835718     82.667899   \n",
      "min        6835.000000    831.000000     42.000000     51.000000   \n",
      "25%       26910.000000   1482.000000     88.000000    120.000000   \n",
      "50%       36720.000000   1941.000000    111.000000    151.000000   \n",
      "75%       47632.250000   2011.000000    141.000000    192.000000   \n",
      "max      287347.000000   6706.000000    511.000000    705.000000   \n",
      "\n",
      "       Anzahl der Türen   Leergewicht      Zuladung  Zulässiges GG  \\\n",
      "count      24194.000000  24194.000000  24194.000000   24194.000000   \n",
      "mean           4.480656   1588.890303    578.716211    2134.695183   \n",
      "std            0.880526    367.170624    191.292064     524.077515   \n",
      "min            2.000000     29.000000     58.000000       0.000000   \n",
      "25%            4.000000   1381.000000    483.000000    1872.562390   \n",
      "50%            5.000000   1555.000000    547.000000    2075.265444   \n",
      "75%            5.000000   1745.000000    615.000000    2319.881506   \n",
      "max            5.000000  10365.000000   7726.000000   15295.850636   \n",
      "\n",
      "              Länge        Breite          Höhe  CO2-Emissionen  \n",
      "count  24194.000000  24194.000000  24194.000000    24194.000000  \n",
      "mean    4560.681905   1835.296478   1579.427503      135.869906  \n",
      "std      412.813020     93.258553    219.588359       33.439398  \n",
      "min     2571.000000   1394.000000   1180.000000        8.500000  \n",
      "25%     4339.000000   1782.000000   1446.000000      115.000000  \n",
      "50%     4575.000000   1829.000000   1502.000000      130.000000  \n",
      "75%     4801.000000   1883.000000   1647.000000      153.000000  \n",
      "max     6958.000000   2293.000000   3023.000000      397.000000  \n"
     ]
    }
   ],
   "source": [
    "# 2.\n",
    "print(cars.describe())"
   ]
  },
  {
   "cell_type": "code",
   "execution_count": 30,
   "metadata": {},
   "outputs": [
    {
     "ename": "NameError",
     "evalue": "name 'np' is not defined",
     "output_type": "error",
     "traceback": [
      "\u001b[1;31m---------------------------------------------------------------------------\u001b[0m",
      "\u001b[1;31mNameError\u001b[0m                                 Traceback (most recent call last)",
      "\u001b[1;32mc:\\Users\\joy-j\\Desktop\\projekts\\datamininglecture\\1_vehicle_data_analysis\\vehicleData_Joy.ipynb Zelle 25\u001b[0m in \u001b[0;36m<cell line: 2>\u001b[1;34m()\u001b[0m\n\u001b[0;32m      <a href='vscode-notebook-cell:/c%3A/Users/joy-j/Desktop/projekts/datamininglecture/1_vehicle_data_analysis/vehicleData_Joy.ipynb#X35sZmlsZQ%3D%3D?line=0'>1</a>\u001b[0m \u001b[39m# 3. \u001b[39;00m\n\u001b[1;32m----> <a href='vscode-notebook-cell:/c%3A/Users/joy-j/Desktop/projekts/datamininglecture/1_vehicle_data_analysis/vehicleData_Joy.ipynb#X35sZmlsZQ%3D%3D?line=1'>2</a>\u001b[0m numeric_features \u001b[39m=\u001b[39m cars\u001b[39m.\u001b[39mselect_dtypes(include\u001b[39m=\u001b[39mnp\u001b[39m.\u001b[39mnumber)\u001b[39m.\u001b[39mcolumns\u001b[39m.\u001b[39mtolist()\n\u001b[0;32m      <a href='vscode-notebook-cell:/c%3A/Users/joy-j/Desktop/projekts/datamininglecture/1_vehicle_data_analysis/vehicleData_Joy.ipynb#X35sZmlsZQ%3D%3D?line=2'>3</a>\u001b[0m \u001b[39mprint\u001b[39m(numeric_features)\n",
      "\u001b[1;31mNameError\u001b[0m: name 'np' is not defined"
     ]
    }
   ],
   "source": [
    "# 3. \n",
    "numeric_features = cars.select_dtypes(include=np.number).columns.tolist()\n",
    "print(numeric_features)"
   ]
  },
  {
   "cell_type": "code",
   "execution_count": null,
   "metadata": {},
   "outputs": [
    {
     "name": "stdout",
     "output_type": "stream",
     "text": [
      "['HST Benennung', 'HT Benennung', 'UT Benennung', 'Karosserie', 'Produktgruppe', 'Kraftstoffart', 'Schadstoffklasse', 'Getriebeart', 'Getriebe Benennung', 'Min Energieeffizienzklasse', 'Antrieb', 'KSTA Motor', 'HST-HT Benennung']\n"
     ]
    }
   ],
   "source": [
    "# 4. \n",
    "categoric_features = cars.select_dtypes(exclude=np.number).columns.tolist()\n",
    "print(categoric_features)"
   ]
  },
  {
   "cell_type": "code",
   "execution_count": 46,
   "metadata": {},
   "outputs": [
    {
     "ename": "TypeError",
     "evalue": "bar() missing 1 required positional argument: 'height'",
     "output_type": "error",
     "traceback": [
      "\u001b[1;31m---------------------------------------------------------------------------\u001b[0m",
      "\u001b[1;31mTypeError\u001b[0m                                 Traceback (most recent call last)",
      "\u001b[1;32mc:\\Users\\joy-j\\Desktop\\projekts\\datamininglecture\\1_vehicle_data_analysis\\vehicleData_Joy.ipynb Zelle 27\u001b[0m in \u001b[0;36m<cell line: 5>\u001b[1;34m()\u001b[0m\n\u001b[0;32m      <a href='vscode-notebook-cell:/c%3A/Users/joy-j/Desktop/projekts/datamininglecture/1_vehicle_data_analysis/vehicleData_Joy.ipynb#X40sZmlsZQ%3D%3D?line=1'>2</a>\u001b[0m get_ipython()\u001b[39m.\u001b[39mrun_line_magic(\u001b[39m'\u001b[39m\u001b[39mmatplotlib\u001b[39m\u001b[39m'\u001b[39m, \u001b[39m'\u001b[39m\u001b[39minline\u001b[39m\u001b[39m'\u001b[39m)\n\u001b[0;32m      <a href='vscode-notebook-cell:/c%3A/Users/joy-j/Desktop/projekts/datamininglecture/1_vehicle_data_analysis/vehicleData_Joy.ipynb#X40sZmlsZQ%3D%3D?line=2'>3</a>\u001b[0m \u001b[39mfrom\u001b[39;00m \u001b[39mmatplotlib\u001b[39;00m \u001b[39mimport\u001b[39;00m pyplot \u001b[39mas\u001b[39;00m plt\n\u001b[1;32m----> <a href='vscode-notebook-cell:/c%3A/Users/joy-j/Desktop/projekts/datamininglecture/1_vehicle_data_analysis/vehicleData_Joy.ipynb#X40sZmlsZQ%3D%3D?line=4'>5</a>\u001b[0m plt\u001b[39m.\u001b[39;49mbar(cars[\u001b[39m\"\u001b[39;49m\u001b[39mHST Benennung\u001b[39;49m\u001b[39m\"\u001b[39;49m])\n\u001b[0;32m      <a href='vscode-notebook-cell:/c%3A/Users/joy-j/Desktop/projekts/datamininglecture/1_vehicle_data_analysis/vehicleData_Joy.ipynb#X40sZmlsZQ%3D%3D?line=5'>6</a>\u001b[0m plt\u001b[39m.\u001b[39mtitle(\u001b[39m'\u001b[39m\u001b[39mHST Benennung\u001b[39m\u001b[39m'\u001b[39m)\n\u001b[0;32m      <a href='vscode-notebook-cell:/c%3A/Users/joy-j/Desktop/projekts/datamininglecture/1_vehicle_data_analysis/vehicleData_Joy.ipynb#X40sZmlsZQ%3D%3D?line=6'>7</a>\u001b[0m plt\u001b[39m.\u001b[39mxticks(rotation\u001b[39m=\u001b[39m\u001b[39m'\u001b[39m\u001b[39mvertical\u001b[39m\u001b[39m'\u001b[39m, fontsize \u001b[39m=\u001b[39m \u001b[39m'\u001b[39m\u001b[39mx-small\u001b[39m\u001b[39m'\u001b[39m)\n",
      "\u001b[1;31mTypeError\u001b[0m: bar() missing 1 required positional argument: 'height'"
     ]
    }
   ],
   "source": [
    "# 5.\n",
    "%matplotlib inline\n",
    "from matplotlib import pyplot as plt\n",
    "\n",
    "plt.bar(cars[\"HST Benennung\"])\n",
    "plt.title('HST Benennung')\n",
    "plt.xticks(rotation='vertical', fontsize = 'x-small')\n",
    "plt.show()"
   ]
  },
  {
   "cell_type": "code",
   "execution_count": null,
   "metadata": {},
   "outputs": [
    {
     "data": {
      "image/png": "[encoded data removed]",
      "text/plain": [
       "<Figure size 640x480 with 1 Axes>"
      ]
     },
     "metadata": {},
     "output_type": "display_data"
    }
   ],
   "source": [
    "plt.hist(cars[\"Neupreis Brutto\"])\n",
    "plt.title(\"Neupreis Brutto\")\n",
    "plt.show()"
   ]
  },
  {
   "cell_type": "code",
   "execution_count": 47,
   "metadata": {},
   "outputs": [
    {
     "data": {
      "image/png": "[encoded data removed]",
      "text/plain": [
       "<Figure size 640x480 with 1 Axes>"
      ]
     },
     "metadata": {},
     "output_type": "display_data"
    }
   ],
   "source": [
    "plt.hist(cars[\"CO2-Emissionen\"])\n",
    "plt.title('CO2-Emissionen')\n",
    "plt.xlabel(\"ss\")\n",
    "plt.show()"
   ]
  },
  {
   "cell_type": "code",
   "execution_count": null,
   "metadata": {},
   "outputs": [
    {
     "data": {
      "image/png": "[encoded data removed]",
      "text/plain": [
       "<Figure size 640x480 with 1 Axes>"
      ]
     },
     "metadata": {},
     "output_type": "display_data"
    }
   ],
   "source": [
    "plt.hist(cars[\"Produktgruppe\"])\n",
    "plt.title(\"Produktgruppe\")\n",
    "plt.xticks(rotation='vertical', fontsize = 'x-small')\n",
    "plt.show()"
   ]
  },
  {
   "cell_type": "markdown",
   "metadata": {},
   "source": [
    "## Machine Learning 1: Produktgruppenbestimmung\n",
    "\n",
    "In diesem Abschnitt soll ein Klassifikator trainiert werden, welcher anhand von Eingabemerkmalen, wie *Breite*, *Höhe*, *Gewicht* usw. das zugehörige Fahrzeugsegment (`Produktgruppe`) vorhersagt.\n",
    "\n",
    "In diesem Teilversuch sollen als Eingabemerkmale die zuvor in `numeric_features` definierten Spalten und die nicht-numerischen Spalten `Antrieb`, `Kraftstoffart`, `KSTA Motor` verwendet werden. Die Zielvariable (Ausgabe) stellt die Spalte `Produktgruppe` dar.\n",
    "\n",
    "\n",
    "### Produktgrunppenspezifische Visualisierung\n",
    "\n",
    "1. Plotten Sie für die drei oben angegebenen nicht-numerischen Merkmale jeweils eine Produktgruppen-spezifische Häufigkeitsverteilung in der unten dargestellten Form. \n",
    "\n",
    "<img src=\"https://maucher.home.hdm-stuttgart.de/Pics/antrieb_produktgruppe.png\" style=\"width:500px\" align=\"center\">\n",
    "\n",
    "2. Plotten Sie für alle numerischen Merkmale jeweils einen Produktgruppen-spezifischen Boxplot in der unten dargestellten Form. \n",
    "\n",
    "<img src=\"https://maucher.home.hdm-stuttgart.de/Pics/neupreis_produktgruppe.png\" style=\"width:500px\" align=\"center\">\n",
    "\n",
    "3. Erzeugen Sie mit [plotly.express scatter()](https://plotly.com/python/line-and-scatter/) einen 2-dimensionalen Plot, in dem alle Fahrzeuge wie folgt dargestellt werden (pro Fahrzeug ein Marker):\n",
    "- x-Achse: `Länge`\n",
    "- y-Achse: `Höhe`\n",
    "- Farbe des Markers: `Produktgruppe`\n",
    "- Größe des Markers: `Leergewicht`\n",
    "- Bei *Mouse-Over* soll für den jeweiligen Marker der entsprechende Wert von `Neupreis Brutto` und `HST-HT Benennung` angezeigt werden. "
   ]
  },
  {
   "cell_type": "code",
   "execution_count": 45,
   "metadata": {},
   "outputs": [
    {
     "name": "stdout",
     "output_type": "stream",
     "text": [
      "0        FA        \n",
      "1        FA        \n",
      "2        FA        \n",
      "3        FA        \n",
      "4        FA        \n",
      "            ...    \n",
      "24189    FA        \n",
      "24190    FA        \n",
      "24191    FA        \n",
      "24192    FA        \n",
      "24193    FA        \n",
      "Name: Antrieb, Length: 24194, dtype: object 0        T5-Klasse Pkw\n",
      "1        T5-Klasse Pkw\n",
      "2        T5-Klasse Pkw\n",
      "3        T5-Klasse Pkw\n",
      "4        T5-Klasse Pkw\n",
      "             ...      \n",
      "24189              Van\n",
      "24190              Van\n",
      "24191              Van\n",
      "24192              Van\n",
      "24193              Van\n",
      "Name: Produktgruppe, Length: 24194, dtype: object\n"
     ]
    },
    {
     "ename": "TypeError",
     "evalue": "no numeric data to plot",
     "output_type": "error",
     "traceback": [
      "\u001b[1;31m---------------------------------------------------------------------------\u001b[0m",
      "\u001b[1;31mTypeError\u001b[0m                                 Traceback (most recent call last)",
      "\u001b[1;32mc:\\Users\\joy-j\\Desktop\\projekts\\datamininglecture\\1_vehicle_data_analysis\\vehicleData_Joy.ipynb Zelle 32\u001b[0m in \u001b[0;36m<cell line: 5>\u001b[1;34m()\u001b[0m\n\u001b[0;32m      <a href='vscode-notebook-cell:/c%3A/Users/joy-j/Desktop/projekts/datamininglecture/1_vehicle_data_analysis/vehicleData_Joy.ipynb#Y105sZmlsZQ%3D%3D?line=1'>2</a>\u001b[0m get_ipython()\u001b[39m.\u001b[39mrun_line_magic(\u001b[39m'\u001b[39m\u001b[39mmatplotlib\u001b[39m\u001b[39m'\u001b[39m, \u001b[39m'\u001b[39m\u001b[39minline\u001b[39m\u001b[39m'\u001b[39m)\n\u001b[0;32m      <a href='vscode-notebook-cell:/c%3A/Users/joy-j/Desktop/projekts/datamininglecture/1_vehicle_data_analysis/vehicleData_Joy.ipynb#Y105sZmlsZQ%3D%3D?line=2'>3</a>\u001b[0m \u001b[39mprint\u001b[39m(cars[\u001b[39m\"\u001b[39m\u001b[39mAntrieb\u001b[39m\u001b[39m\"\u001b[39m], cars[\u001b[39m\"\u001b[39m\u001b[39mProduktgruppe\u001b[39m\u001b[39m\"\u001b[39m])\n\u001b[1;32m----> <a href='vscode-notebook-cell:/c%3A/Users/joy-j/Desktop/projekts/datamininglecture/1_vehicle_data_analysis/vehicleData_Joy.ipynb#Y105sZmlsZQ%3D%3D?line=4'>5</a>\u001b[0m cars[\u001b[39m\"\u001b[39;49m\u001b[39mProduktgruppe\u001b[39;49m\u001b[39m\"\u001b[39;49m]\u001b[39m.\u001b[39;49mplot\u001b[39m.\u001b[39;49mbarh(x\u001b[39m=\u001b[39;49mcars[\u001b[39m\"\u001b[39;49m\u001b[39mAntrieb\u001b[39;49m\u001b[39m\"\u001b[39;49m], height\u001b[39m=\u001b[39;49m\u001b[39m11\u001b[39;49m, stacked\u001b[39m=\u001b[39;49m\u001b[39mTrue\u001b[39;49;00m)\n\u001b[0;32m      <a href='vscode-notebook-cell:/c%3A/Users/joy-j/Desktop/projekts/datamininglecture/1_vehicle_data_analysis/vehicleData_Joy.ipynb#Y105sZmlsZQ%3D%3D?line=5'>6</a>\u001b[0m plt\u001b[39m.\u001b[39mshow(block\u001b[39m=\u001b[39m\u001b[39mTrue\u001b[39;00m)\n",
      "File \u001b[1;32mc:\\Users\\joy-j\\anaconda3\\envs\\datamining\\lib\\site-packages\\pandas\\plotting\\_core.py:1217\u001b[0m, in \u001b[0;36mPlotAccessor.barh\u001b[1;34m(self, x, y, **kwargs)\u001b[0m\n\u001b[0;32m   1133\u001b[0m \u001b[39m@Appender\u001b[39m(\n\u001b[0;32m   1134\u001b[0m     \u001b[39m\"\"\"\u001b[39;00m\n\u001b[0;32m   1135\u001b[0m \u001b[39m    See Also\u001b[39;00m\n\u001b[1;32m   (...)\u001b[0m\n\u001b[0;32m   1206\u001b[0m \u001b[39m@Appender\u001b[39m(_bar_or_line_doc)\n\u001b[0;32m   1207\u001b[0m \u001b[39mdef\u001b[39;00m \u001b[39mbarh\u001b[39m(\u001b[39mself\u001b[39m, x\u001b[39m=\u001b[39m\u001b[39mNone\u001b[39;00m, y\u001b[39m=\u001b[39m\u001b[39mNone\u001b[39;00m, \u001b[39m*\u001b[39m\u001b[39m*\u001b[39mkwargs):\n\u001b[0;32m   1208\u001b[0m     \u001b[39m\"\"\"\u001b[39;00m\n\u001b[0;32m   1209\u001b[0m \u001b[39m    Make a horizontal bar plot.\u001b[39;00m\n\u001b[0;32m   1210\u001b[0m \n\u001b[1;32m   (...)\u001b[0m\n\u001b[0;32m   1215\u001b[0m \u001b[39m    other axis represents a measured value.\u001b[39;00m\n\u001b[0;32m   1216\u001b[0m \u001b[39m    \"\"\"\u001b[39;00m\n\u001b[1;32m-> 1217\u001b[0m     \u001b[39mreturn\u001b[39;00m \u001b[39mself\u001b[39m(kind\u001b[39m=\u001b[39m\u001b[39m\"\u001b[39m\u001b[39mbarh\u001b[39m\u001b[39m\"\u001b[39m, x\u001b[39m=\u001b[39mx, y\u001b[39m=\u001b[39my, \u001b[39m*\u001b[39m\u001b[39m*\u001b[39mkwargs)\n",
      "File \u001b[1;32mc:\\Users\\joy-j\\anaconda3\\envs\\datamining\\lib\\site-packages\\pandas\\plotting\\_core.py:972\u001b[0m, in \u001b[0;36mPlotAccessor.__call__\u001b[1;34m(self, *args, **kwargs)\u001b[0m\n\u001b[0;32m    969\u001b[0m             label_name \u001b[39m=\u001b[39m label_kw \u001b[39mor\u001b[39;00m data\u001b[39m.\u001b[39mcolumns\n\u001b[0;32m    970\u001b[0m             data\u001b[39m.\u001b[39mcolumns \u001b[39m=\u001b[39m label_name\n\u001b[1;32m--> 972\u001b[0m \u001b[39mreturn\u001b[39;00m plot_backend\u001b[39m.\u001b[39mplot(data, kind\u001b[39m=\u001b[39mkind, \u001b[39m*\u001b[39m\u001b[39m*\u001b[39mkwargs)\n",
      "File \u001b[1;32mc:\\Users\\joy-j\\anaconda3\\envs\\datamining\\lib\\site-packages\\pandas\\plotting\\_matplotlib\\__init__.py:71\u001b[0m, in \u001b[0;36mplot\u001b[1;34m(data, kind, **kwargs)\u001b[0m\n\u001b[0;32m     69\u001b[0m         kwargs[\u001b[39m\"\u001b[39m\u001b[39max\u001b[39m\u001b[39m\"\u001b[39m] \u001b[39m=\u001b[39m \u001b[39mgetattr\u001b[39m(ax, \u001b[39m\"\u001b[39m\u001b[39mleft_ax\u001b[39m\u001b[39m\"\u001b[39m, ax)\n\u001b[0;32m     70\u001b[0m plot_obj \u001b[39m=\u001b[39m PLOT_CLASSES[kind](data, \u001b[39m*\u001b[39m\u001b[39m*\u001b[39mkwargs)\n\u001b[1;32m---> 71\u001b[0m plot_obj\u001b[39m.\u001b[39;49mgenerate()\n\u001b[0;32m     72\u001b[0m plot_obj\u001b[39m.\u001b[39mdraw()\n\u001b[0;32m     73\u001b[0m \u001b[39mreturn\u001b[39;00m plot_obj\u001b[39m.\u001b[39mresult\n",
      "File \u001b[1;32mc:\\Users\\joy-j\\anaconda3\\envs\\datamining\\lib\\site-packages\\pandas\\plotting\\_matplotlib\\core.py:327\u001b[0m, in \u001b[0;36mMPLPlot.generate\u001b[1;34m(self)\u001b[0m\n\u001b[0;32m    325\u001b[0m \u001b[39mdef\u001b[39;00m \u001b[39mgenerate\u001b[39m(\u001b[39mself\u001b[39m):\n\u001b[0;32m    326\u001b[0m     \u001b[39mself\u001b[39m\u001b[39m.\u001b[39m_args_adjust()\n\u001b[1;32m--> 327\u001b[0m     \u001b[39mself\u001b[39;49m\u001b[39m.\u001b[39;49m_compute_plot_data()\n\u001b[0;32m    328\u001b[0m     \u001b[39mself\u001b[39m\u001b[39m.\u001b[39m_setup_subplots()\n\u001b[0;32m    329\u001b[0m     \u001b[39mself\u001b[39m\u001b[39m.\u001b[39m_make_plot()\n",
      "File \u001b[1;32mc:\\Users\\joy-j\\anaconda3\\envs\\datamining\\lib\\site-packages\\pandas\\plotting\\_matplotlib\\core.py:506\u001b[0m, in \u001b[0;36mMPLPlot._compute_plot_data\u001b[1;34m(self)\u001b[0m\n\u001b[0;32m    504\u001b[0m \u001b[39m# no non-numeric frames or series allowed\u001b[39;00m\n\u001b[0;32m    505\u001b[0m \u001b[39mif\u001b[39;00m is_empty:\n\u001b[1;32m--> 506\u001b[0m     \u001b[39mraise\u001b[39;00m \u001b[39mTypeError\u001b[39;00m(\u001b[39m\"\u001b[39m\u001b[39mno numeric data to plot\u001b[39m\u001b[39m\"\u001b[39m)\n\u001b[0;32m    508\u001b[0m \u001b[39mself\u001b[39m\u001b[39m.\u001b[39mdata \u001b[39m=\u001b[39m numeric_data\u001b[39m.\u001b[39mapply(\u001b[39mself\u001b[39m\u001b[39m.\u001b[39m_convert_to_ndarray)\n",
      "\u001b[1;31mTypeError\u001b[0m: no numeric data to plot"
     ]
    }
   ],
   "source": [
    "# Antrieb, Kraftstoffart, KSTA Motor\n",
    "%matplotlib inline\n",
    "print(cars[\"Antrieb\"], cars[\"Produktgruppe\"])\n",
    "\n",
    "cars[\"Produktgruppe\"].plot.barh(x=cars[\"Antrieb\"], height=11, stacked=True)\n",
    "plt.show(block=True)"
   ]
  },
  {
   "cell_type": "markdown",
   "metadata": {
    "application/vnd.databricks.v1+cell": {
     "inputWidgets": {},
     "nuid": "63e5b2ec-17c0-4494-b5ab-a8a7a203d881",
     "showTitle": false,
     "title": ""
    }
   },
   "source": [
    "### Data Encoding\n",
    "\n",
    "1. Categoriale Merkmale ohne Ordnungsrelation (=nominale Merkmale) müssen One-Hot-Encodiert werden. Führen Sie für die drei categorialen Merkmale ein One-Hot-Encoding mit dem [scikit-learn LabelBinarizer](https://scikit-learn.org/stable/modules/generated/sklearn.preprocessing.LabelBinarizer.html) durch.\n",
    "2. Fügen Sie die one-hot-encodierten Spalten mit den numerischen Spalten zusammen. Weisen Sie die entsprechende Eingabedatenmatrix einem 2-dimensionalen numpy-array `X` zu. \n",
    "3. Führen Sie auf die Zielvariable `Produktgruppe` ein Label-Encoding mit [scikit-learn LabelEncoder](https://scikit-learn.org/stable/modules/generated/sklearn.preprocessing.LabelEncoder.html#sklearn.preprocessing.LabelEncoder) aus. Weisen Sie diese Daten dem 1-dimensionalen numpy-array `y` zu."
   ]
  },
  {
   "cell_type": "code",
   "execution_count": null,
   "metadata": {},
   "outputs": [
    {
     "ename": "ModuleNotFoundError",
     "evalue": "No module named 'sklearn'",
     "output_type": "error",
     "traceback": [
      "\u001b[1;31m---------------------------------------------------------------------------\u001b[0m",
      "\u001b[1;31mModuleNotFoundError\u001b[0m                       Traceback (most recent call last)",
      "\u001b[1;32mc:\\Users\\joy-j\\Desktop\\projekts\\datamininglecture\\1_vehicle_data_analysis\\vehicleData_Joy.ipynb Zelle 33\u001b[0m in \u001b[0;36m<cell line: 2>\u001b[1;34m()\u001b[0m\n\u001b[0;32m      <a href='vscode-notebook-cell:/c%3A/Users/joy-j/Desktop/projekts/datamininglecture/1_vehicle_data_analysis/vehicleData_Joy.ipynb#X46sZmlsZQ%3D%3D?line=0'>1</a>\u001b[0m \u001b[39m#!conda install scikit-learn\u001b[39;00m\n\u001b[1;32m----> <a href='vscode-notebook-cell:/c%3A/Users/joy-j/Desktop/projekts/datamininglecture/1_vehicle_data_analysis/vehicleData_Joy.ipynb#X46sZmlsZQ%3D%3D?line=1'>2</a>\u001b[0m \u001b[39mfrom\u001b[39;00m \u001b[39msklearn\u001b[39;00m\u001b[39m.\u001b[39;00m\u001b[39mpreprocessing\u001b[39;00m \u001b[39mimport\u001b[39;00m LabelBinarizer\n\u001b[0;32m      <a href='vscode-notebook-cell:/c%3A/Users/joy-j/Desktop/projekts/datamininglecture/1_vehicle_data_analysis/vehicleData_Joy.ipynb#X46sZmlsZQ%3D%3D?line=3'>4</a>\u001b[0m \u001b[39mprint\u001b[39m(categoric_features)\n\u001b[0;32m      <a href='vscode-notebook-cell:/c%3A/Users/joy-j/Desktop/projekts/datamininglecture/1_vehicle_data_analysis/vehicleData_Joy.ipynb#X46sZmlsZQ%3D%3D?line=5'>6</a>\u001b[0m \u001b[39m# Initialize Label binarizer\u001b[39;00m\n",
      "\u001b[1;31mModuleNotFoundError\u001b[0m: No module named 'sklearn'"
     ]
    }
   ],
   "source": [
    "#!conda install scikit-learn\n",
    "from sklearn.preprocessing import LabelBinarizer\n",
    "\n",
    "print(categoric_features)\n",
    "\n",
    "# Initialize Label binarizer\n",
    "lb = LabelBinarizer()"
   ]
  },
  {
   "cell_type": "code",
   "execution_count": null,
   "metadata": {},
   "outputs": [],
   "source": [
    "cars_one_hot_encoded = []\n",
    "\n",
    "# TODO: Ask how array should look? why two dimensional?\n",
    "\n",
    "for column in categoric_features:\n",
    "    # Get all possible classes \n",
    "    lb.fit(cars[column])\n",
    "    lb.classes_\n",
    "\n",
    "    # One hot encode all rows\n",
    "    encoded_column = lb.transform(cars[column])\n",
    "    cars_one_hot_encoded.append(encoded_column)\n",
    "\n",
    "for column in numeric_features:\n",
    "    cars_one_hot_encoded.append(cars[column].to_numpy())\n"
   ]
  },
  {
   "cell_type": "markdown",
   "metadata": {
    "application/vnd.databricks.v1+cell": {
     "inputWidgets": {},
     "nuid": "1535bdf1-f3a9-4a57-88d2-756af7b52be8",
     "showTitle": false,
     "title": ""
    }
   },
   "source": [
    "### Generate Training- and Testpartition\n",
    "Benutzen Sie die [scikit-learn Methode train_test_split()](https://scikit-learn.org/stable/modules/generated/sklearn.model_selection.train_test_split.html) um `X` und `y` in einer Trainings- und Testpartition aufzuteilen. 30% der Daten soll für das Testen, 70% für das Training benutzt werden."
   ]
  },
  {
   "cell_type": "code",
   "execution_count": null,
   "metadata": {},
   "outputs": [],
   "source": [
    "from sklearn.model_selection import train_test_split\n",
    "\n",
    "# Splits data into 30% test and 70% training data and gets shuffled by default\n",
    "(cars_train, cars_test) = train_test_split(cars, train_size=0.7, test_size=0.3)\n",
    "\n",
    "display(len(cars_train))\n",
    "display(len(cars_test))"
   ]
  },
  {
   "cell_type": "markdown",
   "metadata": {
    "application/vnd.databricks.v1+cell": {
     "inputWidgets": {},
     "nuid": "b8a8c080-f89e-4b8d-b765-4d6a8ba1c863",
     "showTitle": false,
     "title": ""
    }
   },
   "source": [
    "### Decision Tree Training, Test and Evaluation\n",
    "1. Trainieren Sie einen [Entscheidungsbaum](https://scikit-learn.org/stable/modules/generated/sklearn.tree.DecisionTreeClassifier.html) mit den Trainingsdaten.\n",
    "2. Wenden Sie den gelernten Entscheidungsbaum auf die Testdaten.\n",
    "3. Evaluieren Sie die Qualität des Entscheidungsbaumes indem Sie \n",
    "     - einen [classification_report](https://scikit-learn.org/stable/modules/generated/sklearn.metrics.classification_report.html) erzeugen. \n",
    "     - die [confusion matrix](https://scikit-learn.org/stable/modules/generated/sklearn.metrics.plot_confusion_matrix.html) plotten.\n",
    " \n",
    " Interpretieren Sie das Ergebnis.\n",
    " \n",
    "4. Führen Sie eine [10-fache Kreuzvalidierung](https://scikit-learn.org/stable/modules/generated/sklearn.model_selection.cross_val_score.html) des Entscheidungsbaumes mit den Daten `X` und `y` aus. Interpretieren Sie das Ergebnis.\n",
    "5. Bestimmen Sie die *Wichtigkeit* der Eingabemerkmale für die Klassifikationsaufgabe, indem Sie auf den in 1.) gelernten DecisionTree das Attribut `feature_importance_` abfragen. Stellen Sie die Werte in einem Barplot dar."
   ]
  },
  {
   "cell_type": "code",
   "execution_count": null,
   "metadata": {},
   "outputs": [],
   "source": []
  },
  {
   "cell_type": "markdown",
   "metadata": {
    "application/vnd.databricks.v1+cell": {
     "inputWidgets": {},
     "nuid": "af044466-8c3e-4681-b5e2-c248cae1321d",
     "showTitle": false,
     "title": ""
    }
   },
   "source": [
    "### Random Forest Training, Test and Evaluation\n",
    "Wiederholen Sie die Teilaufgaben 1. bis 5. des Entscheidungsbaums für einen [Random Forest](https://scikit-learn.org/stable/modules/generated/sklearn.ensemble.RandomForestClassifier.html). Vergelichen Sie die Performance der beiden Verfahren."
   ]
  },
  {
   "cell_type": "markdown",
   "metadata": {},
   "source": [
    "## Machine Learning 2: Schätzung der CO2-Emission\n",
    "In diesem Teilversuch soll aus den Eingabemerkmalen \n",
    "\n",
    "`\"CCM\",\"HST PS\", \"Anzahl der Türen\", \"Leergewicht\", \"Zuladung\", \"Länge\", \"Breite\", \"Höhe\"`\n",
    "\n",
    "die Zielvariable \n",
    "\n",
    "`CO2-Emissionen`\n",
    "\n",
    "geschätzt werden. Hierzu soll ein möglichst gutes Regressionsmodell trainiert werden."
   ]
  },
  {
   "cell_type": "markdown",
   "metadata": {},
   "source": [
    "### Visuelle Korrelationsanalyse\n",
    "1. Stellen Sie für jedes der 8 Eingabemerkmale die Korrelation mit der Zielvariablen visuell in einem Scatterplot dar, in dem das jeweilige Eingabemerkmal auf der x-Achse und die Zielvariable auf der y-Achse aufgetragen wird.\n",
    "2. Diskutieren Sie die Korrelationen. Welche Merkmale korrelieren am stärksten mit der Zielvariable? Erscheint Ihnen das plausibel?"
   ]
  },
  {
   "cell_type": "code",
   "execution_count": null,
   "metadata": {},
   "outputs": [],
   "source": []
  },
  {
   "cell_type": "markdown",
   "metadata": {},
   "source": [
    "### Data Encoding\n",
    "1. Weisen Sie die Matrix der Eingabedaten dem 2-dimensionalen Array `X` und die Zielvariable dem 1-dimensionalen Array `y` zu.\n",
    "2. Führen Sie auf `X` und `y` eine Partitionierung in Trainings- und Testdaten durch, wieder im Verhältnis 70/30.\n",
    "3. Skalieren Sie die Eingabevariablen und die Zielvariable mit dem [MinMaxScaler](https://scikit-learn.org/stable/modules/generated/sklearn.preprocessing.MinMaxScaler.html). Die Skalierung muss sowohl auf Trainings- als auch auf Testdaten ausgeführt werden. Warum darf die Skalierung erst nach dem Split in die beiden Partitionen ausgeführt werden? Worauf ist zu achten? "
   ]
  },
  {
   "cell_type": "code",
   "execution_count": null,
   "metadata": {},
   "outputs": [],
   "source": []
  },
  {
   "cell_type": "markdown",
   "metadata": {},
   "source": [
    "### Training, Test und Evaluation verschiedener Regressionsmodelle\n",
    "\n",
    "Führen Sie die folgenden Teilaufgaben sowohl für ein [Single Layer Perceptron](https://scikit-learn.org/stable/modules/generated/sklearn.linear_model.SGDRegressor.html) als auch für ein [Multi Layer Perceptron](https://scikit-learn.org/stable/modules/generated/sklearn.neural_network.MLPRegressor.html) mit 20 Neuronen in der Hidden-Schicht durch. Vergleichen Sie am Ende die Performance der beiden Verfahren.\n",
    "1. Trainieren Sie den Algorithmus mit den Trainingsdaten.\n",
    "2. Wenden Sie das gelernte Modell auf die Testdaten an.\n",
    "3. Evaluieren Sie die Qualität der Modelle, indem Sie auf die vorhergesagten Ausgaben und die wahren Ausgaben die unten gegebene Funktion aufrufen.\n",
    "4. Beschreiben Sie kurz die in der Funktion verwendeten Metriken"
   ]
  },
  {
   "cell_type": "code",
   "execution_count": null,
   "metadata": {},
   "outputs": [],
   "source": [
    "from sklearn.metrics import mean_squared_error, mean_absolute_error, median_absolute_error, r2_score"
   ]
  },
  {
   "cell_type": "code",
   "execution_count": null,
   "metadata": {},
   "outputs": [],
   "source": [
    "def determineRegressionMetrics(y_test,y_pred,title=\"\"):\n",
    "    mse = mean_squared_error(y_test, y_pred)\n",
    "    mad = mean_absolute_error(y_test, y_pred)\n",
    "    rmsle=np.sqrt(mean_squared_error(np.log(y_test+1),np.log(y_pred+1)))# +1 for avoiding log(0) \n",
    "    r2=r2_score(y_test, y_pred)\n",
    "    med=median_absolute_error(y_test, y_pred)\n",
    "    print(title)\n",
    "    print(\"Mean absolute error =\", round(mad, 2))\n",
    "    print(\"Mean squared error =\", round(mse, 2))\n",
    "    print(\"Median absolute error =\", round(med, 2))\n",
    "    print(\"R2 score =\", round(r2, 2))\n",
    "    print(\"Root Mean Squared Logarithmic Error =\",rmsle)"
   ]
  },
  {
   "cell_type": "code",
   "execution_count": null,
   "metadata": {},
   "outputs": [],
   "source": []
  },
  {
   "cell_type": "markdown",
   "metadata": {},
   "source": [
    "### Hyperparameteroptimierung"
   ]
  },
  {
   "cell_type": "markdown",
   "metadata": {},
   "source": [
    "Für ein [Multi Layer Perceptron](https://scikit-learn.org/stable/modules/generated/sklearn.neural_network.MLPRegressor.html) soll eine Hyperparameteroptimierung durchgeführt werden. Ziel ist es innerhalb der unten vorgegebenen Wertebereiche für die Hyperparameter `hidden_layer_sizes`, `activation` und `learning_rate` die beste Konfiguration zu finden. Hierzu kann entweder [GridSearchCV](https://scikit-learn.org/stable/modules/generated/sklearn.model_selection.GridSearchCV.html#sklearn.model_selection.GridSearchCV) oder [RandomizedSearchCV](https://scikit-learn.org/stable/modules/generated/sklearn.model_selection.RandomizedSearchCV.html) eingesetzt werden. GridSearchCV testet einfach alle Konfigurationen durch, benötigt daher aber viel Zeit. RandomizedSearchCV geht heuristisch und damit schneller durch den Suchraum. Wenden Sie eines dieser beiden Verfahren an, um für das unten gegebene Parameter-Grid die optimale Konfiguration zu finden. Welches ist die optimale Konfiguration und zu welchem `neg_mean_absolute_error`  führt diese?"
   ]
  },
  {
   "cell_type": "code",
   "execution_count": null,
   "metadata": {},
   "outputs": [],
   "source": [
    "param_grid = [{'hidden_layer_sizes': [(10,),(20,),(30,),(40,),(50,),(100,),(10,10)], \n",
    "               'activation': [\"logistic\", \"tanh\", \"relu\"], \n",
    "               'learning_rate': [\"constant\", \"invscaling\", \"adaptive\"]}]\n",
    "param_grid"
   ]
  },
  {
   "cell_type": "code",
   "execution_count": null,
   "metadata": {},
   "outputs": [],
   "source": []
  }
 ],
 "metadata": {
  "application/vnd.databricks.v1+notebook": {
   "dashboards": [],
   "language": "python",
   "notebookName": "fahrzeug_segmentierung_uebung",
   "notebookOrigID": 628697663431637,
   "widgets": {}
  },
  "kernelspec": {
   "display_name": "Python 3.10.6 ('datamining')",
   "language": "python",
   "name": "python3"
  },
  "language_info": {
   "codemirror_mode": {
    "name": "ipython",
    "version": 3
   },
   "file_extension": ".py",
   "mimetype": "text/x-python",
   "name": "python",
   "nbconvert_exporter": "python",
   "pygments_lexer": "ipython3",
   "version": "3.10.6"
  },
  "vscode": {
   "interpreter": {
    "hash": "04ed9841bcf9c4d91954fd1a605be35da54af3647ee1981b6c4b0949731f644d"
   }
  }
 },
 "nbformat": 4,
 "nbformat_minor": 1
}

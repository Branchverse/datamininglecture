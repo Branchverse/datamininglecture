{
 "cells": [
  {
   "cell_type": "markdown",
   "metadata": {},
   "source": [
    "# Data Mining Versuch Recommender Systeme\n",
    "\n",
    "* Autor: Prof. Dr. Johannes Maucher\n",
    "* Datum: 30.09.2015\n",
    "\n",
    "# Einführung\n",
    "## Lernziele:\n",
    "In diesem Versuch sollen Kenntnisse in folgenden Themen vermittelt werden:\n",
    "\n",
    "* __Ähnlichkeit:__ Verfahren zur Bestimmung der Ähnlichkeit zwischen Personen (Kunden) und Elementen (Produkten)\n",
    "* __Empfehlungssysteme__ Collaborative Filtering \n",
    "* __Collaborative Filtering:__ Nutzerbezogener Ansatz und elementbasierter Ansatz\n",
    "\n",
    "Sämtliche Verfahren und Algorithmen werden in Python implementiert.\n",
    "\n",
    "## Theorie zur Vorbereitung\n",
    "### Recommender Systeme\n",
    "Recommender Systeme werden im E-Commerce eingesetzt um Werbung in Form von kundenspezifischen Empfehlungen zu verteilen. Weitläufig bekannt sind die Amazon-Empfehlungen, die entweder per e-mail geschickt oder nach dem Log-In in der Web-Page angezeigt werden. Diese Empfehlungen werden in Abhängigkeit von den bisher vom jeweiligen Kunden gekauften bzw. bewerteten Produkten erstellt. In diesem Versuch werden die derzeit wohl am weitest verbreiteteten Verfahren für die Erzeugung kundenspezifischer Empfehlungen vorgestellt, darunter das elementweise Collaborative Filtering, welches z.B. auch von Amazon eingesetzt wird.     \n",
    "\n",
    "Direkt-Marketing Methoden wie die kundenspezifische Erzeugung und Bereitstellung von Werbung erfordern detaillierte Kunden- und Warenkorbanalysen. Kunden mit ähnlichem Kaufverhalten werden in Kundengruppen zusammengefasst. Die Warenkorbanalyse untersucht u.a. welche Waren bevorzugt im Verbund von der gleichen Person gekauft werden. Damit kann ein Händler Werbung in Form von Empfehlungen individuell und gezielt an seine Kunden richten, abhängig davon welcher Kundengruppe er angehört und welche Produkte bevorzugt von dieser Kundengruppe nachgefragt werden. \n",
    "\n",
    "Im ersten Teil der Übung werden fiktive Daten in einer überschaubaren Menge verwendet. Es handelt sich hier um Filmbewertungen. Anhand dieses Beispiels sollen die notwendigen Methoden und Abläufe implementiert und getestet werden. Diese werden im zweiten Teil der Übung auf echte Daten angewandt. Hierzu werden über eine Python-API Daten vom Internet-Meta-Radio _last.fm_ integriert. Auf der Basis dieser Daten sollen dann Musikempfehlungen für last.fm User berechnet werden. \n",
    "\n",
    "Recommender Systeme lassen sich mit\n",
    "\n",
    "* Clustering Verfahren\n",
    "* Suchalgorithmen\n",
    "* Collaborativen Filtering \n",
    " \n",
    "realisieren. Am häufigsten wird hierbei das Collaborative Filtering eingesetzt. Für das Collaborative Filtering wird jeder der $M$ User durch einen $N$-dimensionalen Vektor beschrieben, wobei $N$ die Anzahl der Produkte im Angebot des Händlers ist. Jedes Element im Vektor gehört zu einem speziellen Produkt. Das Element hat den Wert 1, wenn der User dieses Produkt bereits gekauft hat, sonst 0 (andere Wertbelegungen sind möglich, z.B. wenn Produktbewertungen vorliegen). Alle $M$ Zeilenvektoren können zur _User/Item_ Matrix zusammengefasst werden (siehe Abbildung).\n",
    "\n",
    "\n",
    "<img src=\"https://maucher.home.hdm-stuttgart.de/Pics/UserItemMatrix.png\" style=\"width:500px\" align=\"center\">"
   ]
  },
  {
   "cell_type": "markdown",
   "metadata": {},
   "source": [
    "Das traditionelle **userbasierte Collaborative Filtering (UCF)**, benutzt die Ähnlichkeit zwischen Benutzern: Um für User $U_i$ eine Empfehlung zu erzeugen wird zunächst der diesem User ähnlichste Kunde (oder eine Menge vom ähnlichsten Kunden) ermittelt. Dann werden $U_i$ die Produkte (Items) empfohlen, welche der ähnlichste Kunde gekauft hat, $U_i$ selbst jedoch noch nicht. \n",
    "\n",
    "Dieser Ansatz skaliert schlecht im Fall sehr großer *User/Item*-Matrizen. Ausserdem ist er für User, welche erst wenige Produkte gekauft haben unzuverlässig. Besser eignet sich in diesen Fällen das **itembasierte Collaborative Filtering (ICF)**. Es wird u.a. von Amazon.com eingesetzt. Diese Variante benutzt die Ähnlichkeit zwischen Produkten (Items). Dabei sind Produkte umso ähnlicher je mehr Kunden diese Produkte gemeinsam gekauft haben. Für die Produkte welche ein Referenzuser $U_i$ bereits gekauft hat, werden die ähnlichsten Produkte ermittelt. Diese ähnlichsten Produkte werden $U_i$ empfohlen, wenn er sie nicht schon selbst gekauft hat.\n",
    "\n",
    "Im folgenden Abschnitt werden einige gebräuchliche Metriken für die Berechnung der Ähnlichkeit zwischen Benutzern oder Artikeln vorgestellt. Für Collaboratives Filtering wird sehr häufig das Cosinus - Ähnlichkeitsmaß eingesetzt.\n"
   ]
  },
  {
   "cell_type": "markdown",
   "metadata": {},
   "source": [
    "### Gebräuchliche Ähnlichkeitsmaße\n",
    "\n",
    "Die __euklidische Distanz__ $d_E(\\underline{a},\\underline{b})$ zwischen zwei n-dimensionalen Vektoren $\\underline{a}=(a_1,\\ldots,a_n)$ und $\\underline{b}=(b_1,\\ldots,b_n)$ berechnet sich zu\n",
    "\t$$\n",
    "\td_E(\\underline{a},\\underline{b})=\\sqrt{\\sum_{i=1}^n (a_i-b_i)^2}\n",
    "\t$$\n",
    "Zwei Vektoren können als umso ähnlicher erachtet werden, je kleiner deren euklidische Distanz ist. \n",
    "Ein auf der euklidischen Metrik basierendes Ähnlichkeitsmaß zwischen zwei Vektoren $\\underline{a}$ und $\\underline{b}$ kann durch \n",
    "$$\n",
    "s_E(\\underline{a},\\underline{b})=\\frac{1}{1+d_E(\\underline{a},\\underline{b})}\n",
    "$$\n",
    "angegeben werden.\n",
    "\n",
    "\n",
    "__Pearson Korrelation__\n",
    "Die Ähnlichkeit zwischen zwei Vektoren kann auch durch den Pearson-Korrelationskoeffizient $\\rho_{\\underline{a},\\underline{b}}$ ausgedrückt werden. Er berechnet sich zu\n",
    "$$\n",
    "\\rho_{\\underline{a},\\underline{b}}= \\frac{1}{N}\\cdot \\sum\\limits_{i=1}^{N}\\frac{(a_i-\\overline{a})}{\\sigma_a} \\frac{(b_i-\\overline{b})}{\\sigma_b}\n",
    "$$\n",
    "Dabei bezeichnet $N$ die Länge der Vektoren, $\\overline{a}$ den Mittelwert und $\\sigma_a$ die Standardabweichung des Vektors $\\underline{a}$. \n",
    "\n",
    "Der Pearson-Korrelationskoeffizient misst die lineare Abhängigkeit zwischen zwei Vektoren. Der maximale Wert von $+1$ wird erreicht, wenn die durch die beiden Vektoren definierten N Punkte im 2-dimensionalen Raum auf einer ansteigenden Geraden liegen. Der Minimalwert von $-1$ wird erreicht, wenn die Punkte auf einer abfallenden Geraden liegen. Der Betrag des Koeffizienten ist umso kleiner, je stärker die Punkte von einer fiktiven Geraden (kann durch lineare Regression berechnet werden) abweichen. Der Koeffizient ist $0$ wenn keine lineare Abhängigkeit zwischen den Vektoren besteht.\n",
    "\n",
    "\n",
    "__Cosinus Ähnlichkeitsmaß__\n",
    "Die Ähnlichkeit zwischen zwei Vektoren kann auch durch den Cosinus $\\cos(\\underline{a},\\underline{b})$ ausgedrückt werden. Er berechnet sich zu\n",
    "$$\n",
    "\\cos(\\underline{a},\\underline{b})= \\frac{\\underline{a} \\cdot \\underline{b}}{\\left\\|\\underline{a}\\right\\|\\cdot \\left\\|\\underline{b}\\right\\|}\n",
    "$$\n",
    "wobei im Zähler das Skalarprodukt der beiden Vektoren steht und mit $\\left\\|\\underline{x}\\right\\|$ der Betrag des Vektors $\\underline{x}$ bezeichnet wird.\n",
    "\n",
    "Falls die Vektoren $\\underline{a}$ und $\\underline{b}$ mittelwertfrei sind, ist der Cosinus-Ähnlichkeitswert gleich dem Pearson-Korrelationswert. In der Dokument- und Textanalyse wird vornehmlich das Cosinus-Ähnlichkeitsmaß verwendet. \n",
    "\n",
    "\n",
    "__Russel Rao Ähnlichkeitsmaß__\n",
    "Die Russel Rao-Ähnlichkeit zwischen zwei binären Vektoren $\\underline{a}$ und $\\underline{b}$ mißt das Verhältnis zwischen der Anzahl $\\alpha$ der Stellen in denen beide Vektoren den Wert 1 haben und der Länge $n$ der Vektoren. Z.B. ist für die Vektoren $\\underline{a}=(1,0,1,0,0,1)$ und $\\underline{b}=(0,1,1,1,0,1)$ die Russel-Rao-Ähnlichkeit $s_{RR}(\\underline{a},\\underline{b})=2/6=0.333$.\n",
    "\n",
    "__Jaccard Ähnlichkeitsmaß__\n",
    "Die Jaccard-Ähnlichkeit zwischen zwei binären Vektoren $\\underline{a}$ und $\\underline{b}$ mißt das Verhältnis zwischen der Anzahl $\\alpha$ der Stellen in denen beide Vektoren den Wert $1$ haben und der Anzahl der Stellen in denen mindestens einer der beiden Vektoren ungleich $0$ ist. Z.B. ist für die Vektoren $\\underline{a}=(1,0,1,0,0,1)$ und $\\underline{b}=(0,1,1,1,0,1)$ die Jaccard-Ähnlichkeit $s_{J}(\\underline{a},\\underline{b})=2/5=0.4$. Die Jaccard Metrik wird in diesem Versuch für die Bestimmung der Ähnlichkeit von *last.fm*-Usern eingesetzt.\n"
   ]
  },
  {
   "cell_type": "markdown",
   "metadata": {},
   "source": [
    "<div style=\"color:#777777\">\n",
    "\n",
    "## Vor dem Versuch zu klärende Fragen\n",
    "Eine Untermenge der im Folgenden aufgeführten Fragen wird zu Beginn des Versuchs im Rahmen eines Gruppenkolloqs abgefragt. Auf jede Frage sollte von mindestens einem Gruppenmitglied eine Antwort geliefert werden und jedes Gruppenmitglied muss mindestens eine der gestellten Fragen beantworten können.\n",
    "\n",
    "**Aufgaben:**\n",
    "\n",
    "* Beschreiben Sie das Prinzip des userbasierten Collaborativen Filtering (UCF)."
   ]
  },
  {
   "cell_type": "markdown",
   "metadata": {},
   "source": [
    "**Collaborativen Filtering**\n",
    "\n",
    "Generell ist es beim Collaborativen Filtering so, dass man zu jedem Nutzer speichert, ob er ein Item bereits gekauft hat. Jeder Nutzer hat somit einen Vektor der so viele dimensionen hat, wie die angeboten Items. Wenn er ein Item gekauft hat steht dafür eine 1, wenn nicht eine 0. Diese Nutzer-Vektoren kann man mit den anderen Nutzer-Vektoren verknüpfen und zu einer Matrix zusammenfassen.\n",
    "\n",
    "**Userbasierten Collaborativen Filtering**\n",
    "\n",
    "Beim userbasierten Collaborativen Filtering nutzt man diese Nutzer-Vektoren, um Produkt-Empfehlungen zu berechnen. Dabei wird von einem Nutzer n1 der Nutzer-Vektor genommen und geschaut welcher Nutzer n2 den ähnlichsten Nutzer-Vektor hat. Dann werden dem Nutzer n1 die Produkte vorgeschlagen, die er selbst nicht, aber der Nutzer n2 schon gekauft hat."
   ]
  },
  {
   "cell_type": "markdown",
   "metadata": {},
   "source": [
    "<div style=\"color:#777777\">\n",
    "\n",
    "* Welche Nachteile hat das UCF?"
   ]
  },
  {
   "cell_type": "markdown",
   "metadata": {},
   "source": [
    "**Nachteile UCF**\n",
    "1. Je größer die Matrix aus Nutzer-Vektoren wird, desto länger dauert es einen ähnlichen Nutzer zu finden. Wenn diese Matrix zu groß wird, dauert der Suchvorgang einfach zu lange.\n",
    "2. Wenn ein Nutzer noch zu wenig Produkte gekauft hat, kann man eine schlechtere Vorhersage treffen, weil es dann zu viele ähnlichen Nutzer gibt, die auch sehr unterschiedliche Produkte gekauft haben können."
   ]
  },
  {
   "cell_type": "markdown",
   "metadata": {},
   "source": [
    "<div style=\"color:#777777\">\n",
    "\n",
    "* Worin besteht der Unterschied zwischen UCF und itembasierten Collaborativen Filtering (ICF)?"
   ]
  },
  {
   "cell_type": "markdown",
   "metadata": {},
   "source": [
    "**Unterschied**\n",
    "\n",
    "Man entscheidet nicht anhand des ähnlichsten Nutzers, sondern anhand von ähnlichen Produkten zu einem Produkt die der Nutzer bereits gekauft hat.\n",
    "\n",
    "**Itembasierten Collaborativen Filtering**\n",
    "\n",
    "Je mehr Kunden die gleichen gemeinsamen Produkte gekauft haben, desto ähnlicher sind diese Produkte sich. Wenn man dann entscheiden möchte welches Produkt vorgeschlagen wird, bestimmt man die ähnlichsten Produkte, die der Nutzer noch nicht gekauft hat. \n",
    "\n",
    "Dieses Vorgehen wird von Amazon benutzt und die Ergebnisse sieht man dort bei \"Kunden, die ... kauften, kauften auch ...\".\n",
    "\n",
    "Quelle: https://www.dogan-ucar.de/item-based-collaborative-filtering/"
   ]
  },
  {
   "cell_type": "markdown",
   "metadata": {},
   "source": [
    "<div style=\"color:#777777\">\n",
    "\n",
    "* Gegeben seien die Vektoren \n",
    "\n",
    "    $$\n",
    "    \\begin{eqnarray*}\n",
    "    \\underline{a} & = & [1,2,3,4,5,6] \\\\\n",
    "    \\underline{b} & = & [3,3,5,6,7,8] \\\\\n",
    "    \\end{eqnarray*}\n",
    "    $$\n",
    "    \n",
    "Schreiben Sie eine Python Funktion, die den Mittelwert derartiger Vektoren berechnet. Schreiben Sie eine weitere Funktion, die die Varianz berechnet"
   ]
  },
  {
   "cell_type": "code",
   "execution_count": 1,
   "metadata": {},
   "outputs": [],
   "source": [
    "a = [1, 2, 3, 4, 5, 6]\n",
    "b = [3, 3, 5, 6, 7, 8]"
   ]
  },
  {
   "cell_type": "code",
   "execution_count": 2,
   "metadata": {},
   "outputs": [
    {
     "name": "stdout",
     "output_type": "stream",
     "text": [
      "Mittelwert a: 3.5\n",
      "Mittelwert b: 5.333333333333333\n"
     ]
    }
   ],
   "source": [
    "# Mittelwert\n",
    "def calculateMean(list):\n",
    "    sum = 0\n",
    "    for item in list:\n",
    "        sum += item\n",
    "    return sum / len(list)\n",
    "\n",
    "mean_a = calculateMean(a)\n",
    "mean_b = calculateMean(b)\n",
    "\n",
    "print(\"Mittelwert a:\", mean_a)\n",
    "print(\"Mittelwert b:\", mean_b)"
   ]
  },
  {
   "cell_type": "code",
   "execution_count": 3,
   "metadata": {},
   "outputs": [
    {
     "name": "stdout",
     "output_type": "stream",
     "text": [
      "Varianz a: 3.5\n",
      "Varianz b: 4.266666666666667\n"
     ]
    }
   ],
   "source": [
    "# Varianz\n",
    "def calculateVariance(list):\n",
    "    sum = 0\n",
    "    mean = calculateMean(list)\n",
    "    for item in list:\n",
    "        deviation = item - mean\n",
    "        deviation_quadratic = deviation**2\n",
    "        sum += deviation_quadratic\n",
    "    return sum / (len(list) - 1)\n",
    "\n",
    "variance_a = calculateVariance(a)\n",
    "variance_b = calculateVariance(b)\n",
    "\n",
    "print(\"Varianz a:\", variance_a)\n",
    "print(\"Varianz b:\", variance_b)"
   ]
  },
  {
   "cell_type": "code",
   "execution_count": 4,
   "metadata": {},
   "outputs": [
    {
     "name": "stdout",
     "output_type": "stream",
     "text": [
      "Mittelwert a: 3.5\n",
      "Mittelwert b: 5.333333333333333\n",
      "Varianz a: 3.5\n",
      "Varianz b: 4.266666666666667\n"
     ]
    }
   ],
   "source": [
    "import statistics\n",
    "\n",
    "print(\"Mittelwert a:\", statistics.mean(a))\n",
    "print(\"Mittelwert b:\", statistics.mean(b))\n",
    "\n",
    "print(\"Varianz a:\", statistics.variance(a))\n",
    "print(\"Varianz b:\", statistics.variance(b))"
   ]
  },
  {
   "cell_type": "markdown",
   "metadata": {},
   "source": [
    "<div style=\"color:#777777\">\n",
    "\n",
    "* Wie groß ist die\n",
    "\n",
    "    - Euklidische Ähnlichkeit\n",
    "    - Pearson Ähnlichkeit\n",
    "    - Cosinus Ähnlichkeit\n",
    "    \n",
    "    zwischen den Vektoren $\\underline{a}$ und $\\underline{b}$? "
   ]
  },
  {
   "cell_type": "code",
   "execution_count": 5,
   "metadata": {},
   "outputs": [
    {
     "name": "stdout",
     "output_type": "stream",
     "text": [
      "Euklidische Ähnlichkeit: 4.58257569495584\n",
      "Euklidische Ähnlichkeit Metrik: 0.179128784747792\n"
     ]
    }
   ],
   "source": [
    "# Euklidische Ähnlichkeit\n",
    "from scipy.spatial import distance\n",
    "\n",
    "euclidean_distance = distance.euclidean(a, b)\n",
    "print(\"Euklidische Ähnlichkeit:\", euclidean_distance)\n",
    "\n",
    "# Euklidische Ähnlichkeit Metrik\n",
    "euclidean_similarity_metric = 1 / (1 + euclidean_distance)\n",
    "print(\"Euklidische Ähnlichkeit Metrik:\",euclidean_similarity_metric)"
   ]
  },
  {
   "cell_type": "code",
   "execution_count": 6,
   "metadata": {},
   "outputs": [
    {
     "name": "stdout",
     "output_type": "stream",
     "text": [
      "Pearson Ähnlichkeit: 0.9833434220628547\n"
     ]
    }
   ],
   "source": [
    "# Pearson Ähnlichkeit\n",
    "from scipy import stats\n",
    "\n",
    "pearson_correlation, _ = stats.pearsonr(a, b)\n",
    "print(\"Pearson Ähnlichkeit:\", pearson_correlation)"
   ]
  },
  {
   "cell_type": "code",
   "execution_count": 7,
   "metadata": {},
   "outputs": [
    {
     "name": "stdout",
     "output_type": "stream",
     "text": [
      "Cosinus Ähnlichkeit: 0.991060084745164\n"
     ]
    }
   ],
   "source": [
    "# Cosinus Ähnlichkeit\n",
    "import numpy as np\n",
    "\n",
    "a = np.array(a)\n",
    "b = np.array(b)\n",
    "\n",
    "cosine_similarity = np.dot(a, b) / (np.linalg.norm(a) * np.linalg.norm(b))\n",
    "\n",
    "print(\"Cosinus Ähnlichkeit:\", cosine_similarity)"
   ]
  },
  {
   "cell_type": "markdown",
   "metadata": {},
   "source": [
    "<div style=\"color:#777777\">\n",
    "\n",
    "* In welchen Fällen sind Cosinus- und Pearsonähnlichkeit der euklidischen Ähnlichkeit vorzuziehen?"
   ]
  },
  {
   "cell_type": "markdown",
   "metadata": {},
   "source": [
    "Bei der Cosinus Ähnlichkeit bekommt man einen Wert zwischen −1 und 1 heraus.\n",
    "-  0 für unabhängig \n",
    "- -1 genau entgegengerichtet \n",
    "- 1 genau gleichgerichtet.\n",
    "\n",
    "Bei der Pearson Ähnlichkeit bekommt man ebenfalls einen Wert zwischen −1 und 1 heraus.\n",
    "- 0 keine lineare Abhängigkeit\n",
    "- -1 alle Punkte herabsteigende Gerade\n",
    "- 1 alle Punkte auf aufsteigender Gerade\n",
    "\n",
    "Bei der euklidischen Distanz bekommt man nur einen Wert herraus bei dem man sagen kann: je kleiner er ist desto ähnlicher die Vektoren.\n",
    "\n",
    "Also wenn man genauere informationen zu den Vektoren erhalten möchte oder deren lineare Abhängikeit bestimmen will nutzt man die Cosinus- und Pearsonähnlichkeit, wenn man dahingegen nur anhand einer Zahl wissen will wie ähnliche sich Vektoren sind reicht die euklidische Distanz.\n",
    "\n",
    "- In Dokument und Textanalysen wird eher das Cosinus Ähnlichkeitsmaß verwendet.\n",
    "- Die Pearson Ähnlichkeit misst nur die lineare Abhängigkeit zwischen zwei Vektoren (Es kann auch sein das sie exponentiell oder anders voneinander Abhängen)\n",
    "\n",
    "Quellen:\n",
    "- https://de.wikipedia.org/wiki/Kosinus-%C3%84hnlichkeit\n",
    "- https://de.wikipedia.org/wiki/Korrelationskoeffizient\n",
    "- https://studyflix.de/statistik/pearson-korrelation-1051\n",
    "- https://blog.stefan-koch.name/2011/04/04/algorithmen-zur-bestimmung-von-aehnlichkeiten\n",
    "\n",
    "Cosinus Ähnlichkeit. Misst Winkel zwischen zwei Punkten. Leute geben unterschiedlich viele Sterne Bewertung. Manche geben immer 5 Sterne für einen Film wenn er gut ist, während andere nur 3 geben wenn er gut ist. Mit der euklidischen Distanz kann man das nicht messen. Mit dem Cosinus Ähnlichkeits maß schon. Weil dieser die Winkel betrachtet.\n",
    "\n",
    "Wenn es nicht um die distanz geht, sondern um die Richtung geht."
   ]
  },
  {
   "cell_type": "code",
   "execution_count": 8,
   "metadata": {},
   "outputs": [],
   "source": [
    "from IPython.display import Latex\n",
    "from IPython.display import Image\n",
    "import pylast"
   ]
  },
  {
   "cell_type": "markdown",
   "metadata": {},
   "source": [
    "# Versuchsdurchführung\n",
    "## Teil 1: Fiktive Filmbewertung\n",
    "### Daten\n",
    "Folgende Tabelle enthält die Filmbewertungen von 7 Personen.\n",
    "from IPython.display import Latex\n",
    "In diesem Versuch sollen Kenntnisse in folgenden Themen vermittelt werden:\n",
    "\n",
    "\n",
    "<img src=\"https://maucher.home.hdm-stuttgart.de/Pics/recommenderFilmRecommendations.PNG\" style=\"width:500px\" align=\"center\">\n",
    "\n"
   ]
  },
  {
   "cell_type": "markdown",
   "metadata": {},
   "source": [
    "Die Tabelle ist als Python dictionary _critics_ implementiert. Die Keys des Python-Dictionary definieren die Namen von Personen (Zeilen in der Matrix), die Filme bewertet haben. Die Values sind selbst wieder Dictionarys, welche als Keys die Filmnamen (Spalten in der Matrix) und als Values die jeweilige Filmbewertung (Matrixelment) enthalten."
   ]
  },
  {
   "cell_type": "code",
   "execution_count": 9,
   "metadata": {},
   "outputs": [],
   "source": [
    "critics={'Lisa Rose': {'Lady in the Water': 2.5, 'Snakes on a Plane': 3.5,\n",
    " 'Just My Luck': 3.0, 'Superman Returns': 3.5, 'You, Me and Dupree': 2.5, \n",
    " 'The Night Listener': 3.0},\n",
    "'Gene Seymour': {'Lady in the Water': 3.0, 'Snakes on a Plane': 3.5, \n",
    " 'Just My Luck': 1.5, 'Superman Returns': 5.0, 'The Night Listener': 3.0, \n",
    " 'You, Me and Dupree': 3.5}, \n",
    "'Michael Phillips': {'Lady in the Water': 2.5, 'Snakes on a Plane': 3.0,\n",
    " 'Superman Returns': 3.5, 'The Night Listener': 4.0},\n",
    "'Claudia Puig': {'Snakes on a Plane': 3.5, 'Just My Luck': 3.0,\n",
    " 'The Night Listener': 4.5, 'Superman Returns': 4.0, \n",
    " 'You, Me and Dupree': 2.5},\n",
    "'Mick LaSalle': {'Lady in the Water': 3.0, 'Snakes on a Plane': 4.0, \n",
    " 'Just My Luck': 2.0, 'Superman Returns': 3.0, 'The Night Listener': 3.0,\n",
    " 'You, Me and Dupree': 2.0}, \n",
    "'Jack Matthews': {'Lady in the Water': 3.0, 'Snakes on a Plane': 4.0,\n",
    " 'The Night Listener': 3.0, 'Superman Returns': 5.0, 'You, Me and Dupree': 3.5},\n",
    "'Toby': {'Snakes on a Plane':4.5,'You, Me and Dupree':1.0,'Superman Returns':4.0}\n",
    "}"
   ]
  },
  {
   "cell_type": "markdown",
   "metadata": {},
   "source": [
    "### Ähnlichkeiten berechnen\n",
    "\n",
    "Für die Bestimmung der Ähnlichkeit zwischen Personen und Produkten werden in diesem Versuch ein auf der euklidischen Distanz basierendes Ähnlichkeitsmaß und die Pearson-Korrelation verwendet. Beide Ähnlichkeitsmaße sind in den unten definierten Funktionen implementiert. Alle drei hier implementierten Funktionen zur Berechnung der Ähnlichkeit erhalten als Übergabeparameter das oben definierte Dictionary, das die Filmbewertungen enthält und die Namen der zwei Personen, die verglichen werden sollen. \n",
    "\n",
    "Zu beachten ist, dass in beiden Funktionen für die Berechnung der Ähnlichkeit zwischen zwei Personen nur die Produkte berücksichtigt werden, welche von beiden Personen schon bewertet wurden. Es handelt sich hier also um modifizierte Ähnlichkeitsfunktionen. \n",
    "\n",
    "__Aufgabe:__\n",
    "Fragen Sie von diesem Dictionary _Toby's_ Bewertung des Films _Snakes on a Plane_ ab und geben Sie diesen Wert aus: "
   ]
  },
  {
   "cell_type": "code",
   "execution_count": 10,
   "metadata": {},
   "outputs": [
    {
     "name": "stdout",
     "output_type": "stream",
     "text": [
      "4.5\n"
     ]
    }
   ],
   "source": [
    "critic_toby_snakes = critics[\"Toby\"][\"Snakes on a Plane\"]\n",
    "print(critic_toby_snakes)"
   ]
  },
  {
   "cell_type": "code",
   "execution_count": 11,
   "metadata": {},
   "outputs": [],
   "source": [
    "import numpy as np\n",
    "import scipy.spatial.distance as sci\n",
    "\n",
    "\n",
    "def sim_euclid(prefs,person1,person2,normed=True):\n",
    "    ''' Returns a euclidean-distance-based similarity score for \n",
    "    person1 and person2. In the distance calculation the sum is computed \n",
    "    only over those items, which are nonzero for both instances, i.e. only\n",
    "    films which are ranked by both persons are regarded.\n",
    "    If the parameter normed is True, then the euclidean distance is divided by\n",
    "    the number of non-zero elements integrated in the distance calculation. Thus\n",
    "    the effect of larger distances in the case of an increasing number of commonly ranked\n",
    "    items is avoided.\n",
    "    '''\n",
    "    # Get the list of shared_items\n",
    "    si={}\n",
    "    for item in prefs[person1]: \n",
    "        if item in prefs[person2]: \n",
    "            si[item] = 1\n",
    "            \n",
    "    # len(si) counts the number of common ratings\n",
    "    # if they have no ratings in common, return 0\n",
    "    if len(si) == 0: \n",
    "        return 0\n",
    "\n",
    "    # Add up the squares of all the differences\n",
    "    sum_of_squares=np.sqrt(sum([pow(prefs[person1][item]-prefs[person2][item],2) \n",
    "                     for item in prefs[person1] if item in prefs[person2]]))\n",
    "    if normed:\n",
    "        sum_of_squares= 1.0/len(si)*sum_of_squares\n",
    "    return 1/(1+sum_of_squares)\n",
    "\n",
    "\n",
    "def sim_pearson(prefs,p1,p2):\n",
    "    '''\n",
    "    Returns the Pearson correlation coefficient for p1 and p2\n",
    "    '''\n",
    "\n",
    "    # Get the list of commonly rated items\n",
    "    si={}\n",
    "    for item in prefs[p1]: \n",
    "        if item in prefs[p2]: \n",
    "            si[item]=1\n",
    "\n",
    "    # if they are no ratings in common, return 0\n",
    "    if len(si)==0: return 0\n",
    "\n",
    "    # Sum calculations\n",
    "    n=len(si)\n",
    "\n",
    "    # Calculate means of person 1 and 2\n",
    "    mp1=np.mean([prefs[p1][it] for it in si])\n",
    "    mp2=np.mean([prefs[p2][it] for it in si])\n",
    "\n",
    "    # Calculate standard deviation of person 1 and 2\n",
    "    sp1=np.std([prefs[p1][it] for it in si])\n",
    "    sp2=np.std([prefs[p2][it] for it in si])\n",
    "\n",
    "    # If all elements in one sample are identical, the standard deviation is 0. \n",
    "    # In this case there is no linear correlation between the samples\n",
    "    if sp1==0 or sp2==0:\n",
    "        return 0\n",
    "    r=1/(n*sp1*sp2)*sum([(prefs[p1][it]-mp1)*(prefs[p2][it]-mp2) for it in si])\n",
    "    return r\n",
    "\n",
    "\n",
    "def sim_RusselRao(prefs,person1,person2,normed=True):\n",
    "    ''' Returns RusselRao similaritiy between 2 users. The RusselRao similarity just counts the number\n",
    "    of common non-zero components of the two vectors and divides this number by N, where N is the length\n",
    "    of the vectors. If normed=False, the division by N is omitted.\n",
    "    '''\n",
    "    # Get the list of shared_items\n",
    "    si={}\n",
    "    commons=0\n",
    "    for item in prefs[person1]: \n",
    "        if prefs[person1][item]==1 and prefs[person2][item]==1:   \n",
    "            commons+=1\n",
    "    #print commons\n",
    "    if not normed:\n",
    "        return commons\n",
    "    else:\n",
    "        return commons*1.0/len(prefs[person1]) "
   ]
  },
  {
   "cell_type": "markdown",
   "metadata": {},
   "source": [
    "**Aufgabe:**\n",
    "1. Geben Sie die euklidische Ähnlichkeit und die Pearson Ähnlichkeit zwischen den Personen _Toby_ und _Lisa Rose_ aus.\n",
    "2. Diskutieren Sie die unterschiedlichen Ähnlichkeitswert."
   ]
  },
  {
   "cell_type": "markdown",
   "metadata": {},
   "source": [
    "#### 1. Aufgabe Euklidische Ähnlichkeit und Pearson Ähnlichkeit\n",
    "Todo\n",
    "\n",
    "Diskutieren Sie die unterschiedlichen Ähnlichkeitswert."
   ]
  },
  {
   "cell_type": "code",
   "execution_count": 12,
   "metadata": {},
   "outputs": [
    {
     "name": "stdout",
     "output_type": "stream",
     "text": [
      "Euklidische Ähnlichkeit Tony und Lisa Rose: 0.615911621788925\n",
      "Pearson Ähnlichkeit Tony und Lisa Rose: 0.9912407071619302\n"
     ]
    }
   ],
   "source": [
    "sim_euclid_toby_lisa = sim_euclid(critics, \"Toby\", \"Lisa Rose\")\n",
    "print(\"Euklidische Ähnlichkeit Tony und Lisa Rose:\", sim_euclid_toby_lisa)\n",
    "\n",
    "sim_pearson_toby_lisa = sim_pearson(critics, \"Toby\", \"Lisa Rose\")\n",
    "print(\"Pearson Ähnlichkeit Tony und Lisa Rose:\", sim_pearson_toby_lisa)"
   ]
  },
  {
   "cell_type": "markdown",
   "metadata": {},
   "source": [
    "__Aufgabe:__\n",
    "0. Schreiben Sie eine Funktion `topMatches(prefs,person,similarity)`, welche für eine beliebige in _critics_ enthaltene Person die Ähnlichkeitswerte zu allen anderen Personen berechnet und in einer geordneten Liste zurück gibt. Der Funktion soll als Übergabeparameter auch die anzuwendende Ähnlichkeitsfunktion (`sim_euclid` oder `sim_pearson`) übergeben werden können. Berechnen Sie mit dieser Funktion für jede Person die *top matches*, zunächst unter Verwendung der euklidischen- dann unter Verwendung der Pearson-Ähnlichkeit.\n",
    "1. Geben Sie mit der implementierten Funktion die *top matches* der Person Toby aus.\n",
    "2. Vergleichen Sie die beiden Ähnlichkeitsmaße. Welches Ähnlichkeitsmaß erscheint Ihnen für diesen Anwendungsfall sinnvoller und warum?"
   ]
  },
  {
   "cell_type": "markdown",
   "metadata": {},
   "source": [
    "### 0. Aufgabe - Top Matches"
   ]
  },
  {
   "cell_type": "code",
   "execution_count": 13,
   "metadata": {},
   "outputs": [
    {
     "name": "stdout",
     "output_type": "stream",
     "text": [
      "Euklidische Ähnlichkeit Lisa Rose: {'Gene Seymour': 0.714462989423532, 'Michael Phillips': 0.7815501047457912, 'Claudia Puig': 0.7597469266479578, 'Mick LaSalle': 0.8092564301694538, 'Jack Matthews': 0.7208254886814803, 'Toby': 0.615911621788925}\n",
      "Pearson Ähnlichkeit Lisa Rose: {'Gene Seymour': 0.39605901719066977, 'Michael Phillips': 0.40451991747794525, 'Claudia Puig': 0.5669467095138409, 'Mick LaSalle': 0.5940885257860046, 'Jack Matthews': 0.747017880833996, 'Toby': 0.9912407071619302}\n",
      "\n",
      "\n",
      "Euklidische Ähnlichkeit Gene Seymour: {'Lisa Rose': 0.714462989423532, 'Michael Phillips': 0.6737986373538911, 'Claudia Puig': 0.6622946603252993, 'Mick LaSalle': 0.6978305207480379, 'Jack Matthews': 0.9090909090909091, 'Toby': 0.5108747069239427}\n",
      "Pearson Ähnlichkeit Gene Seymour: {'Lisa Rose': 0.39605901719066977, 'Michael Phillips': 0.20459830184114203, 'Claudia Puig': 0.31497039417435596, 'Mick LaSalle': 0.4117647058823529, 'Jack Matthews': 0.963795681875633, 'Toby': 0.3812464258315117}\n",
      "\n",
      "\n",
      "Euklidische Ähnlichkeit Michael Phillips: {'Lisa Rose': 0.7815501047457912, 'Gene Seymour': 0.6737986373538911, 'Claudia Puig': 0.7759907622602041, 'Mick LaSalle': 0.7166996059009808, 'Jack Matthews': 0.6534537935444722, 'Toby': 0.5584815598877471}\n",
      "Pearson Ähnlichkeit Michael Phillips: {'Lisa Rose': 0.40451991747794525, 'Gene Seymour': 0.20459830184114203, 'Claudia Puig': 1.0000000000000002, 'Mick LaSalle': -0.2581988897471611, 'Jack Matthews': 0.13483997249264842, 'Toby': -1.0}\n",
      "\n",
      "\n",
      "Euklidische Ähnlichkeit Claudia Puig: {'Lisa Rose': 0.7597469266479578, 'Gene Seymour': 0.6622946603252993, 'Michael Phillips': 0.7759907622602041, 'Mick LaSalle': 0.6964322291925094, 'Jack Matthews': 0.6534537935444722, 'Toby': 0.6246387977050463}\n",
      "Pearson Ähnlichkeit Claudia Puig: {'Lisa Rose': 0.5669467095138409, 'Gene Seymour': 0.31497039417435596, 'Michael Phillips': 1.0000000000000002, 'Mick LaSalle': 0.5669467095138409, 'Jack Matthews': 0.02857142857142857, 'Toby': 0.8934051474415644}\n",
      "\n",
      "\n",
      "Euklidische Ähnlichkeit Mick LaSalle: {'Lisa Rose': 0.8092564301694538, 'Gene Seymour': 0.6978305207480379, 'Michael Phillips': 0.7166996059009808, 'Claudia Puig': 0.6964322291925094, 'Jack Matthews': 0.6666666666666666, 'Toby': 0.6666666666666666}\n",
      "Pearson Ähnlichkeit Mick LaSalle: {'Lisa Rose': 0.5940885257860046, 'Gene Seymour': 0.4117647058823529, 'Michael Phillips': -0.2581988897471611, 'Claudia Puig': 0.5669467095138409, 'Jack Matthews': 0.21128856368212914, 'Toby': 0.9244734516419051}\n",
      "\n",
      "\n",
      "Euklidische Ähnlichkeit Jack Matthews: {'Lisa Rose': 0.7208254886814803, 'Gene Seymour': 0.9090909090909091, 'Michael Phillips': 0.6534537935444722, 'Claudia Puig': 0.6534537935444722, 'Mick LaSalle': 0.6666666666666666, 'Toby': 0.5227744249483389}\n",
      "Pearson Ähnlichkeit Jack Matthews: {'Lisa Rose': 0.7470178808339961, 'Gene Seymour': 0.9637956818756331, 'Michael Phillips': 0.13483997249264842, 'Claudia Puig': 0.02857142857142857, 'Mick LaSalle': 0.21128856368212914, 'Toby': 0.6628489803598703}\n",
      "\n",
      "\n",
      "Euklidische Ähnlichkeit Toby: {'Lisa Rose': 0.615911621788925, 'Gene Seymour': 0.5108747069239427, 'Michael Phillips': 0.5584815598877471, 'Claudia Puig': 0.6246387977050463, 'Mick LaSalle': 0.6666666666666666, 'Jack Matthews': 0.5227744249483389}\n",
      "Pearson Ähnlichkeit Toby: {'Lisa Rose': 0.9912407071619302, 'Gene Seymour': 0.3812464258315117, 'Michael Phillips': -1.0, 'Claudia Puig': 0.8934051474415642, 'Mick LaSalle': 0.9244734516419051, 'Jack Matthews': 0.6628489803598703}\n",
      "\n",
      "\n"
     ]
    }
   ],
   "source": [
    "def topMatches(prefs, person, similarity):\n",
    "    # Check if person in critics\n",
    "\n",
    "    similarity_values = {}\n",
    "    for person_pref in prefs:\n",
    "        if person_pref == person:\n",
    "            continue\n",
    "        similarity_values[person_pref] = (similarity(prefs, person, person_pref))\n",
    "        \n",
    "    return similarity_values\n",
    "\n",
    "for person in critics:\n",
    "    print(f\"Euklidische Ähnlichkeit {person}:\", topMatches(critics, person, sim_euclid))\n",
    "    print(f\"Pearson Ähnlichkeit {person}:\", topMatches(critics, person, sim_pearson))\n",
    "    print(\"\\n\")"
   ]
  },
  {
   "cell_type": "markdown",
   "metadata": {},
   "source": [
    "#### 1. Aufgabe - Top Matches Toby\n",
    "Todo\n",
    "\n",
    "Vergleichen Sie die beiden Ähnlichkeitsmaße. Welches Ähnlichkeitsmaß erscheint Ihnen für diesen Anwendungsfall sinnvoller und warum?"
   ]
  },
  {
   "cell_type": "code",
   "execution_count": 14,
   "metadata": {},
   "outputs": [
    {
     "name": "stdout",
     "output_type": "stream",
     "text": [
      "Euklidische Ähnlichkeit Toby: {'Lisa Rose': 0.615911621788925, 'Gene Seymour': 0.5108747069239427, 'Michael Phillips': 0.5584815598877471, 'Claudia Puig': 0.6246387977050463, 'Mick LaSalle': 0.6666666666666666, 'Jack Matthews': 0.5227744249483389}\n",
      "Pearson Ähnlichkeit Toby: {'Lisa Rose': 0.9912407071619302, 'Gene Seymour': 0.3812464258315117, 'Michael Phillips': -1.0, 'Claudia Puig': 0.8934051474415642, 'Mick LaSalle': 0.9244734516419051, 'Jack Matthews': 0.6628489803598703}\n"
     ]
    }
   ],
   "source": [
    "print(\"Euklidische Ähnlichkeit Toby:\", topMatches(critics, \"Toby\", sim_euclid))\n",
    "print(\"Pearson Ähnlichkeit Toby:\", topMatches(critics, \"Toby\", sim_pearson))"
   ]
  },
  {
   "cell_type": "code",
   "execution_count": 15,
   "metadata": {},
   "outputs": [
    {
     "data": {
      "image/png": "[encoded data removed]",
      "text/plain": [
       "<Figure size 640x480 with 1 Axes>"
      ]
     },
     "metadata": {},
     "output_type": "display_data"
    }
   ],
   "source": [
    "import matplotlib.pylab as plt\n",
    "\n",
    "colors = list(\"rgbcmyk\")\n",
    "\n",
    "for data_dict in critics.values():\n",
    "   x = data_dict.keys()\n",
    "   y = data_dict.values()\n",
    "   plt.scatter(x,y,color=colors.pop())\n",
    "\n",
    "plt.legend(critics.keys())\n",
    "plt.show()"
   ]
  },
  {
   "cell_type": "markdown",
   "metadata": {},
   "source": [
    "### Berechnung von Empfehlungen mit User basiertem Collaborative Filtering\n",
    "Für die Produkte, die von einer Person noch nicht gekauft wurden, sollen Empfehlungen berechnet werden. Die Empfehlungen können ebenfalls Werte zwischen 1 (wird nicht empfohlen) und 5 (wird stark empfohlen) annehmen. Für die Berechnung der Empfehlung werden die Bewertungen des jeweiligen Produkts durch die anderen Personen herangezogen. Dabei werden die Bewertungen der ähnlichen Personen (d.h. hoher Pearson-Korrelationswert) stärker mit einbezogen als die Bewertungen durch Personen mit einem niedrigen Korrelationswert.\n",
    "\n",
    "__Beispiel:__\n",
    "Toby hat die Filme *The Night Listener*, _Lady in the Water_ und _Just My Luck_ noch nicht gekauft. Für diese Filme soll für Toby eine Empfehlung berechnet werden.\n",
    "In der unten aufgeführten Tabelle enthält die zweite Spalte die _Pearson-Ähnlichkeitswerte_ zwischen Toby und den anderen Personen. Die Spalten 3, 5 und 7 enthalten die Bewertungen der Filme *The Night Listener*, _Lady in the Water_ und _Just My Luck_ durch die anderen Personen. Die Spalten 4, 6 und 8 enthalten die jeweilige Filmbewertung gewichtet (mulipliziert) mit den Ähnlichkeitswerten der jeweiligen Person. Es fällt auf, dass in der Tabelle _Michael_ nicht enthalten ist. Das liegt daran, dass _Michael_ und _Toby_ einen negativen Ähnlichkeitswert aufweisen, d.h. deren Interessen sind gegenläufig. Personen mit negativem Ähnlichkeitswert sollten für Empfehlungen nicht berücksichtigt werden.\n",
    "Die Zeile _Sum_ enthält die Summe aller gewichteten Bewertungen. Aus diesem Wert allein kann die Empfehlung noch nicht abgeleitet werden, da Filme die nur von wenigen Personen bewertet wurden, eine relativ kleine Summe ergeben. Deshalb sollte _Sum_ noch durch die Anzahl der Bewertungen für diesen Film geteilt werden. Oder besser: Nicht durch die Summe der Bewertungen, sondern durch die Summe der relevanten Ähnlichkeitswerte (*KSum*). Der resultierende Empfehlungswert ist in der letzten Zeile eingetragen.\n",
    "\n",
    "\n",
    "\n",
    "<img src=\"https://maucher.home.hdm-stuttgart.de/Pics/recommenderFilmCalculation.PNG\" style=\"width:500px\" align=\"center\">\n",
    "\n",
    "\n"
   ]
  },
  {
   "cell_type": "markdown",
   "metadata": {},
   "source": [
    "__Aufgabe:__\n",
    "Schreiben Sie eine Funktion *getRecommendations(prefs,person,similarity)*, mit der die Empfehlungswerte berechnet werden können und bestimmen Sie die Empfehlungswerte für Toby. Der Funktion wird  \n",
    "\n",
    "* das Dictionary _critics_ mit den Filmbewertungen, \n",
    "* der Name der Person, für welche Empfehlungen berechnet werden sollen\n",
    "* die Methode für die Berechnung der Ähnlichkeit *sim_euclid* oder *sim_pearson*\n",
    "\n",
    "übergeben. Die Methode soll eine geordnete Liste zurück geben. Jedes Listenelement enthält an erster Stelle den berechneten Empfehlungswert und an zweiter Stelle den Namen des Films. Die Liste soll nach Empfehlungswerten absteigend geordnet sein.\n",
    "\n",
    "Testen Sie diese Funktion indem Sie die Empfehlungen für _Toby_ berechnen und mit den Werten in der oben aufgeführten Tabelle vergleichen."
   ]
  },
  {
   "cell_type": "code",
   "execution_count": 16,
   "metadata": {},
   "outputs": [],
   "source": [
    "movies = [\"Lady in the Water\", \"Snakes on a Plane\", \"Just My Luck\", \"Superman Returns\", \"You, Me and Dupree\", \"The Night Listener\"]\n",
    "\n",
    "def getRecommendations(prefs, person, similarity):\n",
    "    recommendation_list = []\n",
    "\n",
    "    # Get similarity of person\n",
    "    pearson_persons = topMatches(prefs, person, similarity)\n",
    "\n",
    "    # Get Unseen Movies\n",
    "    unseen_movies_person = []\n",
    "    for movie in movies:\n",
    "        if movie not in prefs[person].keys():\n",
    "            unseen_movies_person.append(movie)\n",
    "\n",
    "    # Calculate for every movie\n",
    "    for movie in unseen_movies_person:\n",
    "        korrelation_sum = 0\n",
    "        korrelation_review_sum = 0\n",
    "        # Calculate for every person we want to compare\n",
    "        for compare_person, value in pearson_persons.items():\n",
    "            # person to unsimilar\n",
    "            if value == -1: \n",
    "                continue\n",
    "\n",
    "            # person did not watched movie\n",
    "            if movie not in prefs[compare_person].keys():\n",
    "                continue\n",
    "\n",
    "            korrelation_sum += value\n",
    "            korrelation_review_sum += value * prefs[compare_person][movie]\n",
    "\n",
    "        # Calculate recommendation value for current movie\n",
    "        recommendation_value = korrelation_review_sum / korrelation_sum\n",
    "        recommendation_list.append((recommendation_value, movie))\n",
    "\n",
    "    recommendation_list.sort(key=lambda tup: tup[0], reverse=True)\n",
    "    return recommendation_list"
   ]
  },
  {
   "cell_type": "code",
   "execution_count": 17,
   "metadata": {},
   "outputs": [
    {
     "name": "stdout",
     "output_type": "stream",
     "text": [
      "Film Vorschläge Pearson: [(3.3477895267131004, 'The Night Listener'), (2.832549918264161, 'Lady in the Water'), (2.530980703765564, 'Just My Luck')]\n",
      "Film Vorschläge Euklid: [(3.4273481378103887, 'The Night Listener'), (2.795737031164006, 'Lady in the Water'), (2.407392750287351, 'Just My Luck')]\n"
     ]
    }
   ],
   "source": [
    "print(\"Film Vorschläge Pearson:\", getRecommendations(critics, \"Toby\", sim_pearson))\n",
    "print(\"Film Vorschläge Euklid:\", getRecommendations(critics, \"Toby\", sim_euclid))"
   ]
  },
  {
   "cell_type": "markdown",
   "metadata": {},
   "source": [
    "### Berechnung von Empfehlungen mit Item basiertem Collaborative Filtering\n",
    "In den vorigen Aufgaben wurden Ähnlichkeiten zwischen Personen bestimmt und für Produktempfehlungen benutzt (User basiertes Collaborative Filtering). Jetzt soll die Ähnlichkeit zwischen Produkten berechnet werden und auf der Basis dieser Produktähnlichkeit Empfehlungen berechnet werden (Item basiertes Collaborative Filtering).\n",
    "\n",
    "Dabei sollen die bereits implementierten Ähnlichkeitsfunktion *sim_euclid* und *sim_pearson* sowie die Ähnlichkeeits-Sortierfunktion *topMatches* unverändert eingesetzt werden.\n",
    "\n",
    "__Aufgabe:__\n",
    "\n",
    "1. Implementieren Sie eine Funktion, welche das Bewertungsdictionary *critics* derart transformiert, dass die Funktionen `sim_euclid`, `sim_pearson` und `topMatches` für das Item-basierte CF unverändert eingesetzt werden können. Die transformierte Matrix soll unter dem Namen *transCritics* abgespeichert werden.\n",
    "2. Schreiben Sie eine Funktion `calculateSimilarItems`, die aus der transformierten Matrix *transCritics* ein Dictionary berechnet, welches die Ähnlichkeit zwischen allen Filmen beschreibt. Die Keys des Dictionary sind die Filmnamen. Die Values sind geordnete Listen, welche die Funktion `topMatches` zurückgibt, wenn sie für die Filme (nicht für die User) aufgerufen wird. Dieses Dictionary wird an das aufrufende Programm zurück geben. \n",
    "3. Schreiben Sie eine Funktion `getRecommendedItems`, welche basierend auf dem im unten aufgeführten Beispiel dargestellten Verfahren unter Vorgabe der Bewertungsmatrix und der zu verwendenden Ähnlichkeitsfunktion Produktempfehlungen berechnet.\n",
    "4. Testen Sie die Funktion indem Sie die Empfehlungen für Toby berechnen und mit den Werten in der unten aufgeführten Tabelle vergleichen\n",
    "\n",
    "__Erläuterndes Beispiel:__\n",
    "\n",
    "_Toby_ hat die Filme *The Night Listener*, *Lady in the Water* und *Just My Luck* noch nicht gekauft. Für diese Filme soll für *Toby* eine Empfehlung berechnet werden. Gekauft und bewertet hat *Toby* die Filme *Snakes on a plane*, *Superman Returns* und *You and me and Dupree*. Diese bereits vorhandenen Filme bilden die erste Spalte der unten dargestellten Matrix. In der zweiten Spalte befinden sich _Toby's_ Bewertungen dieser Filme. Die Spalten 3,5 und 7 enthalten die Ähnlichkeitswerte (mit *calculateSimilarItems* unter Verwendung des normierten euklidischen Ähnlichkeitsmaßes berechnet) zwischen den drei von *Toby* noch nicht gekauften Filmen und den drei von _Toby_ bewerteten Filmen. Diese Ähnlichkeitswerte werden jeweils mit _Toby's_ Bewertungen multipliziert. Das Resultat dieser Multiplikation befindet sich in den Spalten 4,6 und 8. Der finale Empfehlungswert für die von _Toby_ noch nicht gekauften Filme wird berechnet in dem in den Spalten 4,6 und 8 zunächst die Summe über die Werte dieser Spalte in den drei oberen Zeilen berechnet wird und durch die Summe über die Werte der Spalten 3,5 und 7 geteilt wird. Im Fall, dass die *Pearson-Korrelation* zwischen den Filmen als Ähnlichkeitswert herangezogen wird, können negative Ähnlichkeitswerte auftreten. Dann soll in die Berechnung eines Empfehlungswert für Film A nur dann die Bewertung von Film B einfließen, wenn der Korrelationswert zwischen beiden $>0$ ist.  \n",
    "\n",
    "\n",
    "<img src=\"https://maucher.home.hdm-stuttgart.de/Pics/recommenderFilmItemBased.PNG\" style=\"width:500px\" align=\"center\">\n"
   ]
  },
  {
   "cell_type": "code",
   "execution_count": 18,
   "metadata": {},
   "outputs": [
    {
     "name": "stdout",
     "output_type": "stream",
     "text": [
      "{'Lady in the Water': {'Lisa Rose': 2.5, 'Gene Seymour': 3.0, 'Michael Phillips': 2.5, 'Mick LaSalle': 3.0, 'Jack Matthews': 3.0}, 'Snakes on a Plane': {'Lisa Rose': 3.5, 'Gene Seymour': 3.5, 'Michael Phillips': 3.0, 'Claudia Puig': 3.5, 'Mick LaSalle': 4.0, 'Jack Matthews': 4.0, 'Toby': 4.5}, 'Just My Luck': {'Lisa Rose': 3.0, 'Gene Seymour': 1.5, 'Claudia Puig': 3.0, 'Mick LaSalle': 2.0}, 'Superman Returns': {'Lisa Rose': 3.5, 'Gene Seymour': 5.0, 'Michael Phillips': 3.5, 'Claudia Puig': 4.0, 'Mick LaSalle': 3.0, 'Jack Matthews': 5.0, 'Toby': 4.0}, 'You, Me and Dupree': {'Lisa Rose': 2.5, 'Gene Seymour': 3.5, 'Claudia Puig': 2.5, 'Mick LaSalle': 2.0, 'Jack Matthews': 3.5, 'Toby': 1.0}, 'The Night Listener': {'Lisa Rose': 3.0, 'Gene Seymour': 3.0, 'Michael Phillips': 4.0, 'Claudia Puig': 4.5, 'Mick LaSalle': 3.0, 'Jack Matthews': 3.0}}\n"
     ]
    }
   ],
   "source": [
    "import pandas as pd\n",
    "\n",
    "def transformCritics(prefs):\n",
    "    # Convert prefs to dataframe\n",
    "    prefs_data_frame = pd.DataFrame.from_dict(prefs)\n",
    "\n",
    "    # Remove all nans and switch axes so movies are index and people are columns\n",
    "    prefs_data_frame = prefs_data_frame.apply(lambda x : x.dropna().to_dict(), axis=1)\n",
    "    \n",
    "    # Return as dict\n",
    "    return prefs_data_frame.to_dict()\n",
    "\n",
    "trans_critics = transformCritics(critics)\n",
    "print(trans_critics)"
   ]
  },
  {
   "cell_type": "code",
   "execution_count": 19,
   "metadata": {},
   "outputs": [
    {
     "name": "stdout",
     "output_type": "stream",
     "text": [
      "Ähnliche Filme Euklid: {'Lady in the Water': {'Snakes on a Plane': 0.7277142573518672, 'Just My Luck': 0.615911621788925, 'Superman Returns': 0.6125741132772068, 'You, Me and Dupree': 0.7655876216850789, 'The Night Listener': 0.7597469266479578}, 'Snakes on a Plane': {'Lady in the Water': 0.7277142573518672, 'Just My Luck': 0.5784128280412532, 'Superman Returns': 0.7578982763068516, 'You, Me and Dupree': 0.5824585256498355, 'The Night Listener': 0.7387961250362586}, 'Just My Luck': {'Lady in the Water': 0.615911621788925, 'Snakes on a Plane': 0.5784128280412532, 'Superman Returns': 0.5123025255147889, 'You, Me and Dupree': 0.6534537935444722, 'The Night Listener': 0.6303969981288705}, 'Superman Returns': {'Lady in the Water': 0.6125741132772068, 'Snakes on a Plane': 0.7578982763068516, 'Just My Luck': 0.5123025255147889, 'You, Me and Dupree': 0.5874822290669, 'The Night Listener': 0.6697893816771064}, 'You, Me and Dupree': {'Lady in the Water': 0.7655876216850789, 'Snakes on a Plane': 0.5824585256498355, 'Just My Luck': 0.6534537935444722, 'Superman Returns': 0.5874822290669, 'The Night Listener': 0.6758660359334131}, 'The Night Listener': {'Lady in the Water': 0.7597469266479578, 'Snakes on a Plane': 0.7387961250362586, 'Just My Luck': 0.6303969981288705, 'Superman Returns': 0.6697893816771064, 'You, Me and Dupree': 0.6758660359334131}}\n",
      "\n",
      "Ähnliche Filme Pearson: {'Lady in the Water': {'Snakes on a Plane': 0.7277142573518672, 'Just My Luck': 0.615911621788925, 'Superman Returns': 0.6125741132772068, 'You, Me and Dupree': 0.7655876216850789, 'The Night Listener': 0.7597469266479578}, 'Snakes on a Plane': {'Lady in the Water': 0.7277142573518672, 'Just My Luck': 0.5784128280412532, 'Superman Returns': 0.7578982763068516, 'You, Me and Dupree': 0.5824585256498355, 'The Night Listener': 0.7387961250362586}, 'Just My Luck': {'Lady in the Water': 0.615911621788925, 'Snakes on a Plane': 0.5784128280412532, 'Superman Returns': 0.5123025255147889, 'You, Me and Dupree': 0.6534537935444722, 'The Night Listener': 0.6303969981288705}, 'Superman Returns': {'Lady in the Water': 0.6125741132772068, 'Snakes on a Plane': 0.7578982763068516, 'Just My Luck': 0.5123025255147889, 'You, Me and Dupree': 0.5874822290669, 'The Night Listener': 0.6697893816771064}, 'You, Me and Dupree': {'Lady in the Water': 0.7655876216850789, 'Snakes on a Plane': 0.5824585256498355, 'Just My Luck': 0.6534537935444722, 'Superman Returns': 0.5874822290669, 'The Night Listener': 0.6758660359334131}, 'The Night Listener': {'Lady in the Water': 0.7597469266479578, 'Snakes on a Plane': 0.7387961250362586, 'Just My Luck': 0.6303969981288705, 'Superman Returns': 0.6697893816771064, 'You, Me and Dupree': 0.6758660359334131}}\n"
     ]
    }
   ],
   "source": [
    "def calculateSimilarItems(prefs, similarity):\n",
    "    similar_items = {}\n",
    "    for movie in prefs:\n",
    "        similar_items[movie] = topMatches(prefs, movie, similarity)\n",
    "\n",
    "    return similar_items\n",
    "\n",
    "similar_items_euclid = calculateSimilarItems(trans_critics, sim_euclid)\n",
    "similar_items_pearson = calculateSimilarItems(trans_critics, sim_euclid)\n",
    "print(\"Ähnliche Filme Euklid:\", similar_items_euclid)\n",
    "print(\"\")\n",
    "print(\"Ähnliche Filme Pearson:\", similar_items_pearson)"
   ]
  },
  {
   "cell_type": "code",
   "execution_count": 20,
   "metadata": {},
   "outputs": [],
   "source": [
    "def getRecommendedItems(prefs, transprefs, person, similarity):\n",
    "    recommendation_list = []\n",
    "\n",
    "    # Get Unseen Movies\n",
    "    unseen_movies_person = []\n",
    "    for movie in movies:\n",
    "        if movie not in prefs[person].keys():\n",
    "            unseen_movies_person.append(movie)\n",
    "\n",
    "    for movie in unseen_movies_person:\n",
    "        korrelation_sum = 0\n",
    "        movie_similarity_sum = 0\n",
    "        current_movie_similarities = calculateSimilarItems(transprefs, similarity)[movie] \n",
    "\n",
    "        # Loop over all movies similarities\n",
    "        for current_movie, movie_similarity in current_movie_similarities.items():\n",
    "            # Movie similarity is negative so movie should not be included\n",
    "            if movie_similarity <= 0:\n",
    "                continue\n",
    "            \n",
    "            # Person did not watched movie\n",
    "            if current_movie not in prefs[person].keys():\n",
    "                continue\n",
    "\n",
    "            # Movie similarity * review of person, added to korrelation sum\n",
    "            korrelation_sum += movie_similarity * prefs[person][current_movie]\n",
    "            movie_similarity_sum += movie_similarity\n",
    "\n",
    "        # If movie completly not included (cause all values negative) movie_similarity_sum will be 0\n",
    "        if movie_similarity_sum != 0:\n",
    "            normalized_value = korrelation_sum / movie_similarity_sum\n",
    "            recommendation_list.append((normalized_value, movie))\n",
    "\n",
    "    recommendation_list.sort(key=lambda tup: tup[0], reverse=True)\n",
    "    return recommendation_list   "
   ]
  },
  {
   "cell_type": "code",
   "execution_count": 21,
   "metadata": {},
   "outputs": [
    {
     "name": "stdout",
     "output_type": "stream",
     "text": [
      "Vorgeschlagene Filme Toby Euklid: [(3.2044909601608804, 'The Night Listener'), (3.082136961799338, 'Lady in the Water'), (3.041861869079099, 'Just My Luck')]\n",
      "Vorgeschlagene Filme Toby Pearson: [(3.610031066802179, 'Lady in the Water')]\n"
     ]
    }
   ],
   "source": [
    "print(\"Vorgeschlagene Filme Toby Euklid:\", getRecommendedItems(critics, trans_critics, \"Toby\", sim_euclid))\n",
    "print(\"Vorgeschlagene Filme Toby Pearson:\", getRecommendedItems(critics, trans_critics, \"Toby\", sim_pearson))"
   ]
  },
  {
   "cell_type": "markdown",
   "metadata": {
    "slideshow": {
     "slide_type": "slide"
    }
   },
   "source": [
    "## last.fm Musikempfehlungen\n",
    "\n",
    "__Aufgabe:__\n",
    "\n",
    "1. Installieren Sie das Package pylast. Stellen Sie durch Aufruf der Funktion *network=pylast.LastFMNetwork()* eine Verbindung zu *last.fm* her. Beim Aufruf der Funktion wird die Anmeldung und Authentifizierung durchgeführt. Die Funktion gibt ein Objekt der Klasse *Network* zurück. Über dieses Objekt können Methoden, wie\n",
    "\n",
    "    * *get_artist(\"kuenstlerName\")* (liefert Objekt der Klasse *Artist*)\n",
    "    * *get_album(\"albumName\")* (liefert Objekt der Klasse *Album*)\n",
    "    * *get_track(\"songName\")* (liefert Objekt der Klasse *Track*)\n",
    "    * *get_user(\"userName\"):* (liefert Objekt der Klasse *Tag*)\n",
    "    * usw.\n",
    "    \n",
    "      aufgerufen werden. Die Menge aller verfügbaren Klassen und deren Attribute und Methoden können dem Modul _pylast.py_ entnommen werden.\n",
    "\n",
    "1. Rufen Sie über das oben instanziierte *Network*-Objekt die Methode `get_artist(\"BandIhrerWahl\")` auf.\n",
    "2. Rufen Sie über das oben instanziierte *Artist*-Objekt die Methode `topfans=get_top_fans(10)` auf. Die Methode gibt eine Liste von _User_-Objekt/Gewichtung-Paaren zurück. Die Gewichtungen von Objekten werden in diesem Versuch nicht benötigt. Legen Sie deshalb mit `group=[a.item for a in topfan]` eine Liste an, die nur noch die User Objekte enthält. **Wichtige Anmerkung:** Seit August 2015 gibt es Probleme mit der lastFM API Methode `get_top_fans()` (siehe auch: [pylast issues](https://github.com/pylast/pylast/issues/155s)). Falls am Versuchstermin der Fehler noch nicht behoben ist, können Sie den unten stehenden Code benutzen. Darin wird versucht auf die API-Methode zuzugreifen. Falls das nicht möglich ist, wird eine vordefinierte Liste von Usern angewandt. Diese Liste repräsentiert die *Top Fans* der Band *Slipknot* im Frühjahr 2015. \n",
    "3. Implementieren Sie eine Funktion `createLastfmUserDict()`. Dieser Funktion soll, die oben angelegte Liste von *User*-Objekten _group_ übergeben werden. Für jeden User in *group* sollen die 20 beliebtesten Bands mit der Methode `topartists=get_top_artists()[0:20]` bestimmt werden. Die Methode gibt eine Liste von *Artist*-Objekt/Gewichtung-Paaren zurück. Die Gewichtungen von Objekten werden in diesem Versuch nicht benötigt. Auf das *i.te* *Artist*-Objekt selbst kann mit `topartists[i].item` zugegriffen werden. Die Menge aller Bands, die auf diese Weise gesammelt werden, wird im folgenden mit _AllBands_ bezeichnet. D.h. in *AllBands* befinden sich alle Bands, die für mindestens einen User in *group* zu den Top-20 gehören. Nun soll ein verschachteltes Dictionary mit Namen *userDict* wie folgt angelegt werden:\n",
    "\n",
    "    * Die Keys sind die Namen der _User_-Objekte in _group_. Auf den Namen eines Objekts kann mit `get_name()` zugegriffen werden.\n",
    "    * Die Values sind selbst wieder Dictionaries, deren Keys die Namen der Bands in *AllBands* sind. Achten Sie auch hier darauf, dass Sie nicht das *Artist*-Objekt selbst, sondern dessen Namen als Key verwenden. \n",
    "    * Für den User *a* und die Band *b* ist der Value `userDict[a][b]= 1`, falls *b* zu den Top-20 des Users *a* gehört. Andernfalls ist `userDict[a][b]= 0`. \n",
    "    \n",
    "    Das derart angelegte Dictionary soll von der Funktion zurückgegeben werden. \n",
    "4. Wählen Sie jetzt einen beliebigen User aus *group*. Bestimmen Sie zu diesem User die ähnlichsten User in *group* durch Anwendung der im ersten Teilversuch implementierten Funktion `topMatches()`. Der Funktion wird das angelegte *userDict* und der Name des gewählten Users übergeben. Als Ähnlichkeitsmaß soll die euklidische Metrik angewandt werden.\n",
    "5. Bestimmen Sie dann für den gewählten User Band-Empfehlungen durch Anwendung der im ersten Teilversuch implementierten Funktion `getRecommendations()`. Der Funktion wird das angelegte *userDict* und der Name des gewählten Users übergeben. Als Ähnlichkeitsmaß soll die euklidische Metrik, danach die Russel_Rao Metrik, angewandt werden.     \n",
    "6. Diskutieren Sie das Ergebnis"
   ]
  },
  {
   "cell_type": "code",
   "execution_count": 22,
   "metadata": {},
   "outputs": [
    {
     "name": "stdout",
     "output_type": "stream",
     "text": [
      "Most similar (as calculated by lastFM) for artist:  Slipknot\n",
      "1.000 \t Stone Sour\n",
      "1.000 \t Korn\n",
      "0.700 \t System of a Down\n",
      "0.657 \t Mudvayne\n",
      "0.528 \t Corey Taylor\n",
      "\n",
      "lastFM API Error for method get_top_fans\n",
      "Apply predefined group of users\n"
     ]
    }
   ],
   "source": [
    "import pylast\n",
    "nw=pylast.LastFMNetwork(api_key = \"993a5bd9d79a98a53677570368d55acd\",api_secret = \"9b8de0b57903ac007cdd8ec9003b341e\",username = \"pythonlab\")\n",
    "band='Slipknot'\n",
    "art1 = nw.get_artist(band)\n",
    "print(\"Most similar (as calculated by lastFM) for artist: \",band)\n",
    "for it in art1.get_similar(5):\n",
    "    print(\"%3.3f \\t %s\"%(it.match, it.item))\n",
    "try:\n",
    "    topfan = art1.get_top_fans()\n",
    "    group = [a.item for a in topfan]\n",
    "except:\n",
    "    print(\"\\nlastFM API Error for method get_top_fans\\nApply predefined group of users\")\n",
    "    usernames=['BrunoJoS','DPREBOYE','MPistol40','NemoNightfall','SkyRif','Wags1382','Znapsen','cortapsyco','emill_67','sattuviitana']\n",
    "    group=[]\n",
    "    for u in usernames:\n",
    "        u1 = nw.get_user(u)\n",
    "        group.append(u1)"
   ]
  },
  {
   "cell_type": "markdown",
   "metadata": {},
   "source": [
    "### Extra"
   ]
  },
  {
   "cell_type": "code",
   "execution_count": 30,
   "metadata": {},
   "outputs": [],
   "source": [
    "import json\n",
    "\n",
    "with open('./persons.json', 'r') as f:\n",
    "  persons = json.load(f)"
   ]
  },
  {
   "cell_type": "code",
   "execution_count": null,
   "metadata": {},
   "outputs": [],
   "source": []
  }
 ],
 "metadata": {
  "kernelspec": {
   "display_name": "Python 3.10.6 ('datamining')",
   "language": "python",
   "name": "python3"
  },
  "language_info": {
   "codemirror_mode": {
    "name": "ipython",
    "version": 3
   },
   "file_extension": ".py",
   "mimetype": "text/x-python",
   "name": "python",
   "nbconvert_exporter": "python",
   "pygments_lexer": "ipython3",
   "version": "3.10.6"
  },
  "nav_menu": {},
  "toc": {
   "base_numbering": 1,
   "nav_menu": {},
   "number_sections": true,
   "sideBar": true,
   "skip_h1_title": false,
   "title_cell": "Table of Contents",
   "title_sidebar": "Contents",
   "toc_cell": false,
   "toc_position": {},
   "toc_section_display": "block",
   "toc_window_display": true
  },
  "toc_position": {
   "height": "664px",
   "left": "0px",
   "right": "1209.67px",
   "top": "125.333px",
   "width": "212px"
  },
  "vscode": {
   "interpreter": {
    "hash": "620f2470d13e5216a18b60aa3967f0f17e457ec09ee3fb1a32d38b82fb2b05a6"
   }
  }
 },
 "nbformat": 4,
 "nbformat_minor": 1
}

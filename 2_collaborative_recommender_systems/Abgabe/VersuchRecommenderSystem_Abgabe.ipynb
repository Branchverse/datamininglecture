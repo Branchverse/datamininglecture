{
 "cells": [
  {
   "cell_type": "markdown",
   "metadata": {},
   "source": [
    "<div style=\"color:#999999\">\n",
    "\n",
    "# Data Mining Versuch Recommender Systeme\n",
    "\n",
    "* Autor: Prof. Dr. Johannes Maucher\n",
    "* Datum: 30.09.2015\n",
    "\n",
    "# Einführung\n",
    "## Lernziele:\n",
    "In diesem Versuch sollen Kenntnisse in folgenden Themen vermittelt werden:\n",
    "\n",
    "* __Ähnlichkeit:__ Verfahren zur Bestimmung der Ähnlichkeit zwischen Personen (Kunden) und Elementen (Produkten)\n",
    "* __Empfehlungssysteme__ Collaborative Filtering \n",
    "* __Collaborative Filtering:__ Nutzerbezogener Ansatz und elementbasierter Ansatz\n",
    "\n",
    "Sämtliche Verfahren und Algorithmen werden in Python implementiert.\n",
    "\n",
    "## Theorie zur Vorbereitung\n",
    "### Recommender Systeme\n",
    "Recommender Systeme werden im E-Commerce eingesetzt um Werbung in Form von kundenspezifischen Empfehlungen zu verteilen. Weitläufig bekannt sind die Amazon-Empfehlungen, die entweder per e-mail geschickt oder nach dem Log-In in der Web-Page angezeigt werden. Diese Empfehlungen werden in Abhängigkeit von den bisher vom jeweiligen Kunden gekauften bzw. bewerteten Produkten erstellt. In diesem Versuch werden die derzeit wohl am weitest verbreiteteten Verfahren für die Erzeugung kundenspezifischer Empfehlungen vorgestellt, darunter das elementweise Collaborative Filtering, welches z.B. auch von Amazon eingesetzt wird.     \n",
    "\n",
    "Direkt-Marketing Methoden wie die kundenspezifische Erzeugung und Bereitstellung von Werbung erfordern detaillierte Kunden- und Warenkorbanalysen. Kunden mit ähnlichem Kaufverhalten werden in Kundengruppen zusammengefasst. Die Warenkorbanalyse untersucht u.a. welche Waren bevorzugt im Verbund von der gleichen Person gekauft werden. Damit kann ein Händler Werbung in Form von Empfehlungen individuell und gezielt an seine Kunden richten, abhängig davon welcher Kundengruppe er angehört und welche Produkte bevorzugt von dieser Kundengruppe nachgefragt werden. \n",
    "\n",
    "Im ersten Teil der Übung werden fiktive Daten in einer überschaubaren Menge verwendet. Es handelt sich hier um Filmbewertungen. Anhand dieses Beispiels sollen die notwendigen Methoden und Abläufe implementiert und getestet werden. Diese werden im zweiten Teil der Übung auf echte Daten angewandt. Hierzu werden über eine Python-API Daten vom Internet-Meta-Radio _last.fm_ integriert. Auf der Basis dieser Daten sollen dann Musikempfehlungen für last.fm User berechnet werden. \n",
    "\n",
    "Recommender Systeme lassen sich mit\n",
    "\n",
    "* Clustering Verfahren\n",
    "* Suchalgorithmen\n",
    "* Collaborativen Filtering \n",
    " \n",
    "realisieren. Am häufigsten wird hierbei das Collaborative Filtering eingesetzt. Für das Collaborative Filtering wird jeder der $M$ User durch einen $N$-dimensionalen Vektor beschrieben, wobei $N$ die Anzahl der Produkte im Angebot des Händlers ist. Jedes Element im Vektor gehört zu einem speziellen Produkt. Das Element hat den Wert 1, wenn der User dieses Produkt bereits gekauft hat, sonst 0 (andere Wertbelegungen sind möglich, z.B. wenn Produktbewertungen vorliegen). Alle $M$ Zeilenvektoren können zur _User/Item_ Matrix zusammengefasst werden (siehe Abbildung).\n",
    "\n",
    "\n",
    "<img src=\"https://maucher.home.hdm-stuttgart.de/Pics/UserItemMatrix.png\" style=\"width:500px\" align=\"center\">"
   ]
  },
  {
   "cell_type": "markdown",
   "metadata": {},
   "source": [
    "<div style=\"color:#999999\">\n",
    "Das traditionelle **userbasierte Collaborative Filtering (UCF)**, benutzt die Ähnlichkeit zwischen Benutzern: Um für User $U_i$ eine Empfehlung zu erzeugen wird zunächst der diesem User ähnlichste Kunde (oder eine Menge vom ähnlichsten Kunden) ermittelt. Dann werden $U_i$ die Produkte (Items) empfohlen, welche der ähnlichste Kunde gekauft hat, $U_i$ selbst jedoch noch nicht. \n",
    "\n",
    "Dieser Ansatz skaliert schlecht im Fall sehr großer *User/Item*-Matrizen. Ausserdem ist er für User, welche erst wenige Produkte gekauft haben unzuverlässig. Besser eignet sich in diesen Fällen das **itembasierte Collaborative Filtering (ICF)**. Es wird u.a. von Amazon.com eingesetzt. Diese Variante benutzt die Ähnlichkeit zwischen Produkten (Items). Dabei sind Produkte umso ähnlicher je mehr Kunden diese Produkte gemeinsam gekauft haben. Für die Produkte welche ein Referenzuser $U_i$ bereits gekauft hat, werden die ähnlichsten Produkte ermittelt. Diese ähnlichsten Produkte werden $U_i$ empfohlen, wenn er sie nicht schon selbst gekauft hat.\n",
    "\n",
    "Im folgenden Abschnitt werden einige gebräuchliche Metriken für die Berechnung der Ähnlichkeit zwischen Benutzern oder Artikeln vorgestellt. Für Collaboratives Filtering wird sehr häufig das Cosinus - Ähnlichkeitsmaß eingesetzt.\n"
   ]
  },
  {
   "cell_type": "markdown",
   "metadata": {},
   "source": [
    "<div style=\"color:#999999\">\n",
    "\n",
    "### Gebräuchliche Ähnlichkeitsmaße\n",
    "\n",
    "Die __euklidische Distanz__ $d_E(\\underline{a},\\underline{b})$ zwischen zwei n-dimensionalen Vektoren $\\underline{a}=(a_1,\\ldots,a_n)$ und $\\underline{b}=(b_1,\\ldots,b_n)$ berechnet sich zu\n",
    "\t$$\n",
    "\td_E(\\underline{a},\\underline{b})=\\sqrt{\\sum_{i=1}^n (a_i-b_i)^2}\n",
    "\t$$\n",
    "Zwei Vektoren können als umso ähnlicher erachtet werden, je kleiner deren euklidische Distanz ist. \n",
    "Ein auf der euklidischen Metrik basierendes Ähnlichkeitsmaß zwischen zwei Vektoren $\\underline{a}$ und $\\underline{b}$ kann durch \n",
    "$$\n",
    "s_E(\\underline{a},\\underline{b})=\\frac{1}{1+d_E(\\underline{a},\\underline{b})}\n",
    "$$\n",
    "angegeben werden.\n",
    "\n",
    "\n",
    "__Pearson Korrelation__\n",
    "Die Ähnlichkeit zwischen zwei Vektoren kann auch durch den Pearson-Korrelationskoeffizient $\\rho_{\\underline{a},\\underline{b}}$ ausgedrückt werden. Er berechnet sich zu\n",
    "$$\n",
    "\\rho_{\\underline{a},\\underline{b}}= \\frac{1}{N}\\cdot \\sum\\limits_{i=1}^{N}\\frac{(a_i-\\overline{a})}{\\sigma_a} \\frac{(b_i-\\overline{b})}{\\sigma_b}\n",
    "$$\n",
    "Dabei bezeichnet $N$ die Länge der Vektoren, $\\overline{a}$ den Mittelwert und $\\sigma_a$ die Standardabweichung des Vektors $\\underline{a}$. \n",
    "\n",
    "Der Pearson-Korrelationskoeffizient misst die lineare Abhängigkeit zwischen zwei Vektoren. Der maximale Wert von $+1$ wird erreicht, wenn die durch die beiden Vektoren definierten N Punkte im 2-dimensionalen Raum auf einer ansteigenden Geraden liegen. Der Minimalwert von $-1$ wird erreicht, wenn die Punkte auf einer abfallenden Geraden liegen. Der Betrag des Koeffizienten ist umso kleiner, je stärker die Punkte von einer fiktiven Geraden (kann durch lineare Regression berechnet werden) abweichen. Der Koeffizient ist $0$ wenn keine lineare Abhängigkeit zwischen den Vektoren besteht.\n",
    "\n",
    "\n",
    "__Cosinus Ähnlichkeitsmaß__\n",
    "Die Ähnlichkeit zwischen zwei Vektoren kann auch durch den Cosinus $\\cos(\\underline{a},\\underline{b})$ ausgedrückt werden. Er berechnet sich zu\n",
    "$$\n",
    "\\cos(\\underline{a},\\underline{b})= \\frac{\\underline{a} \\cdot \\underline{b}}{\\left\\|\\underline{a}\\right\\|\\cdot \\left\\|\\underline{b}\\right\\|}\n",
    "$$\n",
    "wobei im Zähler das Skalarprodukt der beiden Vektoren steht und mit $\\left\\|\\underline{x}\\right\\|$ der Betrag des Vektors $\\underline{x}$ bezeichnet wird.\n",
    "\n",
    "Falls die Vektoren $\\underline{a}$ und $\\underline{b}$ mittelwertfrei sind, ist der Cosinus-Ähnlichkeitswert gleich dem Pearson-Korrelationswert. In der Dokument- und Textanalyse wird vornehmlich das Cosinus-Ähnlichkeitsmaß verwendet. \n",
    "\n",
    "\n",
    "__Russel Rao Ähnlichkeitsmaß__\n",
    "Die Russel Rao-Ähnlichkeit zwischen zwei binären Vektoren $\\underline{a}$ und $\\underline{b}$ mißt das Verhältnis zwischen der Anzahl $\\alpha$ der Stellen in denen beide Vektoren den Wert 1 haben und der Länge $n$ der Vektoren. Z.B. ist für die Vektoren $\\underline{a}=(1,0,1,0,0,1)$ und $\\underline{b}=(0,1,1,1,0,1)$ die Russel-Rao-Ähnlichkeit $s_{RR}(\\underline{a},\\underline{b})=2/6=0.333$.\n",
    "\n",
    "__Jaccard Ähnlichkeitsmaß__\n",
    "Die Jaccard-Ähnlichkeit zwischen zwei binären Vektoren $\\underline{a}$ und $\\underline{b}$ mißt das Verhältnis zwischen der Anzahl $\\alpha$ der Stellen in denen beide Vektoren den Wert $1$ haben und der Anzahl der Stellen in denen mindestens einer der beiden Vektoren ungleich $0$ ist. Z.B. ist für die Vektoren $\\underline{a}=(1,0,1,0,0,1)$ und $\\underline{b}=(0,1,1,1,0,1)$ die Jaccard-Ähnlichkeit $s_{J}(\\underline{a},\\underline{b})=2/5=0.4$. Die Jaccard Metrik wird in diesem Versuch für die Bestimmung der Ähnlichkeit von *last.fm*-Usern eingesetzt.\n"
   ]
  },
  {
   "cell_type": "markdown",
   "metadata": {},
   "source": [
    "<div style=\"color:#999999\">\n",
    "\n",
    "## Vor dem Versuch zu klärende Fragen\n",
    "Eine Untermenge der im Folgenden aufgeführten Fragen wird zu Beginn des Versuchs im Rahmen eines Gruppenkolloqs abgefragt. Auf jede Frage sollte von mindestens einem Gruppenmitglied eine Antwort geliefert werden und jedes Gruppenmitglied muss mindestens eine der gestellten Fragen beantworten können.\n",
    "\n",
    "**Aufgaben:**\n",
    "\n",
    "* Beschreiben Sie das Prinzip des userbasierten Collaborativen Filtering (UCF)."
   ]
  },
  {
   "cell_type": "markdown",
   "metadata": {},
   "source": [
    "**Collaborativen Filtering**\n",
    "\n",
    "Generell ist es beim Collaborativen Filtering so, dass man zu jedem Nutzer speichert, ob er ein Item bereits gekauft hat. Jeder Nutzer hat somit einen Vektor der so viele dimensionen hat, wie die angeboten Items. Wenn er ein Item gekauft hat steht dafür eine 1, wenn nicht eine 0. Diese Nutzer-Vektoren kann man mit den anderen Nutzer-Vektoren verknüpfen und zu einer Matrix zusammenfassen.\n",
    "\n",
    "**Userbasierten Collaborativen Filtering**\n",
    "\n",
    "Beim userbasierten Collaborativen Filtering nutzt man diese Nutzer-Vektoren, um Produkt-Empfehlungen zu berechnen. Dabei wird von einem Nutzer n1 der Nutzer-Vektor genommen und geschaut welcher Nutzer n2 den ähnlichsten Nutzer-Vektor hat. Dann werden dem Nutzer n1 die Produkte vorgeschlagen, die er selbst nicht, aber der Nutzer n2 schon gekauft hat."
   ]
  },
  {
   "cell_type": "markdown",
   "metadata": {},
   "source": [
    "<div style=\"color:#999999\">\n",
    "\n",
    "* Welche Nachteile hat das UCF?"
   ]
  },
  {
   "cell_type": "markdown",
   "metadata": {},
   "source": [
    "**Nachteile UCF**\n",
    "1. Je größer die Matrix aus Nutzer-Vektoren wird, desto länger dauert es einen ähnlichen Nutzer zu finden. Wenn diese Matrix zu groß wird, dauert der Suchvorgang einfach zu lange.\n",
    "2. Wenn ein Nutzer noch zu wenig Produkte gekauft hat, kann man eine schlechtere Vorhersage treffen, weil es dann zu viele ähnlichen Nutzer gibt, die auch sehr unterschiedliche Produkte gekauft haben können."
   ]
  },
  {
   "cell_type": "markdown",
   "metadata": {},
   "source": [
    "<div style=\"color:#999999\">\n",
    "\n",
    "* Worin besteht der Unterschied zwischen UCF und itembasierten Collaborativen Filtering (ICF)?"
   ]
  },
  {
   "cell_type": "markdown",
   "metadata": {},
   "source": [
    "**Unterschied**\n",
    "\n",
    "Man entscheidet nicht anhand des ähnlichsten Nutzers, sondern anhand von ähnlichen Produkten zu einem Produkt die der Nutzer bereits gekauft hat.\n",
    "\n",
    "**Itembasierten Collaborativen Filtering**\n",
    "\n",
    "Je mehr Kunden die gleichen gemeinsamen Produkte gekauft haben, desto ähnlicher sind diese Produkte sich. Wenn man dann entscheiden möchte welches Produkt vorgeschlagen wird, bestimmt man die ähnlichsten Produkte, die der Nutzer noch nicht gekauft hat. \n",
    "\n",
    "Dieses Vorgehen wird von Amazon benutzt und die Ergebnisse sieht man dort bei \"Kunden, die ... kauften, kauften auch ...\".\n",
    "\n",
    "Quelle: https://www.dogan-ucar.de/item-based-collaborative-filtering/"
   ]
  },
  {
   "cell_type": "markdown",
   "metadata": {},
   "source": [
    "<div style=\"color:#999999\">\n",
    "\n",
    "* Gegeben seien die Vektoren \n",
    "\n",
    "    \\begin{eqnarray*}\n",
    "    \\underline{a} & = & [1,2,3,4,5,6] \\\\\n",
    "    \\underline{b} & = & [3,3,5,6,7,8] \\\\\n",
    "    \\end{eqnarray*}\n",
    "    \n",
    "    Schreiben Sie eine Python Funktion, die den Mittelwert derartiger Vektoren berechnet. Schreiben Sie eine weitere Funktion, die die Varianz berechnet"
   ]
  },
  {
   "cell_type": "code",
   "execution_count": 56,
   "metadata": {},
   "outputs": [
    {
     "name": "stdout",
     "output_type": "stream",
     "text": [
      "Mittelwert a: 3.5\n",
      "Mittelwert b: 5.333333333333333\n",
      "Varianz a: 2.9166666666666665\n",
      "Varianz b: 3.5555555555555554\n"
     ]
    }
   ],
   "source": [
    "a = [1, 2, 3, 4, 5, 6]\n",
    "b = [3, 3, 5, 6, 7, 8]\n",
    "\n",
    "# Mittelwert\n",
    "def calculateMean(list):\n",
    "    sum = 0\n",
    "    for item in list:\n",
    "        sum += item\n",
    "    return sum / len(list)\n",
    "\n",
    "mean_a = calculateMean(a)\n",
    "mean_b = calculateMean(b)\n",
    "\n",
    "print(\"Mittelwert a:\", mean_a)\n",
    "print(\"Mittelwert b:\", mean_b)\n",
    "\n",
    "# Varianz\n",
    "def calculateVariance(list):\n",
    "    sum = 0\n",
    "    mean = calculateMean(list)\n",
    "    for item in list:\n",
    "        deviation = item - mean\n",
    "        deviation_quadratic = deviation**2\n",
    "        sum += deviation_quadratic\n",
    "    return sum / (len(list)) # len(list) - 1 if it was a sample\n",
    "\n",
    "variance_a = calculateVariance(a)\n",
    "variance_b = calculateVariance(b)\n",
    "\n",
    "print(\"Varianz a:\", variance_a)\n",
    "print(\"Varianz b:\", variance_b)"
   ]
  },
  {
   "cell_type": "markdown",
   "metadata": {},
   "source": [
    "Wichtig ist hier, dass man nicht durch n - 1 teilt. Das wäre für samples, wir haben hier aber eine Population, da der ganze Vektor bekannt ist."
   ]
  },
  {
   "cell_type": "code",
   "execution_count": 55,
   "metadata": {},
   "outputs": [
    {
     "name": "stdout",
     "output_type": "stream",
     "text": [
      "Mittelwert a: 3.5\n",
      "Mittelwert b: 5.333333333333333\n",
      "Varianz a: 2.9166666666666665\n",
      "Varianz b: 3.5555555555555554\n"
     ]
    }
   ],
   "source": [
    "# Alternatively with package\n",
    "import numpy as np\n",
    "print(\"Mittelwert a:\", np.mean(a))\n",
    "print(\"Mittelwert b:\", np.mean(b))\n",
    "print(\"Varianz a:\", np.var(a))\n",
    "print(\"Varianz b:\", np.var(b))"
   ]
  },
  {
   "cell_type": "markdown",
   "metadata": {},
   "source": [
    "<div style=\"color:#999999\">\n",
    "\n",
    "* Wie groß ist die\n",
    "\n",
    "    - Euklidische Ähnlichkeit\n",
    "    - Pearson Ähnlichkeit\n",
    "    - Cosinus Ähnlichkeit\n",
    "    \n",
    "    zwischen den Vektoren $\\underline{a}$ und $\\underline{b}$? "
   ]
  },
  {
   "cell_type": "code",
   "execution_count": 61,
   "metadata": {},
   "outputs": [
    {
     "name": "stdout",
     "output_type": "stream",
     "text": [
      "Euklidische Distanz: 4.58257569495584\n"
     ]
    }
   ],
   "source": [
    "# Euklidische Distanz\n",
    "def calculate_euclidean_distance(a, b):\n",
    "    sum = 0\n",
    "    for i in range(len(a)):\n",
    "        difference = a[i] - b[i]\n",
    "        difference_quadratic = difference**2\n",
    "        sum += difference_quadratic\n",
    "    return sum**0.5\n",
    "\n",
    "print(\"Euklidische Distanz:\", calculate_euclidean_distance(a, b))"
   ]
  },
  {
   "cell_type": "code",
   "execution_count": 62,
   "metadata": {},
   "outputs": [
    {
     "name": "stdout",
     "output_type": "stream",
     "text": [
      "Euklidische Distanz: 4.58257569495584\n",
      "Euklidische Ähnlichkeit Metrik: 0.179128784747792\n"
     ]
    }
   ],
   "source": [
    "# Euklidische Ähnlichkeit - mit package\n",
    "from scipy.spatial import distance\n",
    "\n",
    "euclidean_similarity = distance.euclidean(a, b)\n",
    "print(\"Euklidische Distanz:\", euclidean_similarity)\n",
    "\n",
    "# Euklidische Ähnlichkeit Metrik\n",
    "euclidean_similarity_metric = 1 / (1 + euclidean_similarity)\n",
    "print(\"Euklidische Ähnlichkeit Metrik:\", euclidean_similarity_metric)"
   ]
  },
  {
   "cell_type": "code",
   "execution_count": 25,
   "metadata": {},
   "outputs": [
    {
     "name": "stdout",
     "output_type": "stream",
     "text": [
      "Pearson Ähnlichkeit: 0.9833434220628547\n"
     ]
    }
   ],
   "source": [
    "import statistics\n",
    "\n",
    "std_a = statistics.pstdev(a)\n",
    "std_b = statistics.pstdev(b)\n",
    "\n",
    "def calculate_pearson_correleation(a, b):\n",
    "    sum = 0\n",
    "    len_vector = len(a)\n",
    "    for i in range(len_vector):\n",
    "        diff_a = a[i] - mean_a\n",
    "        diff_b = b[i] - mean_b\n",
    "        first = diff_a / std_a\n",
    "        second = diff_b / std_b\n",
    "        sum += first * second\n",
    "\n",
    "    return sum * (1 / len_vector)\n",
    "\n",
    "print(\"Pearson Ähnlichkeit:\", calculate_pearson_correleation(a, b))"
   ]
  },
  {
   "cell_type": "code",
   "execution_count": 26,
   "metadata": {},
   "outputs": [
    {
     "name": "stdout",
     "output_type": "stream",
     "text": [
      "Pearson Ähnlichkeit: 0.9833434220628547\n"
     ]
    }
   ],
   "source": [
    "# Pearson Ähnlichkeit\n",
    "from scipy import stats\n",
    "\n",
    "pearson_correlation, _ = stats.pearsonr(a, b)\n",
    "print(\"Pearson Ähnlichkeit:\", pearson_correlation)"
   ]
  },
  {
   "cell_type": "code",
   "execution_count": 27,
   "metadata": {},
   "outputs": [
    {
     "name": "stdout",
     "output_type": "stream",
     "text": [
      "Cosinus Ähnlichkeit: 0.991060084745164\n"
     ]
    }
   ],
   "source": [
    "# Cosinus Ähnlichkeit\n",
    "import numpy as np\n",
    "\n",
    "a = np.array(a)\n",
    "b = np.array(b)\n",
    "\n",
    "cosine_similarity = np.dot(a, b) / (np.linalg.norm(a) * np.linalg.norm(b))\n",
    "\n",
    "print(\"Cosinus Ähnlichkeit:\", cosine_similarity)"
   ]
  },
  {
   "cell_type": "markdown",
   "metadata": {},
   "source": [
    "<div style=\"color:#999999\">\n",
    "\n",
    "* In welchen Fällen sind Cosinus- und Pearsonähnlichkeit der euklidischen Ähnlichkeit vorzuziehen?"
   ]
  },
  {
   "cell_type": "markdown",
   "metadata": {},
   "source": [
    "Bei der Cosinusdistanz wird der Winkel zwischen den Vektoren gemessen, bei der Eukliden die absolute Distanz. Die Cosinusdistanz ist hilfreich zum Beispiel bei Bewertungen(Absolute Werte) oder Nutzerdaten. Hierbei kann es nämlich Nutzer geben die Produkte generell ähnlich bewerten (z.B User 1: (Film 1: 3, Film 2: 2) und User 2: (Film 1: 5 Film 2: 4)), aber eine andere Skala verwenden. Dabei möchte man diese beiden Nutzer als ähnlich betrachten. Bei der absoluten Distanz wären User 1 und User 2 aber sehr verschieden, während sie sich bei der Cosinusdistanz ähneln. Daher zieht man dann die Cosinus- oder Pearsonähnlichkeit vor. In 2D macht euklidische Distanz Sinn. Im hochdimensionalen Raum ist das nicht unbedingt der kürzeste Weg."
   ]
  },
  {
   "cell_type": "code",
   "execution_count": 63,
   "metadata": {},
   "outputs": [],
   "source": [
    "from IPython.display import Latex\n",
    "from IPython.display import Image\n",
    "import pylast"
   ]
  },
  {
   "cell_type": "markdown",
   "metadata": {},
   "source": [
    "<div style=\"color:#999999\">\n",
    "\n",
    "# Versuchsdurchführung\n",
    "## Teil 1: Fiktive Filmbewertung\n",
    "### Daten\n",
    "Folgende Tabelle enthält die Filmbewertungen von 7 Personen.\n",
    "from IPython.display import Latex\n",
    "In diesem Versuch sollen Kenntnisse in folgenden Themen vermittelt werden:\n",
    "\n",
    "\n",
    "<img src=\"https://maucher.home.hdm-stuttgart.de/Pics/recommenderFilmRecommendations.PNG\" style=\"width:500px\" align=\"center\">\n",
    "\n"
   ]
  },
  {
   "cell_type": "markdown",
   "metadata": {},
   "source": [
    "<div style=\"color:#999999\">\n",
    "\n",
    "Die Tabelle ist als Python dictionary _critics_ implementiert. Die Keys des Python-Dictionary definieren die Namen von Personen (Zeilen in der Matrix), die Filme bewertet haben. Die Values sind selbst wieder Dictionarys, welche als Keys die Filmnamen (Spalten in der Matrix) und als Values die jeweilige Filmbewertung (Matrixelment) enthalten."
   ]
  },
  {
   "cell_type": "code",
   "execution_count": 29,
   "metadata": {},
   "outputs": [],
   "source": [
    "critics={'Lisa Rose': {'Lady in the Water': 2.5, 'Snakes on a Plane': 3.5,\n",
    " 'Just My Luck': 3.0, 'Superman Returns': 3.5, 'You, Me and Dupree': 2.5, \n",
    " 'The Night Listener': 3.0},\n",
    "'Gene Seymour': {'Lady in the Water': 3.0, 'Snakes on a Plane': 3.5, \n",
    " 'Just My Luck': 1.5, 'Superman Returns': 5.0, 'The Night Listener': 3.0, \n",
    " 'You, Me and Dupree': 3.5}, \n",
    "'Michael Phillips': {'Lady in the Water': 2.5, 'Snakes on a Plane': 3.0,\n",
    " 'Superman Returns': 3.5, 'The Night Listener': 4.0},\n",
    "'Claudia Puig': {'Snakes on a Plane': 3.5, 'Just My Luck': 3.0,\n",
    " 'The Night Listener': 4.5, 'Superman Returns': 4.0, \n",
    " 'You, Me and Dupree': 2.5},\n",
    "'Mick LaSalle': {'Lady in the Water': 3.0, 'Snakes on a Plane': 4.0, \n",
    " 'Just My Luck': 2.0, 'Superman Returns': 3.0, 'The Night Listener': 3.0,\n",
    " 'You, Me and Dupree': 2.0}, \n",
    "'Jack Matthews': {'Lady in the Water': 3.0, 'Snakes on a Plane': 4.0,\n",
    " 'The Night Listener': 3.0, 'Superman Returns': 5.0, 'You, Me and Dupree': 3.5},\n",
    "'Toby': {'Snakes on a Plane':4.5,'You, Me and Dupree':1.0,'Superman Returns':4.0}\n",
    "}"
   ]
  },
  {
   "cell_type": "markdown",
   "metadata": {},
   "source": [
    "<div style=\"color:#999999\">\n",
    "\n",
    "### Ähnlichkeiten berechnen\n",
    "\n",
    "Für die Bestimmung der Ähnlichkeit zwischen Personen und Produkten werden in diesem Versuch ein auf der euklidischen Distanz basierendes Ähnlichkeitsmaß und die Pearson-Korrelation verwendet. Beide Ähnlichkeitsmaße sind in den unten definierten Funktionen implementiert. Alle drei hier implementierten Funktionen zur Berechnung der Ähnlichkeit erhalten als Übergabeparameter das oben definierte Dictionary, das die Filmbewertungen enthält und die Namen der zwei Personen, die verglichen werden sollen. \n",
    "\n",
    "Zu beachten ist, dass in beiden Funktionen für die Berechnung der Ähnlichkeit zwischen zwei Personen nur die Produkte berücksichtigt werden, welche von beiden Personen schon bewertet wurden. Es handelt sich hier also um modifizierte Ähnlichkeitsfunktionen. \n",
    "\n",
    "__Aufgabe:__\n",
    "Fragen Sie von diesem Dictionary _Toby's_ Bewertung des Films _Snakes on a Plane_ ab und geben Sie diesen Wert aus: "
   ]
  },
  {
   "cell_type": "code",
   "execution_count": 74,
   "metadata": {},
   "outputs": [
    {
     "name": "stdout",
     "output_type": "stream",
     "text": [
      "Tobys Bewertung für 'Snakes on a Plane':  4.5\n"
     ]
    },
    {
     "data": {
      "text/html": [
       "<div>\n",
       "<style scoped>\n",
       "    .dataframe tbody tr th:only-of-type {\n",
       "        vertical-align: middle;\n",
       "    }\n",
       "\n",
       "    .dataframe tbody tr th {\n",
       "        vertical-align: top;\n",
       "    }\n",
       "\n",
       "    .dataframe thead th {\n",
       "        text-align: right;\n",
       "    }\n",
       "</style>\n",
       "<table border=\"1\" class=\"dataframe\">\n",
       "  <thead>\n",
       "    <tr style=\"text-align: right;\">\n",
       "      <th></th>\n",
       "      <th>Lisa Rose</th>\n",
       "      <th>Gene Seymour</th>\n",
       "      <th>Michael Phillips</th>\n",
       "      <th>Claudia Puig</th>\n",
       "      <th>Mick LaSalle</th>\n",
       "      <th>Jack Matthews</th>\n",
       "      <th>Toby</th>\n",
       "    </tr>\n",
       "  </thead>\n",
       "  <tbody>\n",
       "    <tr>\n",
       "      <th>Lady in the Water</th>\n",
       "      <td>2.5</td>\n",
       "      <td>3.0</td>\n",
       "      <td>2.5</td>\n",
       "      <td>NaN</td>\n",
       "      <td>3.0</td>\n",
       "      <td>3.0</td>\n",
       "      <td>NaN</td>\n",
       "    </tr>\n",
       "    <tr>\n",
       "      <th>Snakes on a Plane</th>\n",
       "      <td>3.5</td>\n",
       "      <td>3.5</td>\n",
       "      <td>3.0</td>\n",
       "      <td>3.5</td>\n",
       "      <td>4.0</td>\n",
       "      <td>4.0</td>\n",
       "      <td>4.5</td>\n",
       "    </tr>\n",
       "    <tr>\n",
       "      <th>Just My Luck</th>\n",
       "      <td>3.0</td>\n",
       "      <td>1.5</td>\n",
       "      <td>NaN</td>\n",
       "      <td>3.0</td>\n",
       "      <td>2.0</td>\n",
       "      <td>NaN</td>\n",
       "      <td>NaN</td>\n",
       "    </tr>\n",
       "    <tr>\n",
       "      <th>Superman Returns</th>\n",
       "      <td>3.5</td>\n",
       "      <td>5.0</td>\n",
       "      <td>3.5</td>\n",
       "      <td>4.0</td>\n",
       "      <td>3.0</td>\n",
       "      <td>5.0</td>\n",
       "      <td>4.0</td>\n",
       "    </tr>\n",
       "    <tr>\n",
       "      <th>You, Me and Dupree</th>\n",
       "      <td>2.5</td>\n",
       "      <td>3.5</td>\n",
       "      <td>NaN</td>\n",
       "      <td>2.5</td>\n",
       "      <td>2.0</td>\n",
       "      <td>3.5</td>\n",
       "      <td>1.0</td>\n",
       "    </tr>\n",
       "    <tr>\n",
       "      <th>The Night Listener</th>\n",
       "      <td>3.0</td>\n",
       "      <td>3.0</td>\n",
       "      <td>4.0</td>\n",
       "      <td>4.5</td>\n",
       "      <td>3.0</td>\n",
       "      <td>3.0</td>\n",
       "      <td>NaN</td>\n",
       "    </tr>\n",
       "  </tbody>\n",
       "</table>\n",
       "</div>"
      ],
      "text/plain": [
       "                    Lisa Rose  Gene Seymour  Michael Phillips  Claudia Puig  \\\n",
       "Lady in the Water         2.5           3.0               2.5           NaN   \n",
       "Snakes on a Plane         3.5           3.5               3.0           3.5   \n",
       "Just My Luck              3.0           1.5               NaN           3.0   \n",
       "Superman Returns          3.5           5.0               3.5           4.0   \n",
       "You, Me and Dupree        2.5           3.5               NaN           2.5   \n",
       "The Night Listener        3.0           3.0               4.0           4.5   \n",
       "\n",
       "                    Mick LaSalle  Jack Matthews  Toby  \n",
       "Lady in the Water            3.0            3.0   NaN  \n",
       "Snakes on a Plane            4.0            4.0   4.5  \n",
       "Just My Luck                 2.0            NaN   NaN  \n",
       "Superman Returns             3.0            5.0   4.0  \n",
       "You, Me and Dupree           2.0            3.5   1.0  \n",
       "The Night Listener           3.0            3.0   NaN  "
      ]
     },
     "metadata": {},
     "output_type": "display_data"
    }
   ],
   "source": [
    "import pandas as pd\n",
    "print(\"Tobys Bewertung für 'Snakes on a Plane': \", critics.get(\"Toby\").get(\"Snakes on a Plane\"))\n",
    "display(pd.DataFrame.from_dict(critics))"
   ]
  },
  {
   "cell_type": "code",
   "execution_count": 31,
   "metadata": {},
   "outputs": [],
   "source": [
    "import numpy as np\n",
    "import scipy.spatial.distance as sci\n",
    "\n",
    "\n",
    "def sim_euclid(prefs,person1,person2,normed=True):\n",
    "    ''' Returns a euclidean-distance-based similarity score for \n",
    "    person1 and person2. In the distance calculation the sum is computed \n",
    "    only over those items, which are nonzero for both instances, i.e. only\n",
    "    films which are ranked by both persons are regarded.\n",
    "    If the parameter normed is True, then the euclidean distance is divided by\n",
    "    the number of non-zero elements integrated in the distance calculation. Thus\n",
    "    the effect of larger distances in the case of an increasing number of commonly ranked\n",
    "    items is avoided.\n",
    "    '''\n",
    "    # Get the list of shared_items\n",
    "    si={}\n",
    "    for item in prefs[person1]: \n",
    "        if item in prefs[person2]: \n",
    "            si[item] = 1\n",
    "            \n",
    "    # len(si) counts the number of common ratings\n",
    "    # if they have no ratings in common, return 0\n",
    "    if len(si) == 0: \n",
    "        return 0\n",
    "\n",
    "    # Add up the squares of all the differences\n",
    "    sum_of_squares=np.sqrt(sum([pow(prefs[person1][item]-prefs[person2][item],2) \n",
    "                     for item in prefs[person1] if item in prefs[person2]]))\n",
    "    if normed:\n",
    "        sum_of_squares= 1.0/len(si)*sum_of_squares\n",
    "    return 1/(1+sum_of_squares)\n",
    "\n",
    "\n",
    "def sim_pearson(prefs,p1,p2):\n",
    "    '''\n",
    "    Returns the Pearson correlation coefficient for p1 and p2\n",
    "    '''\n",
    "\n",
    "    # Get the list of commonly rated items\n",
    "    si={}\n",
    "    for item in prefs[p1]: \n",
    "        if item in prefs[p2]: \n",
    "            si[item]=1\n",
    "\n",
    "    # if they are no ratings in common, return 0\n",
    "    if len(si)==0: return 0\n",
    "\n",
    "    # Sum calculations\n",
    "    n=len(si)\n",
    "\n",
    "    # Calculate means of person 1 and 2\n",
    "    mp1=np.mean([prefs[p1][it] for it in si])\n",
    "    mp2=np.mean([prefs[p2][it] for it in si])\n",
    "\n",
    "    # Calculate standard deviation of person 1 and 2\n",
    "    sp1=np.std([prefs[p1][it] for it in si])\n",
    "    sp2=np.std([prefs[p2][it] for it in si])\n",
    "\n",
    "    # If all elements in one sample are identical, the standard deviation is 0. \n",
    "    # In this case there is no linear correlation between the samples\n",
    "    if sp1==0 or sp2==0:\n",
    "        return 0\n",
    "    r=1/(n*sp1*sp2)*sum([(prefs[p1][it]-mp1)*(prefs[p2][it]-mp2) for it in si])\n",
    "    return r\n",
    "\n",
    "\n",
    "def sim_RusselRao(prefs,person1,person2,normed=True):\n",
    "    ''' Returns RusselRao similaritiy between 2 users. The RusselRao similarity just counts the number\n",
    "    of common non-zero components of the two vectors and divides this number by N, where N is the length\n",
    "    of the vectors. If normed=False, the division by N is omitted.\n",
    "    '''\n",
    "    # Get the list of shared_items\n",
    "    si={}\n",
    "    commons=0\n",
    "    for item in prefs[person1]: \n",
    "        if prefs[person1][item]==1 and prefs[person2][item]==1:   \n",
    "            commons+=1\n",
    "    #print commons\n",
    "    if not normed:\n",
    "        return commons\n",
    "    else:\n",
    "        return commons*1.0/len(prefs[person1]) "
   ]
  },
  {
   "cell_type": "markdown",
   "metadata": {},
   "source": [
    "<div style=\"color:#999999\">\n",
    "\n",
    "**Aufgabe:**\n",
    "1. Geben Sie die euklidische Ähnlichkeit und die Pearson Ähnlichkeit zwischen den Personen _Toby_ und _Lisa Rose_ aus.\n",
    "2. Diskutieren Sie die unterschiedlichen Ähnlichkeitswert."
   ]
  },
  {
   "cell_type": "markdown",
   "metadata": {},
   "source": [
    "#### 1. Aufgabe Euklidische Ähnlichkeit und Pearson Ähnlichkeit"
   ]
  },
  {
   "cell_type": "code",
   "execution_count": 32,
   "metadata": {},
   "outputs": [
    {
     "name": "stdout",
     "output_type": "stream",
     "text": [
      "Euklidische Ähnlichkeit zwischen Toby und Lisa:  0.615911621788925\n",
      "Pearson Ähnlichkeit zwischen Toby und Lisa:  0.9912407071619302\n"
     ]
    }
   ],
   "source": [
    "print(\"Euklidische Ähnlichkeit zwischen Toby und Lisa: \", sim_euclid(critics,\"Toby\",\"Lisa Rose\"))\n",
    "print(\"Pearson Ähnlichkeit zwischen Toby und Lisa: \", sim_pearson(critics,\"Toby\",\"Lisa Rose\"))"
   ]
  },
  {
   "cell_type": "markdown",
   "metadata": {},
   "source": [
    "#### 2. Aufgabe - Vergleich Ähnlichkeitswerte Toby und Lisa\n",
    "\n",
    "Der Unterschied liegt darin, dass die Korrelation zwischen den jeweiligen Werten hoch ist (Pearson). Der Abstand der Vektoren aber groß (Euklid). Wenn Toby und Lisa den Film beide geschaut haben, haben sie ihn meist ähnlich Bewertet. Da Lisa aber mehr Filme geschaut hat, ist ihr Vektor weiter von Tobys entfernt."
   ]
  },
  {
   "cell_type": "markdown",
   "metadata": {},
   "source": [
    "<div style=\"color:#999999\">\n",
    "\n",
    "__Aufgabe:__\n",
    "0. Schreiben Sie eine Funktion `topMatches(prefs,person,similarity)`, welche für eine beliebige in _critics_ enthaltene Person die Ähnlichkeitswerte zu allen anderen Personen berechnet und in einer geordneten Liste zurück gibt. Der Funktion soll als Übergabeparameter auch die anzuwendende Ähnlichkeitsfunktion (`sim_euclid` oder `sim_pearson`) übergeben werden können. Berechnen Sie mit dieser Funktion für jede Person die *top matches*, zunächst unter Verwendung der euklidischen- dann unter Verwendung der Pearson-Ähnlichkeit.\n",
    "1. Geben Sie mit der implementierten Funktion die *top matches* der Person Toby aus.\n",
    "2. Vergleichen Sie die beiden Ähnlichkeitsmaße. Welches Ähnlichkeitsmaß erscheint Ihnen für diesen Anwendungsfall sinnvoller und warum?"
   ]
  },
  {
   "cell_type": "markdown",
   "metadata": {},
   "source": [
    "### 0. Aufgabe - Top Matches"
   ]
  },
  {
   "cell_type": "markdown",
   "metadata": {},
   "source": [
    "Aufällig ist hier, dass Toby und Lisa Rose sich bei der Eukliden Ähnlichkeit bezogen auf Lisa am unähnlichsten sind, bei der Pearson-Ähnlichkeit Toby aber ihr TopMatch bildet. Das ist wie bereits erläutert durch die Anzahl Filme zu erklären, jedoch macht es der Kontrast nochmal deutlich. Bei der Pearson Ähnlichkeit hat Toby eine negative Korrelation von -1 zu Michael Phillips. Schaut man auf das Dictionary merkt man schnell, dass das auch stark mit der geringen Anzahl an Daten zutun hat, fügt man bei Michael nämlich einen Film hinzu, ändert sich die Ähnlichkeit stark. Wenn man davon ausgehen würde, dass genug Daten vorhanden sind, bedeutet ein Wert von -1, dass ihre Bewertungen genau gegenläufig sind. "
   ]
  },
  {
   "cell_type": "code",
   "execution_count": 33,
   "metadata": {},
   "outputs": [
    {
     "name": "stdout",
     "output_type": "stream",
     "text": [
      "Euklidische Ähnlichkeit Lisa Rose: {'Mick LaSalle': 0.8092564301694538, 'Michael Phillips': 0.7815501047457912, 'Claudia Puig': 0.7597469266479578, 'Jack Matthews': 0.7208254886814803, 'Gene Seymour': 0.714462989423532, 'Toby': 0.615911621788925}\n",
      "Pearson Ähnlichkeit Lisa Rose: {'Toby': 0.9912407071619302, 'Jack Matthews': 0.747017880833996, 'Mick LaSalle': 0.5940885257860046, 'Claudia Puig': 0.5669467095138409, 'Michael Phillips': 0.40451991747794525, 'Gene Seymour': 0.39605901719066977}\n",
      "\n",
      "\n",
      "Euklidische Ähnlichkeit Gene Seymour: {'Jack Matthews': 0.9090909090909091, 'Lisa Rose': 0.714462989423532, 'Mick LaSalle': 0.6978305207480379, 'Michael Phillips': 0.6737986373538911, 'Claudia Puig': 0.6622946603252993, 'Toby': 0.5108747069239427}\n",
      "Pearson Ähnlichkeit Gene Seymour: {'Jack Matthews': 0.963795681875633, 'Mick LaSalle': 0.4117647058823529, 'Lisa Rose': 0.39605901719066977, 'Toby': 0.3812464258315117, 'Claudia Puig': 0.31497039417435596, 'Michael Phillips': 0.20459830184114203}\n",
      "\n",
      "\n",
      "Euklidische Ähnlichkeit Michael Phillips: {'Lisa Rose': 0.7815501047457912, 'Claudia Puig': 0.7759907622602041, 'Mick LaSalle': 0.7166996059009808, 'Gene Seymour': 0.6737986373538911, 'Jack Matthews': 0.6534537935444722, 'Toby': 0.5584815598877471}\n",
      "Pearson Ähnlichkeit Michael Phillips: {'Claudia Puig': 1.0000000000000002, 'Lisa Rose': 0.40451991747794525, 'Gene Seymour': 0.20459830184114203, 'Jack Matthews': 0.13483997249264842, 'Mick LaSalle': -0.2581988897471611, 'Toby': -1.0}\n",
      "\n",
      "\n",
      "Euklidische Ähnlichkeit Claudia Puig: {'Michael Phillips': 0.7759907622602041, 'Lisa Rose': 0.7597469266479578, 'Mick LaSalle': 0.6964322291925094, 'Gene Seymour': 0.6622946603252993, 'Jack Matthews': 0.6534537935444722, 'Toby': 0.6246387977050463}\n",
      "Pearson Ähnlichkeit Claudia Puig: {'Michael Phillips': 1.0000000000000002, 'Toby': 0.8934051474415644, 'Lisa Rose': 0.5669467095138409, 'Mick LaSalle': 0.5669467095138409, 'Gene Seymour': 0.31497039417435596, 'Jack Matthews': 0.02857142857142857}\n",
      "\n",
      "\n",
      "Euklidische Ähnlichkeit Mick LaSalle: {'Lisa Rose': 0.8092564301694538, 'Michael Phillips': 0.7166996059009808, 'Gene Seymour': 0.6978305207480379, 'Claudia Puig': 0.6964322291925094, 'Jack Matthews': 0.6666666666666666, 'Toby': 0.6666666666666666}\n",
      "Pearson Ähnlichkeit Mick LaSalle: {'Toby': 0.9244734516419051, 'Lisa Rose': 0.5940885257860046, 'Claudia Puig': 0.5669467095138409, 'Gene Seymour': 0.4117647058823529, 'Jack Matthews': 0.21128856368212914, 'Michael Phillips': -0.2581988897471611}\n",
      "\n",
      "\n",
      "Euklidische Ähnlichkeit Jack Matthews: {'Gene Seymour': 0.9090909090909091, 'Lisa Rose': 0.7208254886814803, 'Mick LaSalle': 0.6666666666666666, 'Michael Phillips': 0.6534537935444722, 'Claudia Puig': 0.6534537935444722, 'Toby': 0.5227744249483389}\n",
      "Pearson Ähnlichkeit Jack Matthews: {'Gene Seymour': 0.9637956818756331, 'Lisa Rose': 0.7470178808339961, 'Toby': 0.6628489803598703, 'Mick LaSalle': 0.21128856368212914, 'Michael Phillips': 0.13483997249264842, 'Claudia Puig': 0.02857142857142857}\n",
      "\n",
      "\n",
      "Euklidische Ähnlichkeit Toby: {'Mick LaSalle': 0.6666666666666666, 'Claudia Puig': 0.6246387977050463, 'Lisa Rose': 0.615911621788925, 'Michael Phillips': 0.5584815598877471, 'Jack Matthews': 0.5227744249483389, 'Gene Seymour': 0.5108747069239427}\n",
      "Pearson Ähnlichkeit Toby: {'Lisa Rose': 0.9912407071619302, 'Mick LaSalle': 0.9244734516419051, 'Claudia Puig': 0.8934051474415642, 'Jack Matthews': 0.6628489803598703, 'Gene Seymour': 0.3812464258315117, 'Michael Phillips': -1.0}\n",
      "\n",
      "\n"
     ]
    }
   ],
   "source": [
    "def topMatches(prefs, person, similarity):\n",
    "    # Check if person in critics\n",
    "\n",
    "    similarity_values = {}\n",
    "    for person_pref in prefs:\n",
    "        if person_pref == person:\n",
    "            continue\n",
    "        similarity_values[person_pref] = (similarity(prefs, person, person_pref))\n",
    "    similarity_values = dict(sorted(similarity_values.items(), key=lambda x:x[1],reverse=True))    \n",
    "    return similarity_values\n",
    "\n",
    "for person in critics:\n",
    "    print(f\"Euklidische Ähnlichkeit {person}:\", topMatches(critics, person, sim_euclid))\n",
    "    print(f\"Pearson Ähnlichkeit {person}:\", topMatches(critics, person, sim_pearson))\n",
    "    print(\"\\n\")"
   ]
  },
  {
   "cell_type": "markdown",
   "metadata": {},
   "source": [
    "#### 1. Aufgabe - Top Matches Toby"
   ]
  },
  {
   "cell_type": "code",
   "execution_count": 98,
   "metadata": {},
   "outputs": [
    {
     "name": "stdout",
     "output_type": "stream",
     "text": [
      "Euklidische Ähnlichkeit Toby:\n"
     ]
    },
    {
     "data": {
      "text/html": [
       "<div>\n",
       "<style scoped>\n",
       "    .dataframe tbody tr th:only-of-type {\n",
       "        vertical-align: middle;\n",
       "    }\n",
       "\n",
       "    .dataframe tbody tr th {\n",
       "        vertical-align: top;\n",
       "    }\n",
       "\n",
       "    .dataframe thead th {\n",
       "        text-align: right;\n",
       "    }\n",
       "</style>\n",
       "<table border=\"1\" class=\"dataframe\">\n",
       "  <thead>\n",
       "    <tr style=\"text-align: right;\">\n",
       "      <th></th>\n",
       "      <th>Euklidische Ähnlichkeit</th>\n",
       "    </tr>\n",
       "  </thead>\n",
       "  <tbody>\n",
       "    <tr>\n",
       "      <th>Mick LaSalle</th>\n",
       "      <td>0.666667</td>\n",
       "    </tr>\n",
       "    <tr>\n",
       "      <th>Claudia Puig</th>\n",
       "      <td>0.624639</td>\n",
       "    </tr>\n",
       "    <tr>\n",
       "      <th>Lisa Rose</th>\n",
       "      <td>0.615912</td>\n",
       "    </tr>\n",
       "    <tr>\n",
       "      <th>Michael Phillips</th>\n",
       "      <td>0.558482</td>\n",
       "    </tr>\n",
       "    <tr>\n",
       "      <th>Jack Matthews</th>\n",
       "      <td>0.522774</td>\n",
       "    </tr>\n",
       "    <tr>\n",
       "      <th>Gene Seymour</th>\n",
       "      <td>0.510875</td>\n",
       "    </tr>\n",
       "  </tbody>\n",
       "</table>\n",
       "</div>"
      ],
      "text/plain": [
       "                  Euklidische Ähnlichkeit\n",
       "Mick LaSalle                     0.666667\n",
       "Claudia Puig                     0.624639\n",
       "Lisa Rose                        0.615912\n",
       "Michael Phillips                 0.558482\n",
       "Jack Matthews                    0.522774\n",
       "Gene Seymour                     0.510875"
      ]
     },
     "metadata": {},
     "output_type": "display_data"
    },
    {
     "name": "stdout",
     "output_type": "stream",
     "text": [
      "Pearson Ähnlichkeit Toby:\n"
     ]
    },
    {
     "data": {
      "text/html": [
       "<div>\n",
       "<style scoped>\n",
       "    .dataframe tbody tr th:only-of-type {\n",
       "        vertical-align: middle;\n",
       "    }\n",
       "\n",
       "    .dataframe tbody tr th {\n",
       "        vertical-align: top;\n",
       "    }\n",
       "\n",
       "    .dataframe thead th {\n",
       "        text-align: right;\n",
       "    }\n",
       "</style>\n",
       "<table border=\"1\" class=\"dataframe\">\n",
       "  <thead>\n",
       "    <tr style=\"text-align: right;\">\n",
       "      <th></th>\n",
       "      <th>Pearson Ähnlichkeit</th>\n",
       "    </tr>\n",
       "  </thead>\n",
       "  <tbody>\n",
       "    <tr>\n",
       "      <th>Lisa Rose</th>\n",
       "      <td>0.991241</td>\n",
       "    </tr>\n",
       "    <tr>\n",
       "      <th>Mick LaSalle</th>\n",
       "      <td>0.924473</td>\n",
       "    </tr>\n",
       "    <tr>\n",
       "      <th>Claudia Puig</th>\n",
       "      <td>0.893405</td>\n",
       "    </tr>\n",
       "    <tr>\n",
       "      <th>Jack Matthews</th>\n",
       "      <td>0.662849</td>\n",
       "    </tr>\n",
       "    <tr>\n",
       "      <th>Gene Seymour</th>\n",
       "      <td>0.381246</td>\n",
       "    </tr>\n",
       "    <tr>\n",
       "      <th>Michael Phillips</th>\n",
       "      <td>-1.000000</td>\n",
       "    </tr>\n",
       "  </tbody>\n",
       "</table>\n",
       "</div>"
      ],
      "text/plain": [
       "                  Pearson Ähnlichkeit\n",
       "Lisa Rose                    0.991241\n",
       "Mick LaSalle                 0.924473\n",
       "Claudia Puig                 0.893405\n",
       "Jack Matthews                0.662849\n",
       "Gene Seymour                 0.381246\n",
       "Michael Phillips            -1.000000"
      ]
     },
     "metadata": {},
     "output_type": "display_data"
    }
   ],
   "source": [
    "print(\"Euklidische Ähnlichkeit Toby:\") \n",
    "display(pd.DataFrame.from_dict(topMatches(critics, \"Toby\", sim_euclid),orient='index',columns=['Euklidische Ähnlichkeit']))\n",
    "print(\"Pearson Ähnlichkeit Toby:\") \n",
    "display(pd.DataFrame.from_dict(topMatches(critics, \"Toby\", sim_pearson),orient='index',columns=['Pearson Ähnlichkeit']))"
   ]
  },
  {
   "cell_type": "markdown",
   "metadata": {},
   "source": [
    "#### 2. Aufgabe - Vergleich Ähnlichkeitsmaße Toby\n",
    "\n",
    "Wenn man sich die Werte anschaut, erkennt man, dass der euklidische Match alle User in etwa ähnlich passend bewertet. Das kann an dem zu kleinen Datensatz liegen. Für unsere Zwecke ist das also eher ungenau und nicht aussagekräftig genug. \n",
    "Das Pearson Ähnlichkeitsmaß scheint uns für diesen Fall also ein wenig passender, da die Unterscheidung deutlicher ist. Der Wert -1.0 bei der Pearsonähnlichkeit bedeutet eine Korrelation bei der die Interessen gegenläufig sind. Das finden wir bei der eukliden Ähnlichkeit nicht. Hier hat Michael einen positiven Wert und ist z.B. nicht gegenläufig zu Toby. Mit der Pearson Ähnlichkeit lässt sich auch eine nachvolziehbare Aussage über die Bewertungen treffen. Man kann nicht nur vergleichen wie \"gut\" andere Nutzer passen, sondern auch wie \"schlecht\"."
   ]
  },
  {
   "cell_type": "markdown",
   "metadata": {},
   "source": [
    "<div style=\"color:#999999\">\n",
    "\n",
    "### Berechnung von Empfehlungen mit User basiertem Collaborative Filtering\n",
    "Für die Produkte, die von einer Person noch nicht gekauft wurden, sollen Empfehlungen berechnet werden. Die Empfehlungen können ebenfalls Werte zwischen 1 (wird nicht empfohlen) und 5 (wird stark empfohlen) annehmen. Für die Berechnung der Empfehlung werden die Bewertungen des jeweiligen Produkts durch die anderen Personen herangezogen. Dabei werden die Bewertungen der ähnlichen Personen (d.h. hoher Pearson-Korrelationswert) stärker mit einbezogen als die Bewertungen durch Personen mit einem niedrigen Korrelationswert.\n",
    "\n",
    "__Beispiel:__\n",
    "Toby hat die Filme *The Night Listener*, _Lady in the Water_ und _Just My Luck_ noch nicht gekauft. Für diese Filme soll für Toby eine Empfehlung berechnet werden.\n",
    "In der unten aufgeführten Tabelle enthält die zweite Spalte die _Pearson-Ähnlichkeitswerte_ zwischen Toby und den anderen Personen. Die Spalten 3, 5 und 7 enthalten die Bewertungen der Filme *The Night Listener*, _Lady in the Water_ und _Just My Luck_ durch die anderen Personen. Die Spalten 4, 6 und 8 enthalten die jeweilige Filmbewertung gewichtet (mulipliziert) mit den Ähnlichkeitswerten der jeweiligen Person. Es fällt auf, dass in der Tabelle _Michael_ nicht enthalten ist. Das liegt daran, dass _Michael_ und _Toby_ einen negativen Ähnlichkeitswert aufweisen, d.h. deren Interessen sind gegenläufig. Personen mit negativem Ähnlichkeitswert sollten für Empfehlungen nicht berücksichtigt werden.\n",
    "Die Zeile _Sum_ enthält die Summe aller gewichteten Bewertungen. Aus diesem Wert allein kann die Empfehlung noch nicht abgeleitet werden, da Filme die nur von wenigen Personen bewertet wurden, eine relativ kleine Summe ergeben. Deshalb sollte _Sum_ noch durch die Anzahl der Bewertungen für diesen Film geteilt werden. Oder besser: Nicht durch die Summe der Bewertungen, sondern durch die Summe der relevanten Ähnlichkeitswerte (*KSum*). Der resultierende Empfehlungswert ist in der letzten Zeile eingetragen.\n",
    "\n",
    "\n",
    "\n",
    "<img src=\"https://maucher.home.hdm-stuttgart.de/Pics/recommenderFilmCalculation.PNG\" style=\"width:500px\" align=\"center\">\n",
    "\n",
    "\n"
   ]
  },
  {
   "cell_type": "markdown",
   "metadata": {},
   "source": [
    "<div style=\"color:#999999\">\n",
    "\n",
    "__Aufgabe:__\n",
    "Schreiben Sie eine Funktion *getRecommendations(prefs,person,similarity)*, mit der die Empfehlungswerte berechnet werden können und bestimmen Sie die Empfehlungswerte für Toby. Der Funktion wird  \n",
    "\n",
    "* das Dictionary _critics_ mit den Filmbewertungen, \n",
    "* der Name der Person, für welche Empfehlungen berechnet werden sollen\n",
    "* die Methode für die Berechnung der Ähnlichkeit *sim_euclid* oder *sim_pearson*\n",
    "\n",
    "übergeben. Die Methode soll eine geordnete Liste zurück geben. Jedes Listenelement enthält an erster Stelle den berechneten Empfehlungswert und an zweiter Stelle den Namen des Films. Die Liste soll nach Empfehlungswerten absteigend geordnet sein.\n",
    "\n",
    "Testen Sie diese Funktion indem Sie die Empfehlungen für _Toby_ berechnen und mit den Werten in der oben aufgeführten Tabelle vergleichen."
   ]
  },
  {
   "cell_type": "markdown",
   "metadata": {},
   "source": [
    "Durch die nachträgliche Änderung um die Funktion auch noch in Aufgabe 2 zu verwenden, besteht nun die Bedingung, dass ein gesehener Film nicht mit 0, sondern mindestens mit 1 bewertet werden muss."
   ]
  },
  {
   "cell_type": "code",
   "execution_count": 214,
   "metadata": {},
   "outputs": [],
   "source": [
    "def getRecommendations(prefs, person, similarity):\n",
    "    recommendation_list = []\n",
    "    \n",
    "    keySet = set()\n",
    "    for listed_person in prefs:\n",
    "        keySet.update(prefs[listed_person])\n",
    "    # Get similarity of person\n",
    "    topMatches_person = topMatches(prefs, person, similarity)\n",
    "\n",
    "    # Get Missing data\n",
    "    missing_data = []\n",
    "    for item in keySet:\n",
    "        if item not in prefs[person].keys() or prefs[person][item] == 0:\n",
    "            missing_data.append(item)\n",
    "\n",
    "    # Calculate for every item\n",
    "    for item in missing_data:\n",
    "        korrelation_sum = 0\n",
    "        korrelation_review_sum = 0\n",
    "        # Calculate for every person we want to compare\n",
    "        for compare_person, value in topMatches_person.items():\n",
    "            # Person too unsimilar\n",
    "            if value < 0: \n",
    "                continue\n",
    "\n",
    "            # Person did not see item\n",
    "            if item not in prefs[compare_person].keys():\n",
    "                continue\n",
    "\n",
    "            korrelation_sum += value\n",
    "            korrelation_review_sum += value * prefs[compare_person][item]\n",
    "\n",
    "        # Calculate recommendation value for current item\n",
    "        recommendation_value = korrelation_review_sum / korrelation_sum\n",
    "        recommendation_list.append([recommendation_value, item])\n",
    "\n",
    "    # Sort list descending\n",
    "    recommendation_list.sort(key=lambda tup: tup[0], reverse=True)\n",
    "    return recommendation_list\n",
    "\n"
   ]
  },
  {
   "cell_type": "code",
   "execution_count": 103,
   "metadata": {},
   "outputs": [
    {
     "name": "stdout",
     "output_type": "stream",
     "text": [
      "Film Vorschläge Pearson:\n"
     ]
    },
    {
     "data": {
      "text/plain": [
       "[[3.3477895267131013, 'The Night Listener'],\n",
       " [2.8325499182641622, 'Lady in the Water'],\n",
       " [2.5309807037655645, 'Just My Luck']]"
      ]
     },
     "metadata": {},
     "output_type": "display_data"
    },
    {
     "name": "stdout",
     "output_type": "stream",
     "text": [
      "Film Vorschläge Euklid:\n"
     ]
    },
    {
     "data": {
      "text/plain": [
       "[[3.4273481378103883, 'The Night Listener'],\n",
       " [2.795737031164006, 'Lady in the Water'],\n",
       " [2.407392750287351, 'Just My Luck']]"
      ]
     },
     "metadata": {},
     "output_type": "display_data"
    }
   ],
   "source": [
    "print(\"Film Vorschläge Pearson:\")\n",
    "display(getRecommendations(critics, \"Toby\", sim_pearson))\n",
    "print(\"Film Vorschläge Euklid:\") \n",
    "display(getRecommendations(critics, \"Toby\", sim_euclid))"
   ]
  },
  {
   "cell_type": "markdown",
   "metadata": {},
   "source": [
    "### Vergleich der Ergebnisse\n",
    "\n",
    "Vegleicht man unser Ergebnis mit der Tabelle, stimmt es überein, wenn man die Werte runden würde. Da gerundete Werte für die eventuelle Weiterverarbeitung ungenaue Vorhersagen bedeuten könnten, lassen wir sie aber ungerundet stehen. \"The Night Listener\" sollte Toby demnach am ehesten empfohlen werden. Auch interessant: beide Ähnlichkeiten kommen zu dem gleichen Ergebnis (Reihenfolge)."
   ]
  },
  {
   "cell_type": "markdown",
   "metadata": {},
   "source": [
    "<div style=\"color:#999999\">\n",
    "\n",
    "### Berechnung von Empfehlungen mit Item basiertem Collaborative Filtering\n",
    "In den vorigen Aufgaben wurden Ähnlichkeiten zwischen Personen bestimmt und für Produktempfehlungen benutzt (User basiertes Collaborative Filtering). Jetzt soll die Ähnlichkeit zwischen Produkten berechnet werden und auf der Basis dieser Produktähnlichkeit Empfehlungen berechnet werden (Item basiertes Collaborative Filtering).\n",
    "\n",
    "Dabei sollen die bereits implementierten Ähnlichkeitsfunktion *sim_euclid* und *sim_pearson* sowie die Ähnlichkeeits-Sortierfunktion *topMatches* unverändert eingesetzt werden.\n",
    "\n",
    "__Aufgabe:__\n",
    "\n",
    "1. Implementieren Sie eine Funktion, welche das Bewertungsdictionary *critics* derart transformiert, dass die Funktionen `sim_euclid`, `sim_pearson` und `topMatches` für das Item-basierte CF unverändert eingesetzt werden können. Die transformierte Matrix soll unter dem Namen *transCritics* abgespeichert werden.\n",
    "2. Schreiben Sie eine Funktion `calculateSimilarItems`, die aus der transformierten Matrix *transCritics* ein Dictionary berechnet, welches die Ähnlichkeit zwischen allen Filmen beschreibt. Die Keys des Dictionary sind die Filmnamen. Die Values sind geordnete Listen, welche die Funktion `topMatches` zurückgibt, wenn sie für die Filme (nicht für die User) aufgerufen wird. Dieses Dictionary wird an das aufrufende Programm zurück geben. \n",
    "3. Schreiben Sie eine Funktion `getRecommendedItems`, welche basierend auf dem im unten aufgeführten Beispiel dargestellten Verfahren unter Vorgabe der Bewertungsmatrix und der zu verwendenden Ähnlichkeitsfunktion Produktempfehlungen berechnet.\n",
    "4. Testen Sie die Funktion indem Sie die Empfehlungen für Toby berechnen und mit den Werten in der unten aufgeführten Tabelle vergleichen\n",
    "\n",
    "__Erläuterndes Beispiel:__\n",
    "\n",
    "_Toby_ hat die Filme *The Night Listener*, *Lady in the Water* und *Just My Luck* noch nicht gekauft. Für diese Filme soll für *Toby* eine Empfehlung berechnet werden. Gekauft und bewertet hat *Toby* die Filme *Snakes on a plane*, *Superman Returns* und *You and me and Dupree*. Diese bereits vorhandenen Filme bilden die erste Spalte der unten dargestellten Matrix. In der zweiten Spalte befinden sich _Toby's_ Bewertungen dieser Filme. Die Spalten 3,5 und 7 enthalten die Ähnlichkeitswerte (mit *calculateSimilarItems* unter Verwendung des normierten euklidischen Ähnlichkeitsmaßes berechnet) zwischen den drei von *Toby* noch nicht gekauften Filmen und den drei von _Toby_ bewerteten Filmen. Diese Ähnlichkeitswerte werden jeweils mit _Toby's_ Bewertungen multipliziert. Das Resultat dieser Multiplikation befindet sich in den Spalten 4,6 und 8. Der finale Empfehlungswert für die von _Toby_ noch nicht gekauften Filme wird berechnet in dem in den Spalten 4,6 und 8 zunächst die Summe über die Werte dieser Spalte in den drei oberen Zeilen berechnet wird und durch die Summe über die Werte der Spalten 3,5 und 7 geteilt wird. Im Fall, dass die *Pearson-Korrelation* zwischen den Filmen als Ähnlichkeitswert herangezogen wird, können negative Ähnlichkeitswerte auftreten. Dann soll in die Berechnung eines Empfehlungswert für Film A nur dann die Bewertung von Film B einfließen, wenn der Korrelationswert zwischen beiden $>0$ ist.  \n",
    "\n",
    "\n",
    "<img src=\"https://maucher.home.hdm-stuttgart.de/Pics/recommenderFilmItemBased.PNG\" style=\"width:500px\" align=\"center\">\n"
   ]
  },
  {
   "cell_type": "markdown",
   "metadata": {},
   "source": [
    "#### 1. Aufgabe - Critics umwandeln\n",
    "\n",
    "Hierfür tauschen wir die Axen. Dabei gab es zuerst Probleme, also mussten wir noch die `dropNa` Funktion nutzen, um das zu beheben."
   ]
  },
  {
   "cell_type": "code",
   "execution_count": 108,
   "metadata": {},
   "outputs": [
    {
     "data": {
      "text/plain": [
       "{'Lady in the Water': {'Lisa Rose': 2.5,\n",
       "  'Gene Seymour': 3.0,\n",
       "  'Michael Phillips': 2.5,\n",
       "  'Mick LaSalle': 3.0,\n",
       "  'Jack Matthews': 3.0},\n",
       " 'Snakes on a Plane': {'Lisa Rose': 3.5,\n",
       "  'Gene Seymour': 3.5,\n",
       "  'Michael Phillips': 3.0,\n",
       "  'Claudia Puig': 3.5,\n",
       "  'Mick LaSalle': 4.0,\n",
       "  'Jack Matthews': 4.0,\n",
       "  'Toby': 4.5},\n",
       " 'Just My Luck': {'Lisa Rose': 3.0,\n",
       "  'Gene Seymour': 1.5,\n",
       "  'Claudia Puig': 3.0,\n",
       "  'Mick LaSalle': 2.0},\n",
       " 'Superman Returns': {'Lisa Rose': 3.5,\n",
       "  'Gene Seymour': 5.0,\n",
       "  'Michael Phillips': 3.5,\n",
       "  'Claudia Puig': 4.0,\n",
       "  'Mick LaSalle': 3.0,\n",
       "  'Jack Matthews': 5.0,\n",
       "  'Toby': 4.0},\n",
       " 'You, Me and Dupree': {'Lisa Rose': 2.5,\n",
       "  'Gene Seymour': 3.5,\n",
       "  'Claudia Puig': 2.5,\n",
       "  'Mick LaSalle': 2.0,\n",
       "  'Jack Matthews': 3.5,\n",
       "  'Toby': 1.0},\n",
       " 'The Night Listener': {'Lisa Rose': 3.0,\n",
       "  'Gene Seymour': 3.0,\n",
       "  'Michael Phillips': 4.0,\n",
       "  'Claudia Puig': 4.5,\n",
       "  'Mick LaSalle': 3.0,\n",
       "  'Jack Matthews': 3.0}}"
      ]
     },
     "metadata": {},
     "output_type": "display_data"
    }
   ],
   "source": [
    "import pandas as pd\n",
    "\n",
    "def transformCritics(prefs):\n",
    "    # Convert prefs to dataframe\n",
    "    prefs_data_frame = pd.DataFrame.from_dict(prefs)\n",
    "\n",
    "    # Remove all nans and switch axes so movies are index and people are columns\n",
    "    prefs_data_frame = prefs_data_frame.apply(lambda x : x.dropna().to_dict(), axis=1)\n",
    "    \n",
    "    # Return as dict\n",
    "    return prefs_data_frame.to_dict()\n",
    "\n",
    "trans_critics = transformCritics(critics)\n",
    "# Not as a table so you can see it is movie first instead of person first\n",
    "display(trans_critics)"
   ]
  },
  {
   "cell_type": "markdown",
   "metadata": {},
   "source": [
    "#### 2. Aufgabe - Ähnlichkeit zwischen Filme\n"
   ]
  },
  {
   "cell_type": "markdown",
   "metadata": {},
   "source": [
    "Auch hier ist die Pearson Ähnlichkeit wieder aussagekräftiger, da wir auch sehen, welche Filme eine negative Korrelation haben."
   ]
  },
  {
   "cell_type": "code",
   "execution_count": 115,
   "metadata": {},
   "outputs": [
    {
     "name": "stdout",
     "output_type": "stream",
     "text": [
      "Ähnliche Filme Euklid:\n"
     ]
    },
    {
     "data": {
      "text/plain": [
       "{'Lady in the Water': {'You, Me and Dupree': 0.7655876216850789,\n",
       "  'The Night Listener': 0.7597469266479578,\n",
       "  'Snakes on a Plane': 0.7277142573518672,\n",
       "  'Just My Luck': 0.615911621788925,\n",
       "  'Superman Returns': 0.6125741132772068},\n",
       " 'Snakes on a Plane': {'Superman Returns': 0.7578982763068516,\n",
       "  'The Night Listener': 0.7387961250362586,\n",
       "  'Lady in the Water': 0.7277142573518672,\n",
       "  'You, Me and Dupree': 0.5824585256498355,\n",
       "  'Just My Luck': 0.5784128280412532},\n",
       " 'Just My Luck': {'You, Me and Dupree': 0.6534537935444722,\n",
       "  'The Night Listener': 0.6303969981288705,\n",
       "  'Lady in the Water': 0.615911621788925,\n",
       "  'Snakes on a Plane': 0.5784128280412532,\n",
       "  'Superman Returns': 0.5123025255147889},\n",
       " 'Superman Returns': {'Snakes on a Plane': 0.7578982763068516,\n",
       "  'The Night Listener': 0.6697893816771064,\n",
       "  'Lady in the Water': 0.6125741132772068,\n",
       "  'You, Me and Dupree': 0.5874822290669,\n",
       "  'Just My Luck': 0.5123025255147889},\n",
       " 'You, Me and Dupree': {'Lady in the Water': 0.7655876216850789,\n",
       "  'The Night Listener': 0.6758660359334131,\n",
       "  'Just My Luck': 0.6534537935444722,\n",
       "  'Superman Returns': 0.5874822290669,\n",
       "  'Snakes on a Plane': 0.5824585256498355},\n",
       " 'The Night Listener': {'Lady in the Water': 0.7597469266479578,\n",
       "  'Snakes on a Plane': 0.7387961250362586,\n",
       "  'You, Me and Dupree': 0.6758660359334131,\n",
       "  'Superman Returns': 0.6697893816771064,\n",
       "  'Just My Luck': 0.6303969981288705}}"
      ]
     },
     "metadata": {},
     "output_type": "display_data"
    },
    {
     "name": "stdout",
     "output_type": "stream",
     "text": [
      "\n",
      "Ähnliche Filme Pearson:\n"
     ]
    },
    {
     "data": {
      "text/plain": [
       "{'Lady in the Water': {'Snakes on a Plane': 0.7637626158259734,\n",
       "  'Superman Returns': 0.48795003647426655,\n",
       "  'You, Me and Dupree': 0.3333333333333333,\n",
       "  'The Night Listener': -0.6123724356957947,\n",
       "  'Just My Luck': -0.9449111825230683},\n",
       " 'Snakes on a Plane': {'Lady in the Water': 0.7637626158259734,\n",
       "  'Superman Returns': 0.11180339887498948,\n",
       "  'Just My Luck': -0.3333333333333333,\n",
       "  'The Night Listener': -0.5663521139548541,\n",
       "  'You, Me and Dupree': -0.6454972243679027},\n",
       " 'Just My Luck': {'The Night Listener': 0.5555555555555556,\n",
       "  'Snakes on a Plane': -0.3333333333333333,\n",
       "  'Superman Returns': -0.422890031611031,\n",
       "  'You, Me and Dupree': -0.48566186425718266,\n",
       "  'Lady in the Water': -0.9449111825230683},\n",
       " 'Superman Returns': {'You, Me and Dupree': 0.657951694959769,\n",
       "  'Lady in the Water': 0.48795003647426655,\n",
       "  'Snakes on a Plane': 0.1118033988749895,\n",
       "  'The Night Listener': -0.17984719479905417,\n",
       "  'Just My Luck': -0.422890031611031},\n",
       " 'You, Me and Dupree': {'Superman Returns': 0.657951694959769,\n",
       "  'Lady in the Water': 0.3333333333333333,\n",
       "  'The Night Listener': -0.25,\n",
       "  'Just My Luck': -0.48566186425718266,\n",
       "  'Snakes on a Plane': -0.6454972243679027},\n",
       " 'The Night Listener': {'Just My Luck': 0.5555555555555556,\n",
       "  'Superman Returns': -0.1798471947990542,\n",
       "  'You, Me and Dupree': -0.25,\n",
       "  'Snakes on a Plane': -0.5663521139548541,\n",
       "  'Lady in the Water': -0.6123724356957947}}"
      ]
     },
     "metadata": {},
     "output_type": "display_data"
    }
   ],
   "source": [
    "def calculateSimilarItems(prefs, similarity):\n",
    "    similar_items = {}\n",
    "    for movie in prefs:\n",
    "        similar_items[movie] = topMatches(prefs, movie, similarity)\n",
    "\n",
    "    return similar_items\n",
    "\n",
    "similar_items_euclid = calculateSimilarItems(trans_critics, sim_euclid)\n",
    "similar_items_pearson = calculateSimilarItems(trans_critics, sim_pearson)\n",
    "# No tables to see the order!\n",
    "print(\"Ähnliche Filme Euklid:\")\n",
    "display(similar_items_euclid)\n",
    "print(\"\")\n",
    "print(\"Ähnliche Filme Pearson:\")\n",
    "display(similar_items_pearson)"
   ]
  },
  {
   "cell_type": "markdown",
   "metadata": {},
   "source": [
    "#### 3. Aufgabe - Empfohlene Filme"
   ]
  },
  {
   "cell_type": "code",
   "execution_count": 39,
   "metadata": {},
   "outputs": [],
   "source": [
    "def getRecommendedItems(prefs, transprefs, person, similarity):\n",
    "    recommendation_list = []\n",
    "\n",
    "    # Get Unseen Movies\n",
    "    keySet = set()\n",
    "    for movie in prefs:\n",
    "        keySet.update(prefs[movie])\n",
    "        \n",
    "    unseen_movies_person = []\n",
    "    for movie in keySet:\n",
    "        if movie not in prefs[person].keys() or prefs[person][movie] == 0:\n",
    "            unseen_movies_person.append(movie)\n",
    "\n",
    "    for movie in unseen_movies_person:\n",
    "        korrelation_sum = 0\n",
    "        movie_similarity_sum = 0\n",
    "        current_movie_similarities = calculateSimilarItems(transprefs, similarity)[movie] \n",
    "\n",
    "        # Loop over all movies similarities\n",
    "        for current_movie, movie_similarity in current_movie_similarities.items():\n",
    "            # Movie similarity is negative so movie should not be included\n",
    "            if movie_similarity <= 0:\n",
    "                continue\n",
    "            \n",
    "            # Person did not watched movie\n",
    "            if current_movie not in prefs[person].keys():\n",
    "                continue\n",
    "\n",
    "            # Movie similarity * review of person, added to korrelation sum\n",
    "            korrelation_sum += movie_similarity * prefs[person][current_movie]\n",
    "            movie_similarity_sum += movie_similarity\n",
    "\n",
    "        # If movie completly not included (cause all values negative) movie_similarity_sum will be 0\n",
    "        if movie_similarity_sum != 0:\n",
    "            normalized_value = korrelation_sum / movie_similarity_sum\n",
    "            recommendation_list.append((normalized_value, movie))\n",
    "\n",
    "    recommendation_list.sort(key=lambda tup: tup[0], reverse=True)\n",
    "    return recommendation_list   "
   ]
  },
  {
   "cell_type": "markdown",
   "metadata": {},
   "source": [
    "#### 4.Aufgabe - Film Empfehlungen für Toby\n",
    "\n",
    "Für die Euklidische Ähnlichkeit stimmen die Werte aufgerundet mit der Tabelle überein. Die Ergebnisse ähneln dem userbasierten Filtering. Wenn wir die Peaersonähnlichkeit für die Empfehlungsfunktion nutzen, bekommen wir jedoch nur ein Ergebnis zurück. Das liegt daran, dass wir in der Funktion die Werte rausschmeißen die negativ sind, um Filme mit einem Empfehlungswert von Null direkt auszusortieren. "
   ]
  },
  {
   "cell_type": "code",
   "execution_count": 117,
   "metadata": {},
   "outputs": [
    {
     "name": "stdout",
     "output_type": "stream",
     "text": [
      "Vorgeschlagene Filme Toby Euklid:\n"
     ]
    },
    {
     "data": {
      "text/html": [
       "<div>\n",
       "<style scoped>\n",
       "    .dataframe tbody tr th:only-of-type {\n",
       "        vertical-align: middle;\n",
       "    }\n",
       "\n",
       "    .dataframe tbody tr th {\n",
       "        vertical-align: top;\n",
       "    }\n",
       "\n",
       "    .dataframe thead th {\n",
       "        text-align: right;\n",
       "    }\n",
       "</style>\n",
       "<table border=\"1\" class=\"dataframe\">\n",
       "  <thead>\n",
       "    <tr style=\"text-align: right;\">\n",
       "      <th></th>\n",
       "      <th>0</th>\n",
       "      <th>1</th>\n",
       "    </tr>\n",
       "  </thead>\n",
       "  <tbody>\n",
       "    <tr>\n",
       "      <th>0</th>\n",
       "      <td>3.204491</td>\n",
       "      <td>The Night Listener</td>\n",
       "    </tr>\n",
       "    <tr>\n",
       "      <th>1</th>\n",
       "      <td>3.082137</td>\n",
       "      <td>Lady in the Water</td>\n",
       "    </tr>\n",
       "    <tr>\n",
       "      <th>2</th>\n",
       "      <td>3.041862</td>\n",
       "      <td>Just My Luck</td>\n",
       "    </tr>\n",
       "  </tbody>\n",
       "</table>\n",
       "</div>"
      ],
      "text/plain": [
       "          0                   1\n",
       "0  3.204491  The Night Listener\n",
       "1  3.082137   Lady in the Water\n",
       "2  3.041862        Just My Luck"
      ]
     },
     "metadata": {},
     "output_type": "display_data"
    },
    {
     "name": "stdout",
     "output_type": "stream",
     "text": [
      "Vorgeschlagene Filme Toby Pearson:\n"
     ]
    },
    {
     "data": {
      "text/html": [
       "<div>\n",
       "<style scoped>\n",
       "    .dataframe tbody tr th:only-of-type {\n",
       "        vertical-align: middle;\n",
       "    }\n",
       "\n",
       "    .dataframe tbody tr th {\n",
       "        vertical-align: top;\n",
       "    }\n",
       "\n",
       "    .dataframe thead th {\n",
       "        text-align: right;\n",
       "    }\n",
       "</style>\n",
       "<table border=\"1\" class=\"dataframe\">\n",
       "  <thead>\n",
       "    <tr style=\"text-align: right;\">\n",
       "      <th></th>\n",
       "      <th>0</th>\n",
       "      <th>1</th>\n",
       "    </tr>\n",
       "  </thead>\n",
       "  <tbody>\n",
       "    <tr>\n",
       "      <th>0</th>\n",
       "      <td>3.610031</td>\n",
       "      <td>Lady in the Water</td>\n",
       "    </tr>\n",
       "  </tbody>\n",
       "</table>\n",
       "</div>"
      ],
      "text/plain": [
       "          0                  1\n",
       "0  3.610031  Lady in the Water"
      ]
     },
     "metadata": {},
     "output_type": "display_data"
    }
   ],
   "source": [
    "print(\"Vorgeschlagene Filme Toby Euklid:\")\n",
    "display(pd.DataFrame.from_dict(getRecommendedItems(critics, trans_critics, \"Toby\", sim_euclid)))\n",
    "print(\"Vorgeschlagene Filme Toby Pearson:\")\n",
    "display(pd.DataFrame.from_dict(getRecommendedItems(critics, trans_critics, \"Toby\", sim_pearson)))"
   ]
  },
  {
   "cell_type": "markdown",
   "metadata": {
    "slideshow": {
     "slide_type": "slide"
    }
   },
   "source": [
    "<div style=\"color:#999999\">\n",
    "\n",
    "## last.fm Musikempfehlungen\n",
    "\n",
    "__Aufgabe:__\n",
    "\n",
    "1. Installieren Sie das Package pylast. Stellen Sie durch Aufruf der Funktion *network=pylast.LastFMNetwork()* eine Verbindung zu *last.fm* her. Beim Aufruf der Funktion wird die Anmeldung und Authentifizierung durchgeführt. Die Funktion gibt ein Objekt der Klasse *Network* zurück. Über dieses Objekt können Methoden, wie\n",
    "\n",
    "    * *get_artist(\"kuenstlerName\")* (liefert Objekt der Klasse *Artist*)\n",
    "    * *get_album(\"albumName\")* (liefert Objekt der Klasse *Album*)\n",
    "    * *get_track(\"songName\")* (liefert Objekt der Klasse *Track*)\n",
    "    * *get_user(\"userName\"):* (liefert Objekt der Klasse *Tag*)\n",
    "    * usw.\n",
    "    \n",
    "      aufgerufen werden. Die Menge aller verfügbaren Klassen und deren Attribute und Methoden können dem Modul _pylast.py_ entnommen werden.\n",
    "\n",
    "1. Rufen Sie über das oben instanziierte *Network*-Objekt die Methode `get_artist(\"BandIhrerWahl\")` auf.\n",
    "2. Rufen Sie über das oben instanziierte *Artist*-Objekt die Methode `topfans=get_top_fans(10)` auf. Die Methode gibt eine Liste von _User_-Objekt/Gewichtung-Paaren zurück. Die Gewichtungen von Objekten werden in diesem Versuch nicht benötigt. Legen Sie deshalb mit `group=[a.item for a in topfan]` eine Liste an, die nur noch die User Objekte enthält. **Wichtige Anmerkung:** Seit August 2015 gibt es Probleme mit der lastFM API Methode `get_top_fans()` (siehe auch: [pylast issues](https://github.com/pylast/pylast/issues/155s)). Falls am Versuchstermin der Fehler noch nicht behoben ist, können Sie den unten stehenden Code benutzen. Darin wird versucht auf die API-Methode zuzugreifen. Falls das nicht möglich ist, wird eine vordefinierte Liste von Usern angewandt. Diese Liste repräsentiert die *Top Fans* der Band *Slipknot* im Frühjahr 2015. \n",
    "3. Implementieren Sie eine Funktion `createLastfmUserDict()`. Dieser Funktion soll, die oben angelegte Liste von *User*-Objekten _group_ übergeben werden. Für jeden User in *group* sollen die 20 beliebtesten Bands mit der Methode `topartists=get_top_artists()[0:20]` bestimmt werden. Die Methode gibt eine Liste von *Artist*-Objekt/Gewichtung-Paaren zurück. Die Gewichtungen von Objekten werden in diesem Versuch nicht benötigt. Auf das *i.te* *Artist*-Objekt selbst kann mit `topartists[i].item` zugegriffen werden. Die Menge aller Bands, die auf diese Weise gesammelt werden, wird im folgenden mit _AllBands_ bezeichnet. D.h. in *AllBands* befinden sich alle Bands, die für mindestens einen User in *group* zu den Top-20 gehören. Nun soll ein verschachteltes Dictionary mit Namen *userDict* wie folgt angelegt werden:\n",
    "\n",
    "    * Die Keys sind die Namen der _User_-Objekte in _group_. Auf den Namen eines Objekts kann mit `get_name()` zugegriffen werden.\n",
    "    * Die Values sind selbst wieder Dictionaries, deren Keys die Namen der Bands in *AllBands* sind. Achten Sie auch hier darauf, dass Sie nicht das *Artist*-Objekt selbst, sondern dessen Namen als Key verwenden. \n",
    "    * Für den User *a* und die Band *b* ist der Value `userDict[a][b]= 1`, falls *b* zu den Top-20 des Users *a* gehört. Andernfalls ist `userDict[a][b]= 0`. \n",
    "    \n",
    "    Das derart angelegte Dictionary soll von der Funktion zurückgegeben werden. \n",
    "4. Wählen Sie jetzt einen beliebigen User aus *group*. Bestimmen Sie zu diesem User die ähnlichsten User in *group* durch Anwendung der im ersten Teilversuch implementierten Funktion `topMatches()`. Der Funktion wird das angelegte *userDict* und der Name des gewählten Users übergeben. Als Ähnlichkeitsmaß soll die euklidische Metrik angewandt werden.\n",
    "5. Bestimmen Sie dann für den gewählten User Band-Empfehlungen durch Anwendung der im ersten Teilversuch implementierten Funktion `getRecommendations()`. Der Funktion wird das angelegte *userDict* und der Name des gewählten Users übergeben. Als Ähnlichkeitsmaß soll die euklidische Metrik, danach die Russel_Rao Metrik, angewandt werden.     \n",
    "6. Diskutieren Sie das Ergebnis"
   ]
  },
  {
   "cell_type": "code",
   "execution_count": 41,
   "metadata": {},
   "outputs": [
    {
     "name": "stdout",
     "output_type": "stream",
     "text": [
      "Most similar (as calculated by lastFM) for artist:  Slipknot\n",
      "1.000 \t Stone Sour\n",
      "0.955 \t Korn\n",
      "0.700 \t System of a Down\n",
      "0.638 \t Mudvayne\n",
      "0.521 \t Corey Taylor\n",
      "\n",
      "lastFM API Error for method get_top_fans\n",
      "Apply predefined group of users\n"
     ]
    }
   ],
   "source": [
    "import pylast\n",
    "nw=pylast.LastFMNetwork(api_key = \"993a5bd9d79a98a53677570368d55acd\",api_secret = \"9b8de0b57903ac007cdd8ec9003b341e\",username = \"pythonlab\")\n",
    "band='Slipknot'\n",
    "art1 = nw.get_artist(band)\n",
    "print(\"Most similar (as calculated by lastFM) for artist: \",band)\n",
    "for it in art1.get_similar(5):\n",
    "    print(\"%3.3f \\t %s\"%(it.match, it.item))\n",
    "try:\n",
    "    topfan = art1.get_top_fans()\n",
    "    group = [a.item for a in topfan]\n",
    "except:\n",
    "    print(\"\\nlastFM API Error for method get_top_fans\\nApply predefined group of users\")\n",
    "    usernames=['BrunoJoS','DPREBOYE','MPistol40','NemoNightfall','SkyRif','Wags1382','Znapsen','cortapsyco','emill_67','sattuviitana']\n",
    "    group=[]\n",
    "    for u in usernames:\n",
    "        u1 = nw.get_user(u)\n",
    "        group.append(u1)"
   ]
  },
  {
   "cell_type": "markdown",
   "metadata": {},
   "source": [
    "### Augabe 1"
   ]
  },
  {
   "cell_type": "code",
   "execution_count": 119,
   "metadata": {},
   "outputs": [
    {
     "data": {
      "text/plain": [
       "pylast.LastFMNetwork('993a5bd9d79a98a53677570368d55acd', '9b8de0b57903ac007cdd8ec9003b341e', '', 'pythonlab', '')"
      ]
     },
     "execution_count": 119,
     "metadata": {},
     "output_type": "execute_result"
    }
   ],
   "source": [
    "import pylast\n",
    "\n",
    "network=pylast.LastFMNetwork(api_key = \"993a5bd9d79a98a53677570368d55acd\",api_secret = \"9b8de0b57903ac007cdd8ec9003b341e\",username = \"pythonlab\")\n",
    "network"
   ]
  },
  {
   "cell_type": "markdown",
   "metadata": {},
   "source": [
    "### Augabe 2"
   ]
  },
  {
   "cell_type": "code",
   "execution_count": 121,
   "metadata": {},
   "outputs": [
    {
     "name": "stdout",
     "output_type": "stream",
     "text": [
      "1) \n",
      "Slipknot is an American metal band from Des Moines, Iowa. The band was founded in 1995 by vocalist Anders Colsefni, percussionist Shawn Crahan and bassist Paul Gray. After several lineup changes in its early years, the band settled on nine members for more than a decade: Shawn Crahan, Joey Jordison, Paul Gray, Corey Taylor, Mick Thomson, Jim Root, Craig Jones, Sid Wilson and Chris Fehn. Gray died on May 24, 2010 and Jordison left the band on December 12, 2013. <a href=\"https://www.last.fm/music/Slipknot\">Read more on Last.fm</a>\n"
     ]
    }
   ],
   "source": [
    "band='Slipknot'\n",
    "artist = network.get_artist(\"Slipknot\")\n",
    "print(artist.get_bio_summary())"
   ]
  },
  {
   "cell_type": "markdown",
   "metadata": {},
   "source": [
    "### Augabe 3\n",
    "Die Funktion `get_top_fans` hat für uns nicht zuverlässig funktioniert, daher nutzen wir den vorgegebenen Datensatz"
   ]
  },
  {
   "cell_type": "code",
   "execution_count": 127,
   "metadata": {},
   "outputs": [],
   "source": [
    "# topfans = ... since get_top_fans didn't work!\n",
    "usernames=['BrunoJoS','DPREBOYE','MPistol40','NemoNightfall','SkyRif','Wags1382','Znapsen','cortapsyco','emill_67','sattuviitana']\n",
    "group=[]\n",
    "for u in usernames:\n",
    "  u1 = network.get_user(u)\n",
    "  group.append(u1)"
   ]
  },
  {
   "cell_type": "markdown",
   "metadata": {},
   "source": [
    "### Augabe 4\n",
    "\n",
    "Es gibt insgesamt 10 User und 150 Artists im Dictonary."
   ]
  },
  {
   "cell_type": "code",
   "execution_count": 149,
   "metadata": {},
   "outputs": [],
   "source": [
    "# NOTE!!! Sometimes the API fails, possibly due to rate limiting. If this happens, just run the cell again or some other day.\n",
    "\n",
    "# Aufgabe 4.0 List of Artists\n",
    "def createLastfmUserDict(user_list):\n",
    "  AllBands = []\n",
    "  userDict = {}\n",
    "  \n",
    "  # Get all artists from user and add user to userDict\n",
    "  for user in user_list:\n",
    "    username = user.get_name()\n",
    "    userDict[username] = {}\n",
    "    topartists = user.get_top_artists()[0:20]\n",
    "    \n",
    "    # Add artists to userDict[username] with 1 and if not in AllBands add to allBands\n",
    "    for artist in topartists:\n",
    "      artistname = artist.item.get_name()\n",
    "      userDict[username][artistname] = 1\n",
    "      if artist.item not in AllBands: # Remove duplicates => Found 50\n",
    "        AllBands.append(artist.item)\n",
    "  \n",
    "  # Reiterate after all artists and users are known is to fill up with 0s\n",
    "  for user in userDict:\n",
    "    \n",
    "    for artist in AllBands:\n",
    "      artistname = artist.get_name()\n",
    "      if artistname not in userDict[user]:\n",
    "        userDict[user][artistname] = 0\n",
    "    # Sorting the Dictonaries, this works since Python 3.7\n",
    "    userDict[user] = dict(sorted(userDict[user].items()))\n",
    "\n",
    "  return userDict\n",
    "\n",
    "userDict = createLastfmUserDict(group)"
   ]
  },
  {
   "cell_type": "code",
   "execution_count": 171,
   "metadata": {},
   "outputs": [
    {
     "name": "stdout",
     "output_type": "stream",
     "text": [
      "Total Artists:  150\n"
     ]
    },
    {
     "data": {
      "text/html": [
       "<div>\n",
       "<style scoped>\n",
       "    .dataframe tbody tr th:only-of-type {\n",
       "        vertical-align: middle;\n",
       "    }\n",
       "\n",
       "    .dataframe tbody tr th {\n",
       "        vertical-align: top;\n",
       "    }\n",
       "\n",
       "    .dataframe thead th {\n",
       "        text-align: right;\n",
       "    }\n",
       "</style>\n",
       "<table border=\"1\" class=\"dataframe\">\n",
       "  <thead>\n",
       "    <tr style=\"text-align: right;\">\n",
       "      <th></th>\n",
       "      <th>30 Seconds to Mars</th>\n",
       "      <th>36 Crazyfists</th>\n",
       "      <th>A Perfect Circle</th>\n",
       "      <th>AFI</th>\n",
       "      <th>Alexisonfire</th>\n",
       "      <th>All Time Low</th>\n",
       "      <th>Amon Amarth</th>\n",
       "      <th>Amorphis</th>\n",
       "      <th>Arch Enemy</th>\n",
       "      <th>Arctic Monkeys</th>\n",
       "      <th>...</th>\n",
       "      <th>Trivium</th>\n",
       "      <th>Turmion Kätilöt</th>\n",
       "      <th>Volbeat</th>\n",
       "      <th>Warpaint</th>\n",
       "      <th>Ween</th>\n",
       "      <th>White Zombie</th>\n",
       "      <th>Wintersun</th>\n",
       "      <th>Wu-Tang Clan</th>\n",
       "      <th>blink-182</th>\n",
       "      <th>deadmau5</th>\n",
       "    </tr>\n",
       "  </thead>\n",
       "  <tbody>\n",
       "    <tr>\n",
       "      <th>BrunoJoS</th>\n",
       "      <td>1</td>\n",
       "      <td>0</td>\n",
       "      <td>0</td>\n",
       "      <td>0</td>\n",
       "      <td>0</td>\n",
       "      <td>0</td>\n",
       "      <td>0</td>\n",
       "      <td>0</td>\n",
       "      <td>0</td>\n",
       "      <td>1</td>\n",
       "      <td>...</td>\n",
       "      <td>0</td>\n",
       "      <td>0</td>\n",
       "      <td>0</td>\n",
       "      <td>0</td>\n",
       "      <td>0</td>\n",
       "      <td>0</td>\n",
       "      <td>0</td>\n",
       "      <td>0</td>\n",
       "      <td>0</td>\n",
       "      <td>0</td>\n",
       "    </tr>\n",
       "    <tr>\n",
       "      <th>DPREBOYE</th>\n",
       "      <td>0</td>\n",
       "      <td>0</td>\n",
       "      <td>0</td>\n",
       "      <td>0</td>\n",
       "      <td>0</td>\n",
       "      <td>0</td>\n",
       "      <td>0</td>\n",
       "      <td>0</td>\n",
       "      <td>0</td>\n",
       "      <td>1</td>\n",
       "      <td>...</td>\n",
       "      <td>0</td>\n",
       "      <td>0</td>\n",
       "      <td>0</td>\n",
       "      <td>1</td>\n",
       "      <td>0</td>\n",
       "      <td>0</td>\n",
       "      <td>0</td>\n",
       "      <td>1</td>\n",
       "      <td>0</td>\n",
       "      <td>0</td>\n",
       "    </tr>\n",
       "    <tr>\n",
       "      <th>MPistol40</th>\n",
       "      <td>0</td>\n",
       "      <td>1</td>\n",
       "      <td>1</td>\n",
       "      <td>0</td>\n",
       "      <td>0</td>\n",
       "      <td>0</td>\n",
       "      <td>0</td>\n",
       "      <td>0</td>\n",
       "      <td>0</td>\n",
       "      <td>0</td>\n",
       "      <td>...</td>\n",
       "      <td>0</td>\n",
       "      <td>0</td>\n",
       "      <td>0</td>\n",
       "      <td>0</td>\n",
       "      <td>0</td>\n",
       "      <td>0</td>\n",
       "      <td>0</td>\n",
       "      <td>0</td>\n",
       "      <td>0</td>\n",
       "      <td>0</td>\n",
       "    </tr>\n",
       "    <tr>\n",
       "      <th>NemoNightfall</th>\n",
       "      <td>1</td>\n",
       "      <td>0</td>\n",
       "      <td>0</td>\n",
       "      <td>0</td>\n",
       "      <td>1</td>\n",
       "      <td>1</td>\n",
       "      <td>0</td>\n",
       "      <td>0</td>\n",
       "      <td>0</td>\n",
       "      <td>0</td>\n",
       "      <td>...</td>\n",
       "      <td>1</td>\n",
       "      <td>0</td>\n",
       "      <td>0</td>\n",
       "      <td>0</td>\n",
       "      <td>0</td>\n",
       "      <td>0</td>\n",
       "      <td>0</td>\n",
       "      <td>0</td>\n",
       "      <td>0</td>\n",
       "      <td>0</td>\n",
       "    </tr>\n",
       "    <tr>\n",
       "      <th>SkyRif</th>\n",
       "      <td>0</td>\n",
       "      <td>0</td>\n",
       "      <td>0</td>\n",
       "      <td>0</td>\n",
       "      <td>0</td>\n",
       "      <td>0</td>\n",
       "      <td>1</td>\n",
       "      <td>0</td>\n",
       "      <td>1</td>\n",
       "      <td>0</td>\n",
       "      <td>...</td>\n",
       "      <td>0</td>\n",
       "      <td>0</td>\n",
       "      <td>0</td>\n",
       "      <td>0</td>\n",
       "      <td>0</td>\n",
       "      <td>0</td>\n",
       "      <td>1</td>\n",
       "      <td>0</td>\n",
       "      <td>0</td>\n",
       "      <td>0</td>\n",
       "    </tr>\n",
       "    <tr>\n",
       "      <th>Wags1382</th>\n",
       "      <td>0</td>\n",
       "      <td>0</td>\n",
       "      <td>0</td>\n",
       "      <td>1</td>\n",
       "      <td>0</td>\n",
       "      <td>0</td>\n",
       "      <td>0</td>\n",
       "      <td>0</td>\n",
       "      <td>0</td>\n",
       "      <td>0</td>\n",
       "      <td>...</td>\n",
       "      <td>0</td>\n",
       "      <td>0</td>\n",
       "      <td>0</td>\n",
       "      <td>0</td>\n",
       "      <td>0</td>\n",
       "      <td>0</td>\n",
       "      <td>0</td>\n",
       "      <td>0</td>\n",
       "      <td>1</td>\n",
       "      <td>0</td>\n",
       "    </tr>\n",
       "    <tr>\n",
       "      <th>Znapsen</th>\n",
       "      <td>0</td>\n",
       "      <td>0</td>\n",
       "      <td>0</td>\n",
       "      <td>0</td>\n",
       "      <td>0</td>\n",
       "      <td>0</td>\n",
       "      <td>0</td>\n",
       "      <td>0</td>\n",
       "      <td>0</td>\n",
       "      <td>0</td>\n",
       "      <td>...</td>\n",
       "      <td>0</td>\n",
       "      <td>0</td>\n",
       "      <td>0</td>\n",
       "      <td>0</td>\n",
       "      <td>0</td>\n",
       "      <td>1</td>\n",
       "      <td>0</td>\n",
       "      <td>0</td>\n",
       "      <td>0</td>\n",
       "      <td>0</td>\n",
       "    </tr>\n",
       "    <tr>\n",
       "      <th>cortapsyco</th>\n",
       "      <td>0</td>\n",
       "      <td>0</td>\n",
       "      <td>0</td>\n",
       "      <td>0</td>\n",
       "      <td>0</td>\n",
       "      <td>0</td>\n",
       "      <td>0</td>\n",
       "      <td>0</td>\n",
       "      <td>0</td>\n",
       "      <td>0</td>\n",
       "      <td>...</td>\n",
       "      <td>0</td>\n",
       "      <td>0</td>\n",
       "      <td>0</td>\n",
       "      <td>0</td>\n",
       "      <td>0</td>\n",
       "      <td>0</td>\n",
       "      <td>0</td>\n",
       "      <td>0</td>\n",
       "      <td>0</td>\n",
       "      <td>0</td>\n",
       "    </tr>\n",
       "    <tr>\n",
       "      <th>emill_67</th>\n",
       "      <td>0</td>\n",
       "      <td>0</td>\n",
       "      <td>0</td>\n",
       "      <td>0</td>\n",
       "      <td>0</td>\n",
       "      <td>0</td>\n",
       "      <td>0</td>\n",
       "      <td>0</td>\n",
       "      <td>0</td>\n",
       "      <td>0</td>\n",
       "      <td>...</td>\n",
       "      <td>0</td>\n",
       "      <td>0</td>\n",
       "      <td>0</td>\n",
       "      <td>0</td>\n",
       "      <td>1</td>\n",
       "      <td>0</td>\n",
       "      <td>0</td>\n",
       "      <td>0</td>\n",
       "      <td>0</td>\n",
       "      <td>1</td>\n",
       "    </tr>\n",
       "    <tr>\n",
       "      <th>sattuviitana</th>\n",
       "      <td>0</td>\n",
       "      <td>0</td>\n",
       "      <td>0</td>\n",
       "      <td>0</td>\n",
       "      <td>0</td>\n",
       "      <td>0</td>\n",
       "      <td>0</td>\n",
       "      <td>1</td>\n",
       "      <td>0</td>\n",
       "      <td>0</td>\n",
       "      <td>...</td>\n",
       "      <td>1</td>\n",
       "      <td>1</td>\n",
       "      <td>1</td>\n",
       "      <td>0</td>\n",
       "      <td>0</td>\n",
       "      <td>0</td>\n",
       "      <td>0</td>\n",
       "      <td>0</td>\n",
       "      <td>0</td>\n",
       "      <td>0</td>\n",
       "    </tr>\n",
       "  </tbody>\n",
       "</table>\n",
       "<p>10 rows × 150 columns</p>\n",
       "</div>"
      ],
      "text/plain": [
       "               30 Seconds to Mars  36 Crazyfists  A Perfect Circle  AFI  \\\n",
       "BrunoJoS                        1              0                 0    0   \n",
       "DPREBOYE                        0              0                 0    0   \n",
       "MPistol40                       0              1                 1    0   \n",
       "NemoNightfall                   1              0                 0    0   \n",
       "SkyRif                          0              0                 0    0   \n",
       "Wags1382                        0              0                 0    1   \n",
       "Znapsen                         0              0                 0    0   \n",
       "cortapsyco                      0              0                 0    0   \n",
       "emill_67                        0              0                 0    0   \n",
       "sattuviitana                    0              0                 0    0   \n",
       "\n",
       "               Alexisonfire  All Time Low  Amon Amarth  Amorphis  Arch Enemy  \\\n",
       "BrunoJoS                  0             0            0         0           0   \n",
       "DPREBOYE                  0             0            0         0           0   \n",
       "MPistol40                 0             0            0         0           0   \n",
       "NemoNightfall             1             1            0         0           0   \n",
       "SkyRif                    0             0            1         0           1   \n",
       "Wags1382                  0             0            0         0           0   \n",
       "Znapsen                   0             0            0         0           0   \n",
       "cortapsyco                0             0            0         0           0   \n",
       "emill_67                  0             0            0         0           0   \n",
       "sattuviitana              0             0            0         1           0   \n",
       "\n",
       "               Arctic Monkeys  ...  Trivium  Turmion Kätilöt  Volbeat  \\\n",
       "BrunoJoS                    1  ...        0                0        0   \n",
       "DPREBOYE                    1  ...        0                0        0   \n",
       "MPistol40                   0  ...        0                0        0   \n",
       "NemoNightfall               0  ...        1                0        0   \n",
       "SkyRif                      0  ...        0                0        0   \n",
       "Wags1382                    0  ...        0                0        0   \n",
       "Znapsen                     0  ...        0                0        0   \n",
       "cortapsyco                  0  ...        0                0        0   \n",
       "emill_67                    0  ...        0                0        0   \n",
       "sattuviitana                0  ...        1                1        1   \n",
       "\n",
       "               Warpaint  Ween  White Zombie  Wintersun  Wu-Tang Clan  \\\n",
       "BrunoJoS              0     0             0          0             0   \n",
       "DPREBOYE              1     0             0          0             1   \n",
       "MPistol40             0     0             0          0             0   \n",
       "NemoNightfall         0     0             0          0             0   \n",
       "SkyRif                0     0             0          1             0   \n",
       "Wags1382              0     0             0          0             0   \n",
       "Znapsen               0     0             1          0             0   \n",
       "cortapsyco            0     0             0          0             0   \n",
       "emill_67              0     1             0          0             0   \n",
       "sattuviitana          0     0             0          0             0   \n",
       "\n",
       "               blink-182  deadmau5  \n",
       "BrunoJoS               0         0  \n",
       "DPREBOYE               0         0  \n",
       "MPistol40              0         0  \n",
       "NemoNightfall          0         0  \n",
       "SkyRif                 0         0  \n",
       "Wags1382               1         0  \n",
       "Znapsen                0         0  \n",
       "cortapsyco             0         0  \n",
       "emill_67               0         1  \n",
       "sattuviitana           0         0  \n",
       "\n",
       "[10 rows x 150 columns]"
      ]
     },
     "metadata": {},
     "output_type": "display_data"
    }
   ],
   "source": [
    "\n",
    "print(\"Total Artists: \",len(userDict[\"BrunoJoS\"])) # 150 von 200 Moeglichen Artists => 50 Ueberschneidungen\n",
    "\n",
    "display(pd.DataFrame.from_dict(userDict,orient=\"index\"))"
   ]
  },
  {
   "cell_type": "markdown",
   "metadata": {},
   "source": [
    "### Augabe 5"
   ]
  },
  {
   "cell_type": "code",
   "execution_count": 223,
   "metadata": {},
   "outputs": [
    {
     "data": {
      "text/html": [
       "<div>\n",
       "<style scoped>\n",
       "    .dataframe tbody tr th:only-of-type {\n",
       "        vertical-align: middle;\n",
       "    }\n",
       "\n",
       "    .dataframe tbody tr th {\n",
       "        vertical-align: top;\n",
       "    }\n",
       "\n",
       "    .dataframe thead th {\n",
       "        text-align: right;\n",
       "    }\n",
       "</style>\n",
       "<table border=\"1\" class=\"dataframe\">\n",
       "  <thead>\n",
       "    <tr style=\"text-align: right;\">\n",
       "      <th></th>\n",
       "      <th>Euclid Similarity</th>\n",
       "    </tr>\n",
       "  </thead>\n",
       "  <tbody>\n",
       "    <tr>\n",
       "      <th>NemoNightfall</th>\n",
       "      <td>0.965925</td>\n",
       "    </tr>\n",
       "    <tr>\n",
       "      <th>SkyRif</th>\n",
       "      <td>0.963658</td>\n",
       "    </tr>\n",
       "    <tr>\n",
       "      <th>emill_67</th>\n",
       "      <td>0.962582</td>\n",
       "    </tr>\n",
       "    <tr>\n",
       "      <th>sattuviitana</th>\n",
       "      <td>0.962582</td>\n",
       "    </tr>\n",
       "    <tr>\n",
       "      <th>DPREBOYE</th>\n",
       "      <td>0.961538</td>\n",
       "    </tr>\n",
       "    <tr>\n",
       "      <th>MPistol40</th>\n",
       "      <td>0.961538</td>\n",
       "    </tr>\n",
       "    <tr>\n",
       "      <th>Znapsen</th>\n",
       "      <td>0.961538</td>\n",
       "    </tr>\n",
       "    <tr>\n",
       "      <th>cortapsyco</th>\n",
       "      <td>0.961538</td>\n",
       "    </tr>\n",
       "    <tr>\n",
       "      <th>Wags1382</th>\n",
       "      <td>0.960526</td>\n",
       "    </tr>\n",
       "  </tbody>\n",
       "</table>\n",
       "</div>"
      ],
      "text/plain": [
       "               Euclid Similarity\n",
       "NemoNightfall           0.965925\n",
       "SkyRif                  0.963658\n",
       "emill_67                0.962582\n",
       "sattuviitana            0.962582\n",
       "DPREBOYE                0.961538\n",
       "MPistol40               0.961538\n",
       "Znapsen                 0.961538\n",
       "cortapsyco              0.961538\n",
       "Wags1382                0.960526"
      ]
     },
     "metadata": {},
     "output_type": "display_data"
    }
   ],
   "source": [
    "random_User = \"BrunoJoS\" # Totally random!\n",
    "result = topMatches(userDict, random_User, sim_euclid)\n",
    "display(pd.DataFrame.from_dict(result,orient='index',columns=['Euclid Similarity']))"
   ]
  },
  {
   "cell_type": "markdown",
   "metadata": {},
   "source": [
    "### Aufgabe 6"
   ]
  },
  {
   "cell_type": "code",
   "execution_count": 237,
   "metadata": {},
   "outputs": [
    {
     "name": "stdout",
     "output_type": "stream",
     "text": [
      "Recoomendation based on euclid simularity: \n"
     ]
    },
    {
     "data": {
      "text/html": [
       "<div>\n",
       "<style scoped>\n",
       "    .dataframe tbody tr th:only-of-type {\n",
       "        vertical-align: middle;\n",
       "    }\n",
       "\n",
       "    .dataframe tbody tr th {\n",
       "        vertical-align: top;\n",
       "    }\n",
       "\n",
       "    .dataframe thead th {\n",
       "        text-align: right;\n",
       "    }\n",
       "</style>\n",
       "<table border=\"1\" class=\"dataframe\">\n",
       "  <thead>\n",
       "    <tr style=\"text-align: right;\">\n",
       "      <th></th>\n",
       "      <th>0</th>\n",
       "      <th>1</th>\n",
       "    </tr>\n",
       "  </thead>\n",
       "  <tbody>\n",
       "    <tr>\n",
       "      <th>0</th>\n",
       "      <td>0.555555</td>\n",
       "      <td>Korn</td>\n",
       "    </tr>\n",
       "    <tr>\n",
       "      <th>1</th>\n",
       "      <td>0.444803</td>\n",
       "      <td>Five Finger Death Punch</td>\n",
       "    </tr>\n",
       "    <tr>\n",
       "      <th>2</th>\n",
       "      <td>0.444421</td>\n",
       "      <td>Rage Against the Machine</td>\n",
       "    </tr>\n",
       "    <tr>\n",
       "      <th>3</th>\n",
       "      <td>0.333793</td>\n",
       "      <td>Stone Sour</td>\n",
       "    </tr>\n",
       "    <tr>\n",
       "      <th>4</th>\n",
       "      <td>0.333407</td>\n",
       "      <td>Metallica</td>\n",
       "    </tr>\n",
       "    <tr>\n",
       "      <th>5</th>\n",
       "      <td>0.333407</td>\n",
       "      <td>Red Hot Chili Peppers</td>\n",
       "    </tr>\n",
       "    <tr>\n",
       "      <th>6</th>\n",
       "      <td>0.222655</td>\n",
       "      <td>Trivium</td>\n",
       "    </tr>\n",
       "    <tr>\n",
       "      <th>7</th>\n",
       "      <td>0.222393</td>\n",
       "      <td>Sabaton</td>\n",
       "    </tr>\n",
       "    <tr>\n",
       "      <th>8</th>\n",
       "      <td>0.222272</td>\n",
       "      <td>Lamb of God</td>\n",
       "    </tr>\n",
       "    <tr>\n",
       "      <th>9</th>\n",
       "      <td>0.222148</td>\n",
       "      <td>Pink Floyd</td>\n",
       "    </tr>\n",
       "    <tr>\n",
       "      <th>10</th>\n",
       "      <td>0.222148</td>\n",
       "      <td>In Flames</td>\n",
       "    </tr>\n",
       "    <tr>\n",
       "      <th>11</th>\n",
       "      <td>0.222148</td>\n",
       "      <td>Avenged Sevenfold</td>\n",
       "    </tr>\n",
       "    <tr>\n",
       "      <th>12</th>\n",
       "      <td>0.222028</td>\n",
       "      <td>Pendulum</td>\n",
       "    </tr>\n",
       "    <tr>\n",
       "      <th>13</th>\n",
       "      <td>0.222028</td>\n",
       "      <td>Limp Bizkit</td>\n",
       "    </tr>\n",
       "    <tr>\n",
       "      <th>14</th>\n",
       "      <td>0.221911</td>\n",
       "      <td>Coheed and Cambria</td>\n",
       "    </tr>\n",
       "  </tbody>\n",
       "</table>\n",
       "</div>"
      ],
      "text/plain": [
       "           0                         1\n",
       "0   0.555555                      Korn\n",
       "1   0.444803   Five Finger Death Punch\n",
       "2   0.444421  Rage Against the Machine\n",
       "3   0.333793                Stone Sour\n",
       "4   0.333407                 Metallica\n",
       "5   0.333407     Red Hot Chili Peppers\n",
       "6   0.222655                   Trivium\n",
       "7   0.222393                   Sabaton\n",
       "8   0.222272               Lamb of God\n",
       "9   0.222148                Pink Floyd\n",
       "10  0.222148                 In Flames\n",
       "11  0.222148         Avenged Sevenfold\n",
       "12  0.222028                  Pendulum\n",
       "13  0.222028               Limp Bizkit\n",
       "14  0.221911        Coheed and Cambria"
      ]
     },
     "metadata": {},
     "output_type": "display_data"
    },
    {
     "name": "stdout",
     "output_type": "stream",
     "text": [
      "Recoomendation based on russel rao simularity:\n"
     ]
    },
    {
     "data": {
      "text/html": [
       "<div>\n",
       "<style scoped>\n",
       "    .dataframe tbody tr th:only-of-type {\n",
       "        vertical-align: middle;\n",
       "    }\n",
       "\n",
       "    .dataframe tbody tr th {\n",
       "        vertical-align: top;\n",
       "    }\n",
       "\n",
       "    .dataframe thead th {\n",
       "        text-align: right;\n",
       "    }\n",
       "</style>\n",
       "<table border=\"1\" class=\"dataframe\">\n",
       "  <thead>\n",
       "    <tr style=\"text-align: right;\">\n",
       "      <th></th>\n",
       "      <th>0</th>\n",
       "      <th>1</th>\n",
       "    </tr>\n",
       "  </thead>\n",
       "  <tbody>\n",
       "    <tr>\n",
       "      <th>0</th>\n",
       "      <td>0.56</td>\n",
       "      <td>Korn</td>\n",
       "    </tr>\n",
       "    <tr>\n",
       "      <th>1</th>\n",
       "      <td>0.56</td>\n",
       "      <td>Five Finger Death Punch</td>\n",
       "    </tr>\n",
       "    <tr>\n",
       "      <th>2</th>\n",
       "      <td>0.48</td>\n",
       "      <td>Stone Sour</td>\n",
       "    </tr>\n",
       "    <tr>\n",
       "      <th>3</th>\n",
       "      <td>0.44</td>\n",
       "      <td>Rage Against the Machine</td>\n",
       "    </tr>\n",
       "    <tr>\n",
       "      <th>4</th>\n",
       "      <td>0.36</td>\n",
       "      <td>Metallica</td>\n",
       "    </tr>\n",
       "    <tr>\n",
       "      <th>5</th>\n",
       "      <td>0.36</td>\n",
       "      <td>Red Hot Chili Peppers</td>\n",
       "    </tr>\n",
       "    <tr>\n",
       "      <th>6</th>\n",
       "      <td>0.36</td>\n",
       "      <td>Trivium</td>\n",
       "    </tr>\n",
       "    <tr>\n",
       "      <th>7</th>\n",
       "      <td>0.28</td>\n",
       "      <td>Sabaton</td>\n",
       "    </tr>\n",
       "    <tr>\n",
       "      <th>8</th>\n",
       "      <td>0.24</td>\n",
       "      <td>Bring Me the Horizon</td>\n",
       "    </tr>\n",
       "    <tr>\n",
       "      <th>9</th>\n",
       "      <td>0.24</td>\n",
       "      <td>Bullet for My Valentine</td>\n",
       "    </tr>\n",
       "    <tr>\n",
       "      <th>10</th>\n",
       "      <td>0.24</td>\n",
       "      <td>Breaking Benjamin</td>\n",
       "    </tr>\n",
       "    <tr>\n",
       "      <th>11</th>\n",
       "      <td>0.24</td>\n",
       "      <td>Sick Puppies</td>\n",
       "    </tr>\n",
       "    <tr>\n",
       "      <th>12</th>\n",
       "      <td>0.24</td>\n",
       "      <td>Alexisonfire</td>\n",
       "    </tr>\n",
       "    <tr>\n",
       "      <th>13</th>\n",
       "      <td>0.24</td>\n",
       "      <td>Mumford &amp; Sons</td>\n",
       "    </tr>\n",
       "    <tr>\n",
       "      <th>14</th>\n",
       "      <td>0.24</td>\n",
       "      <td>Memphis May Fire</td>\n",
       "    </tr>\n",
       "  </tbody>\n",
       "</table>\n",
       "</div>"
      ],
      "text/plain": [
       "       0                         1\n",
       "0   0.56                      Korn\n",
       "1   0.56   Five Finger Death Punch\n",
       "2   0.48                Stone Sour\n",
       "3   0.44  Rage Against the Machine\n",
       "4   0.36                 Metallica\n",
       "5   0.36     Red Hot Chili Peppers\n",
       "6   0.36                   Trivium\n",
       "7   0.28                   Sabaton\n",
       "8   0.24      Bring Me the Horizon\n",
       "9   0.24   Bullet for My Valentine\n",
       "10  0.24         Breaking Benjamin\n",
       "11  0.24              Sick Puppies\n",
       "12  0.24              Alexisonfire\n",
       "13  0.24            Mumford & Sons\n",
       "14  0.24          Memphis May Fire"
      ]
     },
     "metadata": {},
     "output_type": "display_data"
    }
   ],
   "source": [
    "print(\"Recoomendation based on euclid simularity: \")\n",
    "display(pd.DataFrame.from_dict(getRecommendations(userDict,random_User, sim_euclid)[:15]))\n",
    "\n",
    "print(\"Recoomendation based on russel rao simularity:\")\n",
    "display(pd.DataFrame.from_dict(getRecommendations(userDict,random_User, sim_RusselRao)[:15]))"
   ]
  },
  {
   "cell_type": "markdown",
   "metadata": {},
   "source": [
    "### Aufgabe 7 - Disskusion der Ergebnisse\n",
    "\n"
   ]
  },
  {
   "cell_type": "markdown",
   "metadata": {},
   "source": [
    "### Zusatz Aufgabe\n",
    "\n",
    "**TODO**"
   ]
  }
 ],
 "metadata": {
  "kernelspec": {
   "display_name": "Python 3.10.8 64-bit (microsoft store)",
   "language": "python",
   "name": "python3"
  },
  "language_info": {
   "codemirror_mode": {
    "name": "ipython",
    "version": 3
   },
   "file_extension": ".py",
   "mimetype": "text/x-python",
   "name": "python",
   "nbconvert_exporter": "python",
   "pygments_lexer": "ipython3",
   "version": "3.10.8"
  },
  "nav_menu": {},
  "toc": {
   "base_numbering": 1,
   "nav_menu": {},
   "number_sections": true,
   "sideBar": true,
   "skip_h1_title": false,
   "title_cell": "Table of Contents",
   "title_sidebar": "Contents",
   "toc_cell": false,
   "toc_position": {},
   "toc_section_display": "block",
   "toc_window_display": true
  },
  "toc_position": {
   "height": "664px",
   "left": "0px",
   "right": "1209.67px",
   "top": "125.333px",
   "width": "212px"
  },
  "vscode": {
   "interpreter": {
    "hash": "0191aa6197a52f78b480b9b627ae8da99d9b21f3644c493703e41348b215b163"
   }
  }
 },
 "nbformat": 4,
 "nbformat_minor": 1
}
